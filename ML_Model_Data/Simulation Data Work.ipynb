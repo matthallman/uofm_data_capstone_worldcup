{
 "cells": [
  {
   "cell_type": "code",
   "execution_count": 1,
   "id": "91d664c0",
   "metadata": {},
   "outputs": [],
   "source": [
    "#Imports\n",
    "\n",
    "import pickle\n",
    "import numpy as np\n",
    "import pandas as pd\n",
    "\n",
    "with open('group_results.pickle', 'rb') as file:\n",
    "    group_dict = pickle.load(file)\n",
    "    \n",
    "squad_predictions = pd.read_csv(r'CSVs\\Predictions\\Predictions_8-21.csv', encoding='latin-1')\n"
   ]
  },
  {
   "cell_type": "code",
   "execution_count": null,
   "id": "81c60e73",
   "metadata": {},
   "outputs": [],
   "source": [
    "# Dataframe adjustments and Dictionary Creation\n",
    "squad_predictions.drop(['Group'], axis=1, inplace=True)\n",
    "squad_strength_dict = squad_predictions.T.to_dict('dict')\n",
    "squad_list = squad_predictions['Squad'].to_dict()"
   ]
  },
  {
   "cell_type": "code",
   "execution_count": 2,
   "id": "54e72d8b",
   "metadata": {},
   "outputs": [
    {
     "data": {
      "text/plain": [
       "[{'team': 'Qatar',\n",
       "  'group': 'A',\n",
       "  'team_percent': 0.6010889696172896,\n",
       "  'wins': array([1, 3, 1, ..., 2, 1, 0]),\n",
       "  'points': array([3, 9, 3, ..., 6, 3, 0])},\n",
       " {'team': 'Iran',\n",
       "  'group': 'B',\n",
       "  'team_percent': 0.697029989208942,\n",
       "  'wins': array([2, 2, 1, ..., 1, 0, 0]),\n",
       "  'points': array([6, 6, 3, ..., 3, 0, 0])},\n",
       " {'team': 'South Korea',\n",
       "  'group': 'H',\n",
       "  'team_percent': 0.7283852252752075,\n",
       "  'wins': array([2, 3, 1, ..., 1, 2, 2]),\n",
       "  'points': array([6, 9, 3, ..., 3, 6, 6])},\n",
       " {'team': 'Japan',\n",
       "  'group': 'E',\n",
       "  'team_percent': 0.5946461185980861,\n",
       "  'wins': array([1, 2, 0, ..., 2, 0, 0]),\n",
       "  'points': array([3, 6, 0, ..., 6, 0, 0])},\n",
       " {'team': 'Saudi Arabia',\n",
       "  'group': 'C',\n",
       "  'team_percent': 0.6266449554239172,\n",
       "  'wins': array([3, 1, 3, ..., 0, 1, 2]),\n",
       "  'points': array([9, 3, 9, ..., 0, 3, 6])},\n",
       " {'team': 'Australia',\n",
       "  'group': 'D',\n",
       "  'team_percent': 0.6694042296891612,\n",
       "  'wins': array([1, 1, 0, ..., 1, 0, 2]),\n",
       "  'points': array([3, 3, 0, ..., 3, 0, 6])},\n",
       " {'team': 'Ghana',\n",
       "  'group': 'H',\n",
       "  'team_percent': 0.48105895195737,\n",
       "  'wins': array([1, 0, 0, ..., 1, 0, 0]),\n",
       "  'points': array([3, 0, 0, ..., 3, 0, 0])},\n",
       " {'team': 'Senegal',\n",
       "  'group': 'A',\n",
       "  'team_percent': 0.7681052591852667,\n",
       "  'wins': array([2, 1, 2, ..., 1, 3, 2]),\n",
       "  'points': array([6, 3, 6, ..., 3, 9, 6])},\n",
       " {'team': 'Tunisia',\n",
       "  'group': 'D',\n",
       "  'team_percent': 0.6490526723989217,\n",
       "  'wins': array([2, 1, 1, ..., 2, 2, 1]),\n",
       "  'points': array([6, 3, 3, ..., 6, 6, 3])},\n",
       " {'team': 'Cameroon',\n",
       "  'group': 'G',\n",
       "  'team_percent': 0.7152978817357106,\n",
       "  'wins': array([0, 0, 1, ..., 2, 1, 1]),\n",
       "  'points': array([0, 0, 3, ..., 6, 3, 3])},\n",
       " {'team': 'Morocco',\n",
       "  'group': 'F',\n",
       "  'team_percent': 0.7931955609918435,\n",
       "  'wins': array([2, 1, 1, ..., 2, 3, 1]),\n",
       "  'points': array([6, 3, 3, ..., 6, 9, 3])},\n",
       " {'team': 'Canada',\n",
       "  'group': 'F',\n",
       "  'team_percent': 0.6325381919560558,\n",
       "  'wins': array([1, 1, 1, ..., 0, 0, 1]),\n",
       "  'points': array([3, 3, 3, ..., 0, 0, 3])},\n",
       " {'team': 'Mexico',\n",
       "  'group': 'C',\n",
       "  'team_percent': 0.7567567102263658,\n",
       "  'wins': array([1, 1, 2, ..., 3, 3, 2]),\n",
       "  'points': array([3, 3, 6, ..., 9, 9, 6])},\n",
       " {'team': 'United States',\n",
       "  'group': 'B',\n",
       "  'team_percent': 0.6836752213418587,\n",
       "  'wins': array([2, 0, 2, ..., 2, 3, 2]),\n",
       "  'points': array([6, 0, 6, ..., 6, 9, 6])},\n",
       " {'team': 'Costa Rica',\n",
       "  'group': 'E',\n",
       "  'team_percent': 0.5262107808409711,\n",
       "  'wins': array([1, 0, 2, ..., 1, 1, 2]),\n",
       "  'points': array([3, 0, 6, ..., 3, 3, 6])},\n",
       " {'team': 'Brazil',\n",
       "  'group': 'G',\n",
       "  'team_percent': 0.8156744452581934,\n",
       "  'wins': array([3, 3, 0, ..., 3, 2, 2]),\n",
       "  'points': array([9, 9, 0, ..., 9, 6, 6])},\n",
       " {'team': 'Argentina',\n",
       "  'group': 'C',\n",
       "  'team_percent': 0.7131769365295317,\n",
       "  'wins': array([0, 2, 0, ..., 2, 1, 1]),\n",
       "  'points': array([0, 6, 0, ..., 6, 3, 3])},\n",
       " {'team': 'Ecuador',\n",
       "  'group': 'A',\n",
       "  'team_percent': 0.5032383034329192,\n",
       "  'wins': array([0, 0, 1, ..., 1, 1, 2]),\n",
       "  'points': array([0, 0, 3, ..., 3, 3, 6])},\n",
       " {'team': 'Uruguay',\n",
       "  'group': 'H',\n",
       "  'team_percent': 0.54848619952249,\n",
       "  'wins': array([1, 1, 2, ..., 1, 2, 1]),\n",
       "  'points': array([3, 3, 6, ..., 3, 6, 3])},\n",
       " {'team': 'Germany',\n",
       "  'group': 'E',\n",
       "  'team_percent': 0.8197227828307547,\n",
       "  'wins': array([3, 2, 2, ..., 2, 2, 1]),\n",
       "  'points': array([9, 6, 6, ..., 6, 6, 3])},\n",
       " {'team': 'Denmark',\n",
       "  'group': 'D',\n",
       "  'team_percent': 0.7785871019181405,\n",
       "  'wins': array([2, 3, 2, ..., 1, 1, 1]),\n",
       "  'points': array([6, 9, 6, ..., 3, 3, 3])},\n",
       " {'team': 'Belgium',\n",
       "  'group': 'F',\n",
       "  'team_percent': 0.8284744476959994,\n",
       "  'wins': array([2, 2, 3, ..., 2, 1, 3]),\n",
       "  'points': array([6, 6, 9, ..., 6, 3, 9])},\n",
       " {'team': 'France',\n",
       "  'group': 'D',\n",
       "  'team_percent': 0.7803603815008513,\n",
       "  'wins': array([1, 1, 3, ..., 2, 3, 2]),\n",
       "  'points': array([3, 3, 9, ..., 6, 9, 6])},\n",
       " {'team': 'Croatia',\n",
       "  'group': 'F',\n",
       "  'team_percent': 0.6995670575552531,\n",
       "  'wins': array([1, 2, 1, ..., 2, 2, 1]),\n",
       "  'points': array([3, 6, 3, ..., 6, 6, 3])},\n",
       " {'team': 'Spain',\n",
       "  'group': 'E',\n",
       "  'team_percent': 0.8270360319558283,\n",
       "  'wins': array([1, 2, 2, ..., 1, 3, 3]),\n",
       "  'points': array([3, 6, 6, ..., 3, 9, 9])},\n",
       " {'team': 'Serbia',\n",
       "  'group': 'G',\n",
       "  'team_percent': 0.6815502055643873,\n",
       "  'wins': array([1, 2, 2, ..., 0, 2, 1]),\n",
       "  'points': array([3, 6, 6, ..., 0, 6, 3])},\n",
       " {'team': 'England',\n",
       "  'group': 'B',\n",
       "  'team_percent': 0.8284482998923528,\n",
       "  'wins': array([2, 3, 2, ..., 3, 2, 3]),\n",
       "  'points': array([6, 9, 6, ..., 9, 6, 9])},\n",
       " {'team': 'Switzerland',\n",
       "  'group': 'G',\n",
       "  'team_percent': 0.6837563792111145,\n",
       "  'wins': array([2, 1, 3, ..., 1, 1, 2]),\n",
       "  'points': array([6, 3, 9, ..., 3, 3, 6])},\n",
       " {'team': 'Netherlands',\n",
       "  'group': 'A',\n",
       "  'team_percent': 0.847292970427077,\n",
       "  'wins': array([3, 2, 2, ..., 2, 1, 2]),\n",
       "  'points': array([9, 6, 6, ..., 6, 3, 6])},\n",
       " {'team': 'Portugal',\n",
       "  'group': 'H',\n",
       "  'team_percent': 0.7873429478698413,\n",
       "  'wins': array([2, 2, 3, ..., 3, 2, 3]),\n",
       "  'points': array([6, 6, 9, ..., 9, 6, 9])},\n",
       " {'team': 'Poland',\n",
       "  'group': 'C',\n",
       "  'team_percent': 0.6397766893269291,\n",
       "  'wins': array([2, 2, 1, ..., 1, 1, 1]),\n",
       "  'points': array([6, 6, 3, ..., 3, 3, 3])},\n",
       " {'team': 'Wales',\n",
       "  'group': 'B',\n",
       "  'team_percent': 0.5442103817849258,\n",
       "  'wins': array([0, 1, 1, ..., 0, 1, 1]),\n",
       "  'points': array([0, 3, 3, ..., 0, 3, 3])}]"
      ]
     },
     "execution_count": 2,
     "metadata": {},
     "output_type": "execute_result"
    }
   ],
   "source": [
    "group_dict"
   ]
  },
  {
   "cell_type": "code",
   "execution_count": null,
   "id": "e5c15be6",
   "metadata": {},
   "outputs": [],
   "source": [
    "type(squad_predictions['Squad'])"
   ]
  },
  {
   "cell_type": "code",
   "execution_count": null,
   "id": "662a3463",
   "metadata": {},
   "outputs": [],
   "source": [
    "def get_key(val):\n",
    "    for key, value in squad_list.items():\n",
    "        if val == value:\n",
    "            return key"
   ]
  },
  {
   "cell_type": "code",
   "execution_count": null,
   "id": "fdc5dd3f",
   "metadata": {},
   "outputs": [],
   "source": [
    "team1 = 'Qatar'\n",
    "team2 = 'Iran' "
   ]
  },
  {
   "cell_type": "code",
   "execution_count": null,
   "id": "0bc0d71f",
   "metadata": {},
   "outputs": [],
   "source": [
    "np.random.seed(22)\n",
    "num_sims = 1000"
   ]
  },
  {
   "cell_type": "code",
   "execution_count": null,
   "id": "f361cb3f",
   "metadata": {},
   "outputs": [],
   "source": [
    "squad_strength_dict"
   ]
  },
  {
   "cell_type": "code",
   "execution_count": null,
   "id": "d287e75d",
   "metadata": {},
   "outputs": [],
   "source": [
    "#get_key function to return Team number when given a key (team name)\n",
    "\n",
    "def get_key(val):\n",
    "    for key, value in squad_list.items():\n",
    "        if val == value:\n",
    "            return key\n",
    "\n",
    "#This needs to be a dynamic variable that the user can pick from\n",
    "\n",
    "team1 = 'Qatar'\n",
    "team2 = 'Iran'    \n",
    "        \n",
    "#Simulation Setup\n",
    "\n",
    "np.random.seed(22)\n",
    "num_sims = 10000\n",
    "    \n",
    "# Need to calculate Match probability given two teams\n",
    "        \n",
    "def matchup_simulator(team1, team2):\n",
    "    \n",
    "#     # Get team numbers for dictionary reference\n",
    "    team1_number = get_key(team1)\n",
    "    team2_number = get_key(team2)\n",
    "    \n",
    "    # Get Squad Percentages\n",
    "    S1_percent = squad_strength_dict[team1_number]['% of Points Taken']\n",
    "    S2_percent = squad_strength_dict[team2_number]['% of Points Taken']\n",
    "    \n",
    "    # Calculating Probability that S1 wins given the two squad percentages S2_prob = 1 - S1_prob\n",
    "    \n",
    "    S1_prob = ((S1_percent - (S1_percent*S2_percent)) / (S1_percent + S2_percent - (2 * S1_percent * S2_percent)))\n",
    "    \n",
    "    # Simulating match num_sims times, returns an array of 0 and 1, 1 = squad one wins\n",
    "    \n",
    "    match_results = np.random.binomial(n=1, p = S1_prob, size = num_sims)\n",
    "    \n",
    "    # Wins per num_sims\n",
    "    \n",
    "    S1_win_percent = np.mean(match_results)\n",
    "    \n",
    "    print(f\"{team1} Wins{S1_win_percent: .2%} of the time against {team2} across {num_sims} simulations.\")\n",
    "\n",
    "    "
   ]
  },
  {
   "cell_type": "code",
   "execution_count": null,
   "id": "93f82e00",
   "metadata": {},
   "outputs": [],
   "source": [
    "matchup_simulator('United States', 'Tunisia')"
   ]
  },
  {
   "cell_type": "code",
   "execution_count": null,
   "id": "2408766f",
   "metadata": {},
   "outputs": [],
   "source": [
    "S1_win_percent"
   ]
  },
  {
   "cell_type": "code",
   "execution_count": null,
   "id": "eb3ed5ac",
   "metadata": {},
   "outputs": [],
   "source": []
  },
  {
   "cell_type": "code",
   "execution_count": null,
   "id": "800ef3cc",
   "metadata": {},
   "outputs": [],
   "source": [
    "np.random.binomial(n=1, p = S1_prob, size = num_sims)"
   ]
  },
  {
   "cell_type": "code",
   "execution_count": null,
   "id": "4a9ca570",
   "metadata": {},
   "outputs": [],
   "source": [
    "squad_strength_dict[team1_number]"
   ]
  },
  {
   "cell_type": "code",
   "execution_count": null,
   "id": "8d0a59e6",
   "metadata": {},
   "outputs": [],
   "source": [
    "# Get team numbers for dictionary reference\n",
    "team1_number = get_key(team1)\n",
    "team2_number = get_key(team2)\n",
    "    \n",
    "    # Get Squad Percentages\n",
    "S1_percent = squad_strength_dict[team1_number]\n",
    "S2_percent = squad_strength_dict[team2_number]\n",
    "    \n",
    "    # Calculating Probability that S1 wins given the two squad percentages S2_prob = 1 - S1_prob\n",
    "    \n",
    "S1_prob = ((S1_percent - (S1_percent*S2_percent)) / (S1_percent + S2_percent - (2 * S1_percent * S2_percent)))\n",
    "    \n",
    "# Simulating match num_sims times, returns an array of 0 and 1, 1 = squad one wins\n",
    "    \n",
    "match_results = np.random.binomial(n=1, p = S1_prob, size = num_sims)\n",
    "    \n",
    "    # Wins per num_sims\n",
    "    \n",
    "S1_win_percent = np.mean(match_results)"
   ]
  },
  {
   "cell_type": "code",
   "execution_count": null,
   "id": "4518ae60",
   "metadata": {},
   "outputs": [],
   "source": [
    "S1_percent = squad_strength_dict[team1_number]"
   ]
  },
  {
   "cell_type": "code",
   "execution_count": null,
   "id": "87d1d8a0",
   "metadata": {},
   "outputs": [],
   "source": [
    "S1_win_percent"
   ]
  },
  {
   "cell_type": "code",
   "execution_count": null,
   "id": "9cf1f6b6",
   "metadata": {},
   "outputs": [],
   "source": [
    "squad_strength_dict[team1_number]['% of Points Taken']"
   ]
  },
  {
   "cell_type": "code",
   "execution_count": null,
   "id": "be58900a",
   "metadata": {},
   "outputs": [],
   "source": [
    "team1_number = get_key(team1)\n",
    "team2_number = get_key(team2)"
   ]
  },
  {
   "cell_type": "code",
   "execution_count": null,
   "id": "1f10c9ec",
   "metadata": {},
   "outputs": [],
   "source": [
    " team1_number = get_key(team1)"
   ]
  },
  {
   "cell_type": "code",
   "execution_count": null,
   "id": "1df0c09d",
   "metadata": {},
   "outputs": [],
   "source": [
    "team1_number"
   ]
  },
  {
   "cell_type": "code",
   "execution_count": null,
   "id": "8a251bbe",
   "metadata": {},
   "outputs": [],
   "source": [
    "print(matchup_simulator('United States','England'))"
   ]
  },
  {
   "cell_type": "code",
   "execution_count": null,
   "id": "7135d5cd",
   "metadata": {},
   "outputs": [],
   "source": [
    "squad_strength_dict"
   ]
  },
  {
   "cell_type": "code",
   "execution_count": null,
   "id": "54b5f734",
   "metadata": {},
   "outputs": [],
   "source": [
    "S1_prob"
   ]
  },
  {
   "cell_type": "code",
   "execution_count": null,
   "id": "341bccb3",
   "metadata": {},
   "outputs": [],
   "source": [
    "match_results"
   ]
  },
  {
   "cell_type": "code",
   "execution_count": null,
   "id": "703817da",
   "metadata": {},
   "outputs": [],
   "source": [
    "np.mean(match_results[0:1])"
   ]
  },
  {
   "cell_type": "code",
   "execution_count": null,
   "id": "69d3abc4",
   "metadata": {},
   "outputs": [],
   "source": [
    "points_list"
   ]
  },
  {
   "cell_type": "code",
   "execution_count": null,
   "id": "d8b481f1",
   "metadata": {},
   "outputs": [],
   "source": [
    "sum(group_dict[1]['wins'])/100000"
   ]
  },
  {
   "cell_type": "code",
   "execution_count": null,
   "id": "cd6dc4f6",
   "metadata": {},
   "outputs": [],
   "source": [
    "for i in range(len(world_cup_teams)):\n",
    "    win_avg = sum(group_dict[i]['wins']) / 100000\n",
    "    win_list.append(win_avg)"
   ]
  },
  {
   "cell_type": "code",
   "execution_count": null,
   "id": "dcfd84a0",
   "metadata": {},
   "outputs": [],
   "source": [
    "world_cup_teams['Avg. Group Stage Points'] = points_list "
   ]
  },
  {
   "cell_type": "code",
   "execution_count": null,
   "id": "9fcef309",
   "metadata": {},
   "outputs": [],
   "source": [
    "world_cup_teams['Avg. Group Stage Wins'] = win_list "
   ]
  },
  {
   "cell_type": "code",
   "execution_count": null,
   "id": "ac4bec9e",
   "metadata": {},
   "outputs": [],
   "source": [
    "group_dict[0]"
   ]
  },
  {
   "cell_type": "code",
   "execution_count": null,
   "id": "ab484692",
   "metadata": {},
   "outputs": [],
   "source": [
    "final_group_table = world_cup_teams.sort_values(by='Avg. Group Stage Points', ascending = False)"
   ]
  },
  {
   "cell_type": "code",
   "execution_count": null,
   "id": "f92fcdb6",
   "metadata": {},
   "outputs": [],
   "source": [
    "final_group_table.loc(final_group_table['Group'] == 'E'"
   ]
  },
  {
   "cell_type": "code",
   "execution_count": null,
   "id": "dda9918c",
   "metadata": {},
   "outputs": [],
   "source": [
    "final_group_table.drop(['Date qualified', 'Key Competition', 'Key'], axis=1, inplace = True)"
   ]
  },
  {
   "cell_type": "code",
   "execution_count": null,
   "id": "7860d86d",
   "metadata": {},
   "outputs": [],
   "source": [
    "final_group_table"
   ]
  },
  {
   "cell_type": "code",
   "execution_count": null,
   "id": "3f38de26",
   "metadata": {},
   "outputs": [],
   "source": [
    "final_group_table.to_csv('final_group_table.csv',index=False)"
   ]
  },
  {
   "cell_type": "code",
   "execution_count": null,
   "id": "7c0e6038",
   "metadata": {},
   "outputs": [],
   "source": [
    "group_labels = ['A','B','C','D','E','F','G','H']"
   ]
  },
  {
   "cell_type": "code",
   "execution_count": null,
   "id": "37ef7110",
   "metadata": {},
   "outputs": [],
   "source": [
    "print(f\"'{groups[2]}'\")"
   ]
  },
  {
   "cell_type": "code",
   "execution_count": null,
   "id": "299c438b",
   "metadata": {},
   "outputs": [],
   "source": [
    "with open('final_table.pickle', 'wb') as file:\n",
    "    pickle.dump(final_group_table, file)"
   ]
  },
  {
   "cell_type": "code",
   "execution_count": null,
   "id": "fd316360",
   "metadata": {},
   "outputs": [],
   "source": [
    "group_tables = []"
   ]
  },
  {
   "cell_type": "code",
   "execution_count": null,
   "id": "8a84190e",
   "metadata": {},
   "outputs": [],
   "source": [
    "group_tables"
   ]
  },
  {
   "cell_type": "code",
   "execution_count": null,
   "id": "ac9cbb59",
   "metadata": {},
   "outputs": [],
   "source": [
    "type(group_tables)"
   ]
  },
  {
   "cell_type": "code",
   "execution_count": null,
   "id": "1908e134",
   "metadata": {},
   "outputs": [],
   "source": [
    "group_tables[6]"
   ]
  },
  {
   "cell_type": "code",
   "execution_count": null,
   "id": "506e0905",
   "metadata": {},
   "outputs": [],
   "source": [
    "group_tables[0]"
   ]
  },
  {
   "cell_type": "code",
   "execution_count": null,
   "id": "9d72bcf4",
   "metadata": {},
   "outputs": [],
   "source": [
    "for i in range(len(group_labels)):\n",
    "    group_table = final_group_table.loc[(final_group_table['Group'] == group_labels[i])]\n",
    "    group_tables.append(group_table)\n",
    "\n",
    "\n"
   ]
  },
  {
   "cell_type": "code",
   "execution_count": null,
   "id": "de863984",
   "metadata": {},
   "outputs": [],
   "source": [
    "win_list"
   ]
  },
  {
   "cell_type": "code",
   "execution_count": null,
   "id": "c161cf17",
   "metadata": {},
   "outputs": [],
   "source": [
    "import pandas as pd"
   ]
  },
  {
   "cell_type": "code",
   "execution_count": 3,
   "id": "da0b6408",
   "metadata": {},
   "outputs": [],
   "source": [
    "final_match_sims = pd.read_csv(r'CSVs\\Predictions\\all_knockout_matches.csv' , encoding ='latin-1')"
   ]
  },
  {
   "cell_type": "code",
   "execution_count": null,
   "id": "df5c2de5",
   "metadata": {},
   "outputs": [],
   "source": [
    "final_match_sims.loc([''])"
   ]
  },
  {
   "cell_type": "code",
   "execution_count": null,
   "id": "73e8610b",
   "metadata": {
    "scrolled": true
   },
   "outputs": [],
   "source": [
    "squad_2_teams = final_match_sims.groupby('Group')['Squad 2'].value_counts()"
   ]
  },
  {
   "cell_type": "code",
   "execution_count": null,
   "id": "43759984",
   "metadata": {},
   "outputs": [],
   "source": [
    "squad_2_teams.to_csv('squad_2_teams.csv')"
   ]
  },
  {
   "cell_type": "code",
   "execution_count": null,
   "id": "06d86464",
   "metadata": {},
   "outputs": [],
   "source": [
    "group_dict"
   ]
  },
  {
   "cell_type": "code",
   "execution_count": 4,
   "id": "251c5244",
   "metadata": {},
   "outputs": [],
   "source": [
    "match_sim_cleaned = final_match_sims.drop(['Stage','Squad 1 Key', 'Squad 2 Key', 'S1_wins'], axis=1).copy()"
   ]
  },
  {
   "cell_type": "code",
   "execution_count": null,
   "id": "2befc313",
   "metadata": {},
   "outputs": [],
   "source": [
    "match_sim_cleaned.shape"
   ]
  },
  {
   "cell_type": "code",
   "execution_count": null,
   "id": "2579ca1a",
   "metadata": {},
   "outputs": [],
   "source": [
    "import numpy as np"
   ]
  },
  {
   "cell_type": "code",
   "execution_count": 5,
   "id": "7b10b539",
   "metadata": {},
   "outputs": [],
   "source": [
    " US_Matches = match_sim_cleaned.loc[(match_sim_cleaned['Squad 1'] == 'United States') | (match_sim_cleaned['Squad 2'] == 'United States')]"
   ]
  },
  {
   "cell_type": "code",
   "execution_count": 10,
   "id": "a8a1284c",
   "metadata": {},
   "outputs": [],
   "source": [
    " Netherlands = match_sim_cleaned.loc[(match_sim_cleaned['Squad 1'] == 'Netherlands') | (match_sim_cleaned['Squad 2'] == 'Netherlands')]"
   ]
  },
  {
   "cell_type": "code",
   "execution_count": 11,
   "id": "762b61d1",
   "metadata": {},
   "outputs": [
    {
     "name": "stderr",
     "output_type": "stream",
     "text": [
      "C:\\ProgramData\\Anaconda3\\envs\\mlenv\\lib\\site-packages\\ipykernel_launcher.py:1: SettingWithCopyWarning: \n",
      "A value is trying to be set on a copy of a slice from a DataFrame.\n",
      "Try using .loc[row_indexer,col_indexer] = value instead\n",
      "\n",
      "See the caveats in the documentation: https://pandas.pydata.org/pandas-docs/stable/user_guide/indexing.html#returning-a-view-versus-a-copy\n",
      "  \"\"\"Entry point for launching an IPython kernel.\n"
     ]
    }
   ],
   "source": [
    "Netherlands['Opponent'] = np.where(Netherlands['Squad 1'] == 'Netherlands', Netherlands['Squad 2'], Netherlands['Squad 1'])"
   ]
  },
  {
   "cell_type": "code",
   "execution_count": null,
   "id": "6fa90510",
   "metadata": {},
   "outputs": [],
   "source": [
    "US_Matches.drop(['Test'], axis=1, inplace=True)"
   ]
  },
  {
   "cell_type": "code",
   "execution_count": 12,
   "id": "37ecd8b8",
   "metadata": {},
   "outputs": [
    {
     "data": {
      "text/html": [
       "<div>\n",
       "<style scoped>\n",
       "    .dataframe tbody tr th:only-of-type {\n",
       "        vertical-align: middle;\n",
       "    }\n",
       "\n",
       "    .dataframe tbody tr th {\n",
       "        vertical-align: top;\n",
       "    }\n",
       "\n",
       "    .dataframe thead th {\n",
       "        text-align: right;\n",
       "    }\n",
       "</style>\n",
       "<table border=\"1\" class=\"dataframe\">\n",
       "  <thead>\n",
       "    <tr style=\"text-align: right;\">\n",
       "      <th></th>\n",
       "      <th>Match</th>\n",
       "      <th>Group</th>\n",
       "      <th>Squad 1</th>\n",
       "      <th>S1%</th>\n",
       "      <th>Squad 1 Seed</th>\n",
       "      <th>Squad 2</th>\n",
       "      <th>S2%</th>\n",
       "      <th>Squad 2 Seed</th>\n",
       "      <th>S1_Prob</th>\n",
       "      <th>Simulation</th>\n",
       "      <th>Match Winner</th>\n",
       "      <th>Opponent</th>\n",
       "    </tr>\n",
       "  </thead>\n",
       "  <tbody>\n",
       "    <tr>\n",
       "      <th>0</th>\n",
       "      <td>49</td>\n",
       "      <td>R16</td>\n",
       "      <td>Netherlands</td>\n",
       "      <td>0.847293</td>\n",
       "      <td>1A</td>\n",
       "      <td>Iran</td>\n",
       "      <td>0.697030</td>\n",
       "      <td>2B</td>\n",
       "      <td>0.706891</td>\n",
       "      <td>1</td>\n",
       "      <td>Netherlands</td>\n",
       "      <td>Iran</td>\n",
       "    </tr>\n",
       "    <tr>\n",
       "      <th>11</th>\n",
       "      <td>52</td>\n",
       "      <td>R16</td>\n",
       "      <td>England</td>\n",
       "      <td>0.828448</td>\n",
       "      <td>1B</td>\n",
       "      <td>Netherlands</td>\n",
       "      <td>0.847293</td>\n",
       "      <td>2A</td>\n",
       "      <td>0.465342</td>\n",
       "      <td>2</td>\n",
       "      <td>Netherlands</td>\n",
       "      <td>England</td>\n",
       "    </tr>\n",
       "    <tr>\n",
       "      <th>16</th>\n",
       "      <td>49</td>\n",
       "      <td>R16</td>\n",
       "      <td>Netherlands</td>\n",
       "      <td>0.847293</td>\n",
       "      <td>1A</td>\n",
       "      <td>United States</td>\n",
       "      <td>0.683675</td>\n",
       "      <td>2B</td>\n",
       "      <td>0.719667</td>\n",
       "      <td>3</td>\n",
       "      <td>Netherlands</td>\n",
       "      <td>United States</td>\n",
       "    </tr>\n",
       "    <tr>\n",
       "      <th>24</th>\n",
       "      <td>49</td>\n",
       "      <td>R16</td>\n",
       "      <td>Netherlands</td>\n",
       "      <td>0.847293</td>\n",
       "      <td>1A</td>\n",
       "      <td>Wales</td>\n",
       "      <td>0.544210</td>\n",
       "      <td>2B</td>\n",
       "      <td>0.822915</td>\n",
       "      <td>4</td>\n",
       "      <td>Netherlands</td>\n",
       "      <td>Wales</td>\n",
       "    </tr>\n",
       "    <tr>\n",
       "      <th>32</th>\n",
       "      <td>49</td>\n",
       "      <td>R16</td>\n",
       "      <td>Netherlands</td>\n",
       "      <td>0.847293</td>\n",
       "      <td>1A</td>\n",
       "      <td>Iran</td>\n",
       "      <td>0.697030</td>\n",
       "      <td>2B</td>\n",
       "      <td>0.706891</td>\n",
       "      <td>5</td>\n",
       "      <td>Iran</td>\n",
       "      <td>Iran</td>\n",
       "    </tr>\n",
       "    <tr>\n",
       "      <th>...</th>\n",
       "      <td>...</td>\n",
       "      <td>...</td>\n",
       "      <td>...</td>\n",
       "      <td>...</td>\n",
       "      <td>...</td>\n",
       "      <td>...</td>\n",
       "      <td>...</td>\n",
       "      <td>...</td>\n",
       "      <td>...</td>\n",
       "      <td>...</td>\n",
       "      <td>...</td>\n",
       "      <td>...</td>\n",
       "    </tr>\n",
       "    <tr>\n",
       "      <th>1499964</th>\n",
       "      <td>63</td>\n",
       "      <td>Finals</td>\n",
       "      <td>Netherlands</td>\n",
       "      <td>0.847293</td>\n",
       "      <td>M61</td>\n",
       "      <td>Belgium</td>\n",
       "      <td>0.828474</td>\n",
       "      <td>M62</td>\n",
       "      <td>0.534612</td>\n",
       "      <td>99965</td>\n",
       "      <td>Netherlands</td>\n",
       "      <td>Belgium</td>\n",
       "    </tr>\n",
       "    <tr>\n",
       "      <th>1499969</th>\n",
       "      <td>63</td>\n",
       "      <td>Finals</td>\n",
       "      <td>Netherlands</td>\n",
       "      <td>0.847293</td>\n",
       "      <td>M61</td>\n",
       "      <td>England</td>\n",
       "      <td>0.828448</td>\n",
       "      <td>M62</td>\n",
       "      <td>0.534658</td>\n",
       "      <td>99970</td>\n",
       "      <td>England</td>\n",
       "      <td>England</td>\n",
       "    </tr>\n",
       "    <tr>\n",
       "      <th>1499978</th>\n",
       "      <td>63</td>\n",
       "      <td>Finals</td>\n",
       "      <td>Netherlands</td>\n",
       "      <td>0.847293</td>\n",
       "      <td>M61</td>\n",
       "      <td>Poland</td>\n",
       "      <td>0.639777</td>\n",
       "      <td>M62</td>\n",
       "      <td>0.757520</td>\n",
       "      <td>99979</td>\n",
       "      <td>Netherlands</td>\n",
       "      <td>Poland</td>\n",
       "    </tr>\n",
       "    <tr>\n",
       "      <th>1499979</th>\n",
       "      <td>63</td>\n",
       "      <td>Finals</td>\n",
       "      <td>Netherlands</td>\n",
       "      <td>0.847293</td>\n",
       "      <td>M61</td>\n",
       "      <td>South Korea</td>\n",
       "      <td>0.728385</td>\n",
       "      <td>M62</td>\n",
       "      <td>0.674164</td>\n",
       "      <td>99980</td>\n",
       "      <td>Netherlands</td>\n",
       "      <td>South Korea</td>\n",
       "    </tr>\n",
       "    <tr>\n",
       "      <th>1499983</th>\n",
       "      <td>63</td>\n",
       "      <td>Finals</td>\n",
       "      <td>Netherlands</td>\n",
       "      <td>0.847293</td>\n",
       "      <td>M61</td>\n",
       "      <td>France</td>\n",
       "      <td>0.780360</td>\n",
       "      <td>M62</td>\n",
       "      <td>0.609630</td>\n",
       "      <td>99984</td>\n",
       "      <td>Netherlands</td>\n",
       "      <td>France</td>\n",
       "    </tr>\n",
       "  </tbody>\n",
       "</table>\n",
       "<p>211837 rows × 12 columns</p>\n",
       "</div>"
      ],
      "text/plain": [
       "         Match   Group      Squad 1       S1% Squad 1 Seed        Squad 2  \\\n",
       "0           49     R16  Netherlands  0.847293           1A           Iran   \n",
       "11          52     R16      England  0.828448           1B    Netherlands   \n",
       "16          49     R16  Netherlands  0.847293           1A  United States   \n",
       "24          49     R16  Netherlands  0.847293           1A          Wales   \n",
       "32          49     R16  Netherlands  0.847293           1A           Iran   \n",
       "...        ...     ...          ...       ...          ...            ...   \n",
       "1499964     63  Finals  Netherlands  0.847293          M61        Belgium   \n",
       "1499969     63  Finals  Netherlands  0.847293          M61        England   \n",
       "1499978     63  Finals  Netherlands  0.847293          M61         Poland   \n",
       "1499979     63  Finals  Netherlands  0.847293          M61    South Korea   \n",
       "1499983     63  Finals  Netherlands  0.847293          M61         France   \n",
       "\n",
       "              S2% Squad 2 Seed   S1_Prob  Simulation Match Winner  \\\n",
       "0        0.697030           2B  0.706891           1  Netherlands   \n",
       "11       0.847293           2A  0.465342           2  Netherlands   \n",
       "16       0.683675           2B  0.719667           3  Netherlands   \n",
       "24       0.544210           2B  0.822915           4  Netherlands   \n",
       "32       0.697030           2B  0.706891           5         Iran   \n",
       "...           ...          ...       ...         ...          ...   \n",
       "1499964  0.828474          M62  0.534612       99965  Netherlands   \n",
       "1499969  0.828448          M62  0.534658       99970      England   \n",
       "1499978  0.639777          M62  0.757520       99979  Netherlands   \n",
       "1499979  0.728385          M62  0.674164       99980  Netherlands   \n",
       "1499983  0.780360          M62  0.609630       99984  Netherlands   \n",
       "\n",
       "              Opponent  \n",
       "0                 Iran  \n",
       "11             England  \n",
       "16       United States  \n",
       "24               Wales  \n",
       "32                Iran  \n",
       "...                ...  \n",
       "1499964        Belgium  \n",
       "1499969        England  \n",
       "1499978         Poland  \n",
       "1499979    South Korea  \n",
       "1499983         France  \n",
       "\n",
       "[211837 rows x 12 columns]"
      ]
     },
     "execution_count": 12,
     "metadata": {},
     "output_type": "execute_result"
    }
   ],
   "source": [
    "Netherlands"
   ]
  },
  {
   "cell_type": "code",
   "execution_count": null,
   "id": "ef27edb8",
   "metadata": {},
   "outputs": [],
   "source": [
    "final_match_sims.groupby(\"Match Winner\").size()"
   ]
  },
  {
   "cell_type": "code",
   "execution_count": 7,
   "id": "3c2aeb30",
   "metadata": {},
   "outputs": [
    {
     "data": {
      "text/html": [
       "<div>\n",
       "<style scoped>\n",
       "    .dataframe tbody tr th:only-of-type {\n",
       "        vertical-align: middle;\n",
       "    }\n",
       "\n",
       "    .dataframe tbody tr th {\n",
       "        vertical-align: top;\n",
       "    }\n",
       "\n",
       "    .dataframe thead th {\n",
       "        text-align: right;\n",
       "    }\n",
       "</style>\n",
       "<table border=\"1\" class=\"dataframe\">\n",
       "  <thead>\n",
       "    <tr style=\"text-align: right;\">\n",
       "      <th></th>\n",
       "      <th>Match</th>\n",
       "      <th>Group</th>\n",
       "      <th>Squad 1</th>\n",
       "      <th>S1%</th>\n",
       "      <th>Squad 1 Seed</th>\n",
       "      <th>Squad 2</th>\n",
       "      <th>S2%</th>\n",
       "      <th>Squad 2 Seed</th>\n",
       "      <th>S1_Prob</th>\n",
       "      <th>Simulation</th>\n",
       "      <th>Match Winner</th>\n",
       "      <th>Opponent</th>\n",
       "    </tr>\n",
       "  </thead>\n",
       "  <tbody>\n",
       "    <tr>\n",
       "      <th>16</th>\n",
       "      <td>49</td>\n",
       "      <td>R16</td>\n",
       "      <td>Netherlands</td>\n",
       "      <td>0.847293</td>\n",
       "      <td>1A</td>\n",
       "      <td>United States</td>\n",
       "      <td>0.683675</td>\n",
       "      <td>2B</td>\n",
       "      <td>0.719667</td>\n",
       "      <td>3</td>\n",
       "      <td>Netherlands</td>\n",
       "      <td>Netherlands</td>\n",
       "    </tr>\n",
       "    <tr>\n",
       "      <th>43</th>\n",
       "      <td>52</td>\n",
       "      <td>R16</td>\n",
       "      <td>United States</td>\n",
       "      <td>0.683675</td>\n",
       "      <td>1B</td>\n",
       "      <td>Senegal</td>\n",
       "      <td>0.768105</td>\n",
       "      <td>2A</td>\n",
       "      <td>0.394860</td>\n",
       "      <td>6</td>\n",
       "      <td>United States</td>\n",
       "      <td>Senegal</td>\n",
       "    </tr>\n",
       "    <tr>\n",
       "      <th>104</th>\n",
       "      <td>49</td>\n",
       "      <td>R16</td>\n",
       "      <td>Netherlands</td>\n",
       "      <td>0.847293</td>\n",
       "      <td>1A</td>\n",
       "      <td>United States</td>\n",
       "      <td>0.683675</td>\n",
       "      <td>2B</td>\n",
       "      <td>0.719667</td>\n",
       "      <td>14</td>\n",
       "      <td>Netherlands</td>\n",
       "      <td>Netherlands</td>\n",
       "    </tr>\n",
       "    <tr>\n",
       "      <th>112</th>\n",
       "      <td>49</td>\n",
       "      <td>R16</td>\n",
       "      <td>Netherlands</td>\n",
       "      <td>0.847293</td>\n",
       "      <td>1A</td>\n",
       "      <td>United States</td>\n",
       "      <td>0.683675</td>\n",
       "      <td>2B</td>\n",
       "      <td>0.719667</td>\n",
       "      <td>15</td>\n",
       "      <td>Netherlands</td>\n",
       "      <td>Netherlands</td>\n",
       "    </tr>\n",
       "    <tr>\n",
       "      <th>147</th>\n",
       "      <td>52</td>\n",
       "      <td>R16</td>\n",
       "      <td>United States</td>\n",
       "      <td>0.683675</td>\n",
       "      <td>1B</td>\n",
       "      <td>Ecuador</td>\n",
       "      <td>0.503238</td>\n",
       "      <td>2A</td>\n",
       "      <td>0.680867</td>\n",
       "      <td>19</td>\n",
       "      <td>United States</td>\n",
       "      <td>Ecuador</td>\n",
       "    </tr>\n",
       "    <tr>\n",
       "      <th>...</th>\n",
       "      <td>...</td>\n",
       "      <td>...</td>\n",
       "      <td>...</td>\n",
       "      <td>...</td>\n",
       "      <td>...</td>\n",
       "      <td>...</td>\n",
       "      <td>...</td>\n",
       "      <td>...</td>\n",
       "      <td>...</td>\n",
       "      <td>...</td>\n",
       "      <td>...</td>\n",
       "      <td>...</td>\n",
       "    </tr>\n",
       "    <tr>\n",
       "      <th>1499872</th>\n",
       "      <td>63</td>\n",
       "      <td>Finals</td>\n",
       "      <td>Mexico</td>\n",
       "      <td>0.756757</td>\n",
       "      <td>M61</td>\n",
       "      <td>United States</td>\n",
       "      <td>0.683675</td>\n",
       "      <td>M62</td>\n",
       "      <td>0.590073</td>\n",
       "      <td>99873</td>\n",
       "      <td>Mexico</td>\n",
       "      <td>Mexico</td>\n",
       "    </tr>\n",
       "    <tr>\n",
       "      <th>1499887</th>\n",
       "      <td>63</td>\n",
       "      <td>Finals</td>\n",
       "      <td>United States</td>\n",
       "      <td>0.683675</td>\n",
       "      <td>M61</td>\n",
       "      <td>Belgium</td>\n",
       "      <td>0.828474</td>\n",
       "      <td>M62</td>\n",
       "      <td>0.309141</td>\n",
       "      <td>99888</td>\n",
       "      <td>United States</td>\n",
       "      <td>Belgium</td>\n",
       "    </tr>\n",
       "    <tr>\n",
       "      <th>1499936</th>\n",
       "      <td>63</td>\n",
       "      <td>Finals</td>\n",
       "      <td>United States</td>\n",
       "      <td>0.683675</td>\n",
       "      <td>M61</td>\n",
       "      <td>Cameroon</td>\n",
       "      <td>0.715298</td>\n",
       "      <td>M62</td>\n",
       "      <td>0.462435</td>\n",
       "      <td>99937</td>\n",
       "      <td>United States</td>\n",
       "      <td>Cameroon</td>\n",
       "    </tr>\n",
       "    <tr>\n",
       "      <th>1499977</th>\n",
       "      <td>63</td>\n",
       "      <td>Finals</td>\n",
       "      <td>United States</td>\n",
       "      <td>0.683675</td>\n",
       "      <td>M61</td>\n",
       "      <td>Argentina</td>\n",
       "      <td>0.713177</td>\n",
       "      <td>M62</td>\n",
       "      <td>0.465020</td>\n",
       "      <td>99978</td>\n",
       "      <td>Argentina</td>\n",
       "      <td>Argentina</td>\n",
       "    </tr>\n",
       "    <tr>\n",
       "      <th>1499990</th>\n",
       "      <td>63</td>\n",
       "      <td>Finals</td>\n",
       "      <td>United States</td>\n",
       "      <td>0.683675</td>\n",
       "      <td>M61</td>\n",
       "      <td>Portugal</td>\n",
       "      <td>0.787343</td>\n",
       "      <td>M62</td>\n",
       "      <td>0.368590</td>\n",
       "      <td>99991</td>\n",
       "      <td>United States</td>\n",
       "      <td>Portugal</td>\n",
       "    </tr>\n",
       "  </tbody>\n",
       "</table>\n",
       "<p>62666 rows × 12 columns</p>\n",
       "</div>"
      ],
      "text/plain": [
       "         Match   Group        Squad 1       S1% Squad 1 Seed        Squad 2  \\\n",
       "16          49     R16    Netherlands  0.847293           1A  United States   \n",
       "43          52     R16  United States  0.683675           1B        Senegal   \n",
       "104         49     R16    Netherlands  0.847293           1A  United States   \n",
       "112         49     R16    Netherlands  0.847293           1A  United States   \n",
       "147         52     R16  United States  0.683675           1B        Ecuador   \n",
       "...        ...     ...            ...       ...          ...            ...   \n",
       "1499872     63  Finals         Mexico  0.756757          M61  United States   \n",
       "1499887     63  Finals  United States  0.683675          M61        Belgium   \n",
       "1499936     63  Finals  United States  0.683675          M61       Cameroon   \n",
       "1499977     63  Finals  United States  0.683675          M61      Argentina   \n",
       "1499990     63  Finals  United States  0.683675          M61       Portugal   \n",
       "\n",
       "              S2% Squad 2 Seed   S1_Prob  Simulation   Match Winner  \\\n",
       "16       0.683675           2B  0.719667           3    Netherlands   \n",
       "43       0.768105           2A  0.394860           6  United States   \n",
       "104      0.683675           2B  0.719667          14    Netherlands   \n",
       "112      0.683675           2B  0.719667          15    Netherlands   \n",
       "147      0.503238           2A  0.680867          19  United States   \n",
       "...           ...          ...       ...         ...            ...   \n",
       "1499872  0.683675          M62  0.590073       99873         Mexico   \n",
       "1499887  0.828474          M62  0.309141       99888  United States   \n",
       "1499936  0.715298          M62  0.462435       99937  United States   \n",
       "1499977  0.713177          M62  0.465020       99978      Argentina   \n",
       "1499990  0.787343          M62  0.368590       99991  United States   \n",
       "\n",
       "            Opponent  \n",
       "16       Netherlands  \n",
       "43           Senegal  \n",
       "104      Netherlands  \n",
       "112      Netherlands  \n",
       "147          Ecuador  \n",
       "...              ...  \n",
       "1499872       Mexico  \n",
       "1499887      Belgium  \n",
       "1499936     Cameroon  \n",
       "1499977    Argentina  \n",
       "1499990     Portugal  \n",
       "\n",
       "[62666 rows x 12 columns]"
      ]
     },
     "execution_count": 7,
     "metadata": {},
     "output_type": "execute_result"
    }
   ],
   "source": [
    "US_Matches"
   ]
  },
  {
   "cell_type": "code",
   "execution_count": 8,
   "id": "2ce2638f",
   "metadata": {},
   "outputs": [],
   "source": [
    "US_Opponent_Frequency = US_Matches.groupby('Group')['Opponent'].value_counts()"
   ]
  },
  {
   "cell_type": "code",
   "execution_count": null,
   "id": "60c8eae3",
   "metadata": {},
   "outputs": [],
   "source": [
    "Netherlands_Opponent_Frequency = US_Matches.groupby('Group')['Opponent'].value_counts()"
   ]
  },
  {
   "cell_type": "code",
   "execution_count": 9,
   "id": "b3a34d43",
   "metadata": {},
   "outputs": [
    {
     "data": {
      "text/plain": [
       "Group        Opponent    \n",
       "Finals       England           369\n",
       "             Belgium           237\n",
       "             Netherlands       235\n",
       "             Germany           185\n",
       "             Spain             169\n",
       "             Brazil            166\n",
       "             Portugal          148\n",
       "             France            135\n",
       "             Senegal           105\n",
       "             Morocco           103\n",
       "             Denmark            94\n",
       "             Mexico             79\n",
       "             South Korea        56\n",
       "             Argentina          51\n",
       "             Cameroon           40\n",
       "             Iran               29\n",
       "             Switzerland        25\n",
       "             Australia          24\n",
       "             Croatia            17\n",
       "             Serbia             15\n",
       "             Poland             14\n",
       "             Saudi Arabia       14\n",
       "             Tunisia            13\n",
       "             Qatar               9\n",
       "             Ecuador             5\n",
       "             Japan               5\n",
       "             Canada              4\n",
       "             Uruguay             4\n",
       "             Wales               2\n",
       "             Costa Rica          1\n",
       "R16          Netherlands     21584\n",
       "             Senegal         12675\n",
       "             Qatar            3486\n",
       "             Ecuador          1675\n",
       "R8           Mexico           3203\n",
       "             Denmark          2953\n",
       "             France           2764\n",
       "             Argentina        1985\n",
       "             Australia        1188\n",
       "             Tunisia           977\n",
       "             Poland            837\n",
       "             Saudi Arabia      661\n",
       "Semi-Finals  Spain            1065\n",
       "             Brazil           1032\n",
       "             Germany           855\n",
       "             Belgium           733\n",
       "             Portugal          593\n",
       "             Morocco           588\n",
       "             South Korea       462\n",
       "             Cameroon          324\n",
       "             Switzerland       173\n",
       "             Croatia           162\n",
       "             Serbia            127\n",
       "             Canada             82\n",
       "             Uruguay            51\n",
       "             Japan              37\n",
       "             Ghana              21\n",
       "             Costa Rica         20\n",
       "Name: Opponent, dtype: int64"
      ]
     },
     "execution_count": 9,
     "metadata": {},
     "output_type": "execute_result"
    }
   ],
   "source": [
    "US_Opponent_Frequency"
   ]
  },
  {
   "cell_type": "code",
   "execution_count": null,
   "id": "47800d1e",
   "metadata": {},
   "outputs": [],
   "source": [
    "US_Matches['Opponent'].value_counts()"
   ]
  },
  {
   "cell_type": "code",
   "execution_count": null,
   "id": "bc3517f3",
   "metadata": {},
   "outputs": [],
   "source": [
    "US_Matches['Opponent'].value_counts(ascending=False)"
   ]
  },
  {
   "cell_type": "code",
   "execution_count": null,
   "id": "f2084f38",
   "metadata": {},
   "outputs": [],
   "source": [
    "final_results = pd.read_csv('CSVs/final_results.csv')"
   ]
  },
  {
   "cell_type": "code",
   "execution_count": null,
   "id": "e9cb9bef",
   "metadata": {},
   "outputs": [],
   "source": [
    "import json"
   ]
  },
  {
   "cell_type": "code",
   "execution_count": null,
   "id": "f2ef52f9",
   "metadata": {},
   "outputs": [],
   "source": [
    "squad_strength_json = squad_predictions.to_json(orient=\"index\")"
   ]
  },
  {
   "cell_type": "code",
   "execution_count": null,
   "id": "527455f6",
   "metadata": {},
   "outputs": [],
   "source": [
    "parsed = json.loads(squad_strength_json)"
   ]
  },
  {
   "cell_type": "code",
   "execution_count": null,
   "id": "65f1aca5",
   "metadata": {},
   "outputs": [],
   "source": [
    "final = json.dumps(parsed)  "
   ]
  },
  {
   "cell_type": "code",
   "execution_count": null,
   "id": "2161b86e",
   "metadata": {},
   "outputs": [],
   "source": [
    "with open(\"squad_strength.json\",\"w\") as outfile:\n",
    "    outfile.write(final)"
   ]
  },
  {
   "cell_type": "code",
   "execution_count": null,
   "id": "a8617afa",
   "metadata": {},
   "outputs": [],
   "source": []
  }
 ],
 "metadata": {
  "kernelspec": {
   "display_name": "mlenv",
   "language": "python",
   "name": "mlenv"
  },
  "language_info": {
   "codemirror_mode": {
    "name": "ipython",
    "version": 3
   },
   "file_extension": ".py",
   "mimetype": "text/x-python",
   "name": "python",
   "nbconvert_exporter": "python",
   "pygments_lexer": "ipython3",
   "version": "3.7.13"
  }
 },
 "nbformat": 4,
 "nbformat_minor": 5
}
