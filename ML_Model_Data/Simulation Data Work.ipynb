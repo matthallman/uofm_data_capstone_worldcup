{
 "cells": [
  {
   "cell_type": "code",
   "execution_count": 4,
   "id": "91d664c0",
   "metadata": {},
   "outputs": [],
   "source": [
    "#Imports\n",
    "\n",
    "import pickle\n",
    "import numpy as np\n",
    "import pandas as pd\n",
    "\n",
    "with open('group_results.pickle', 'rb') as file:\n",
    "    group_dict = pickle.load(file)\n",
    "    \n",
    "squad_predictions = pd.read_csv(r'CSVs\\Predictions\\Squad_Strength_Final.csv', encoding='latin-1')\n"
   ]
  },
  {
   "cell_type": "code",
   "execution_count": 5,
   "id": "81c60e73",
   "metadata": {},
   "outputs": [],
   "source": [
    "# Dataframe adjustments and Dicti\n",
    "squad_predictions.drop(['Group'], axis=1, inplace=True)\n",
    "squad_strength_dict = squad_predictions.T.to_dict('dict')\n",
    "squad_list = squad_predictions['Squad'].to_dict()"
   ]
  },
  {
   "cell_type": "code",
   "execution_count": 10,
   "id": "e5c15be6",
   "metadata": {},
   "outputs": [
    {
     "data": {
      "text/plain": [
       "pandas.core.series.Series"
      ]
     },
     "execution_count": 10,
     "metadata": {},
     "output_type": "execute_result"
    }
   ],
   "source": [
    "type(squad_predictions['Squad'])"
   ]
  },
  {
   "cell_type": "code",
   "execution_count": 42,
   "id": "d287e75d",
   "metadata": {},
   "outputs": [],
   "source": [
    "# get_key function to return Team number when given a key (team name)\n",
    "\n",
    "def get_key(val):\n",
    "    for key, value in squad_list.items():\n",
    "        if val == value:\n",
    "            return key\n",
    "\n",
    "# This needs to be a dynamic variable that the user can pick from\n",
    "\n",
    "team1 = 'Qatar'\n",
    "team2 = 'Iran'    \n",
    "        \n",
    "# Simulation Setup\n",
    "\n",
    "np.random.seed(22)\n",
    "num_sims = 1000\n",
    "    \n",
    "# Need to calculate Match probability given two teams\n",
    "        \n",
    "def matchup_simulator(team1, team2):\n",
    "    \n",
    "#     # Get team numbers for dictionary reference\n",
    "    team1_number = get_key(team1)\n",
    "    team2_number = get_key(team2)\n",
    "    \n",
    "    # Get Squad Percentages\n",
    "    S1_percent = squad_strength_dict[team1_number]['% of Points Taken']\n",
    "    S2_percent = squad_strength_dict[team2_number]['% of Points Taken']\n",
    "    \n",
    "    # Calculating Probability that S1 wins given the two squad percentages S2_prob = 1 - S1_prob\n",
    "    \n",
    "    S1_prob = ((S1_percent - (S1_percent*S2_percent)) / (S1_percent + S2_percent - (2 * S1_percent * S2_percent)))\n",
    "    \n",
    "    # Simulating match num_sims times, returns an array of 0 and 1, 1 = squad one wins\n",
    "    \n",
    "    match_results = np.random.binomial(n=1, p = S1_prob, size = num_sims)\n",
    "    \n",
    "    # Wins per num_sims\n",
    "    \n",
    "    S1_win_percent = np.mean(match_results)\n",
    "    \n"
   ]
  },
  {
   "cell_type": "code",
   "execution_count": null,
   "id": "800ef3cc",
   "metadata": {},
   "outputs": [],
   "source": [
    "np.random.binomial(n=1, p = S1_prob, size = num_sims)"
   ]
  },
  {
   "cell_type": "code",
   "execution_count": 18,
   "id": "4a9ca570",
   "metadata": {},
   "outputs": [
    {
     "ename": "NameError",
     "evalue": "name 'team1_number' is not defined",
     "output_type": "error",
     "traceback": [
      "\u001b[1;31m---------------------------------------------------------------------------\u001b[0m",
      "\u001b[1;31mNameError\u001b[0m                                 Traceback (most recent call last)",
      "\u001b[1;32m~\\AppData\\Local\\Temp\\ipykernel_12416\\470324763.py\u001b[0m in \u001b[0;36m<module>\u001b[1;34m\u001b[0m\n\u001b[1;32m----> 1\u001b[1;33m \u001b[0msquad_strength_dict\u001b[0m\u001b[1;33m[\u001b[0m\u001b[0mteam1_number\u001b[0m\u001b[1;33m]\u001b[0m\u001b[1;33m\u001b[0m\u001b[1;33m\u001b[0m\u001b[0m\n\u001b[0m",
      "\u001b[1;31mNameError\u001b[0m: name 'team1_number' is not defined"
     ]
    }
   ],
   "source": [
    "squad_strength_dict[team1_number]"
   ]
  },
  {
   "cell_type": "code",
   "execution_count": 29,
   "id": "8d0a59e6",
   "metadata": {},
   "outputs": [
    {
     "ename": "TypeError",
     "evalue": "unsupported operand type(s) for *: 'dict' and 'dict'",
     "output_type": "error",
     "traceback": [
      "\u001b[1;31m---------------------------------------------------------------------------\u001b[0m",
      "\u001b[1;31mTypeError\u001b[0m                                 Traceback (most recent call last)",
      "\u001b[1;32m~\\AppData\\Local\\Temp\\ipykernel_12416\\1158107143.py\u001b[0m in \u001b[0;36m<module>\u001b[1;34m\u001b[0m\n\u001b[0;32m      9\u001b[0m     \u001b[1;31m# Calculating Probability that S1 wins given the two squad percentages S2_prob = 1 - S1_prob\u001b[0m\u001b[1;33m\u001b[0m\u001b[1;33m\u001b[0m\u001b[1;33m\u001b[0m\u001b[0m\n\u001b[0;32m     10\u001b[0m \u001b[1;33m\u001b[0m\u001b[0m\n\u001b[1;32m---> 11\u001b[1;33m \u001b[0mS1_prob\u001b[0m \u001b[1;33m=\u001b[0m \u001b[1;33m(\u001b[0m\u001b[1;33m(\u001b[0m\u001b[0mS1_percent\u001b[0m \u001b[1;33m-\u001b[0m \u001b[1;33m(\u001b[0m\u001b[0mS1_percent\u001b[0m\u001b[1;33m*\u001b[0m\u001b[0mS2_percent\u001b[0m\u001b[1;33m)\u001b[0m\u001b[1;33m)\u001b[0m \u001b[1;33m/\u001b[0m \u001b[1;33m(\u001b[0m\u001b[0mS1_percent\u001b[0m \u001b[1;33m+\u001b[0m \u001b[0mS2_percent\u001b[0m \u001b[1;33m-\u001b[0m \u001b[1;33m(\u001b[0m\u001b[1;36m2\u001b[0m \u001b[1;33m*\u001b[0m \u001b[0mS1_percent\u001b[0m \u001b[1;33m*\u001b[0m \u001b[0mS2_percent\u001b[0m\u001b[1;33m)\u001b[0m\u001b[1;33m)\u001b[0m\u001b[1;33m)\u001b[0m\u001b[1;33m\u001b[0m\u001b[1;33m\u001b[0m\u001b[0m\n\u001b[0m\u001b[0;32m     12\u001b[0m \u001b[1;33m\u001b[0m\u001b[0m\n\u001b[0;32m     13\u001b[0m \u001b[1;31m# Simulating match num_sims times, returns an array of 0 and 1, 1 = squad one wins\u001b[0m\u001b[1;33m\u001b[0m\u001b[1;33m\u001b[0m\u001b[1;33m\u001b[0m\u001b[0m\n",
      "\u001b[1;31mTypeError\u001b[0m: unsupported operand type(s) for *: 'dict' and 'dict'"
     ]
    }
   ],
   "source": [
    "# Get team numbers for dictionary reference\n",
    "team1_number = get_key(team1)\n",
    "team2_number = get_key(team2)\n",
    "    \n",
    "    # Get Squad Percentages\n",
    "S1_percent = squad_strength_dict[team1_number]\n",
    "S2_percent = squad_strength_dict[team2_number]\n",
    "    \n",
    "    # Calculating Probability that S1 wins given the two squad percentages S2_prob = 1 - S1_prob\n",
    "    \n",
    "S1_prob = ((S1_percent - (S1_percent*S2_percent)) / (S1_percent + S2_percent - (2 * S1_percent * S2_percent)))\n",
    "    \n",
    "# Simulating match num_sims times, returns an array of 0 and 1, 1 = squad one wins\n",
    "    \n",
    "match_results = np.random.binomial(n=1, p = S1_prob, size = num_sims)\n",
    "    \n",
    "    # Wins per num_sims\n",
    "    \n",
    "S1_win_percent = np.mean(match_results)"
   ]
  },
  {
   "cell_type": "code",
   "execution_count": 30,
   "id": "4518ae60",
   "metadata": {},
   "outputs": [],
   "source": [
    "S1_percent = squad_strength_dict[team1_number]"
   ]
  },
  {
   "cell_type": "code",
   "execution_count": 43,
   "id": "87d1d8a0",
   "metadata": {},
   "outputs": [
    {
     "ename": "NameError",
     "evalue": "name 'S1_win_percent' is not defined",
     "output_type": "error",
     "traceback": [
      "\u001b[1;31m---------------------------------------------------------------------------\u001b[0m",
      "\u001b[1;31mNameError\u001b[0m                                 Traceback (most recent call last)",
      "\u001b[1;32m~\\AppData\\Local\\Temp\\ipykernel_12416\\813204727.py\u001b[0m in \u001b[0;36m<module>\u001b[1;34m\u001b[0m\n\u001b[1;32m----> 1\u001b[1;33m \u001b[0mS1_win_percent\u001b[0m\u001b[1;33m\u001b[0m\u001b[1;33m\u001b[0m\u001b[0m\n\u001b[0m",
      "\u001b[1;31mNameError\u001b[0m: name 'S1_win_percent' is not defined"
     ]
    }
   ],
   "source": [
    "S1_win_percent"
   ]
  },
  {
   "cell_type": "code",
   "execution_count": 34,
   "id": "9cf1f6b6",
   "metadata": {},
   "outputs": [
    {
     "data": {
      "text/plain": [
       "0.6010889696172896"
      ]
     },
     "execution_count": 34,
     "metadata": {},
     "output_type": "execute_result"
    }
   ],
   "source": [
    "squad_strength_dict[team1_number]['% of Points Taken']"
   ]
  },
  {
   "cell_type": "code",
   "execution_count": 25,
   "id": "be58900a",
   "metadata": {},
   "outputs": [],
   "source": [
    "team1_number = get_key(team1)\n",
    "team2_number = get_key(team2)"
   ]
  },
  {
   "cell_type": "code",
   "execution_count": 19,
   "id": "1f10c9ec",
   "metadata": {},
   "outputs": [],
   "source": [
    " team1_number = get_key(team1)"
   ]
  },
  {
   "cell_type": "code",
   "execution_count": 20,
   "id": "1df0c09d",
   "metadata": {},
   "outputs": [
    {
     "data": {
      "text/plain": [
       "0"
      ]
     },
     "execution_count": 20,
     "metadata": {},
     "output_type": "execute_result"
    }
   ],
   "source": [
    "team1_number"
   ]
  },
  {
   "cell_type": "code",
   "execution_count": 40,
   "id": "8a251bbe",
   "metadata": {},
   "outputs": [
    {
     "name": "stdout",
     "output_type": "stream",
     "text": [
      "None\n"
     ]
    }
   ],
   "source": [
    "print(matchup_simulator('United States','England'))"
   ]
  },
  {
   "cell_type": "code",
   "execution_count": null,
   "id": "7135d5cd",
   "metadata": {},
   "outputs": [],
   "source": [
    "squad_strength_dict"
   ]
  },
  {
   "cell_type": "code",
   "execution_count": null,
   "id": "54b5f734",
   "metadata": {},
   "outputs": [],
   "source": [
    "S1_prob"
   ]
  },
  {
   "cell_type": "code",
   "execution_count": 14,
   "id": "341bccb3",
   "metadata": {},
   "outputs": [
    {
     "ename": "NameError",
     "evalue": "name 'match_results' is not defined",
     "output_type": "error",
     "traceback": [
      "\u001b[1;31m---------------------------------------------------------------------------\u001b[0m",
      "\u001b[1;31mNameError\u001b[0m                                 Traceback (most recent call last)",
      "\u001b[1;32m~\\AppData\\Local\\Temp\\ipykernel_12416\\2685019341.py\u001b[0m in \u001b[0;36m<module>\u001b[1;34m\u001b[0m\n\u001b[1;32m----> 1\u001b[1;33m \u001b[0mmatch_results\u001b[0m\u001b[1;33m\u001b[0m\u001b[1;33m\u001b[0m\u001b[0m\n\u001b[0m",
      "\u001b[1;31mNameError\u001b[0m: name 'match_results' is not defined"
     ]
    }
   ],
   "source": [
    "match_results"
   ]
  },
  {
   "cell_type": "code",
   "execution_count": 13,
   "id": "703817da",
   "metadata": {},
   "outputs": [
    {
     "ename": "NameError",
     "evalue": "name 'match_results' is not defined",
     "output_type": "error",
     "traceback": [
      "\u001b[1;31m---------------------------------------------------------------------------\u001b[0m",
      "\u001b[1;31mNameError\u001b[0m                                 Traceback (most recent call last)",
      "\u001b[1;32m~\\AppData\\Local\\Temp\\ipykernel_12416\\69588149.py\u001b[0m in \u001b[0;36m<module>\u001b[1;34m\u001b[0m\n\u001b[1;32m----> 1\u001b[1;33m \u001b[0mnp\u001b[0m\u001b[1;33m.\u001b[0m\u001b[0mmean\u001b[0m\u001b[1;33m(\u001b[0m\u001b[0mmatch_results\u001b[0m\u001b[1;33m[\u001b[0m\u001b[1;36m0\u001b[0m\u001b[1;33m:\u001b[0m\u001b[1;36m1\u001b[0m\u001b[1;33m]\u001b[0m\u001b[1;33m)\u001b[0m\u001b[1;33m\u001b[0m\u001b[1;33m\u001b[0m\u001b[0m\n\u001b[0m",
      "\u001b[1;31mNameError\u001b[0m: name 'match_results' is not defined"
     ]
    }
   ],
   "source": [
    "np.mean(match_results[0:1])"
   ]
  },
  {
   "cell_type": "code",
   "execution_count": null,
   "id": "e945adf7",
   "metadata": {},
   "outputs": [],
   "source": [
    "match_results[0:1]"
   ]
  },
  {
   "cell_type": "code",
   "execution_count": null,
   "id": "83ebbb27",
   "metadata": {},
   "outputs": [],
   "source": [
    "x = 5"
   ]
  },
  {
   "cell_type": "code",
   "execution_count": 3,
   "id": "62b6407a",
   "metadata": {},
   "outputs": [
    {
     "data": {
      "text/plain": [
       "1"
      ]
     },
     "execution_count": 3,
     "metadata": {},
     "output_type": "execute_result"
    }
   ],
   "source": [
    "6 % 5"
   ]
  },
  {
   "cell_type": "code",
   "execution_count": null,
   "id": "6fab9758",
   "metadata": {},
   "outputs": [],
   "source": [
    "range(num_sims)"
   ]
  },
  {
   "cell_type": "code",
   "execution_count": null,
   "id": "912ce2fc",
   "metadata": {},
   "outputs": [],
   "source": [
    "count = 1"
   ]
  },
  {
   "cell_type": "code",
   "execution_count": null,
   "id": "213b502d",
   "metadata": {},
   "outputs": [],
   "source": [
    "np.mean(match_results)"
   ]
  },
  {
   "cell_type": "code",
   "execution_count": null,
   "id": "0fa3ad53",
   "metadata": {},
   "outputs": [],
   "source": [
    "for x in range()"
   ]
  },
  {
   "cell_type": "code",
   "execution_count": null,
   "id": "26c6e59f",
   "metadata": {},
   "outputs": [],
   "source": [
    "squad_predictions"
   ]
  },
  {
   "cell_type": "code",
   "execution_count": null,
   "id": "746e373d",
   "metadata": {},
   "outputs": [],
   "source": []
  },
  {
   "cell_type": "code",
   "execution_count": null,
   "id": "827259f3",
   "metadata": {},
   "outputs": [],
   "source": [
    "group_dict = new_list "
   ]
  },
  {
   "cell_type": "code",
   "execution_count": null,
   "id": "14bb0da7",
   "metadata": {},
   "outputs": [],
   "source": [
    "world_cup_teams = pd.read_csv(r'CSVs\\World_Cup_Teams.csv', encoding='latin-1')"
   ]
  },
  {
   "cell_type": "code",
   "execution_count": null,
   "id": "61d5d016",
   "metadata": {},
   "outputs": [],
   "source": [
    "win_list = []"
   ]
  },
  {
   "cell_type": "code",
   "execution_count": null,
   "id": "0b3c6f7a",
   "metadata": {},
   "outputs": [],
   "source": [
    "points_list = []"
   ]
  },
  {
   "cell_type": "code",
   "execution_count": null,
   "id": "dd72c83a",
   "metadata": {},
   "outputs": [],
   "source": [
    "for i in range(len(world_cup_teams)):\n",
    "    points_avg = sum(group_dict[i]['points']) / 100000\n",
    "    points_list.append(points_avg)"
   ]
  },
  {
   "cell_type": "code",
   "execution_count": null,
   "id": "69d3abc4",
   "metadata": {},
   "outputs": [],
   "source": [
    "points_list"
   ]
  },
  {
   "cell_type": "code",
   "execution_count": null,
   "id": "d8b481f1",
   "metadata": {},
   "outputs": [],
   "source": [
    "sum(group_dict[1]['wins'])/100000"
   ]
  },
  {
   "cell_type": "code",
   "execution_count": null,
   "id": "cd6dc4f6",
   "metadata": {},
   "outputs": [],
   "source": [
    "for i in range(len(world_cup_teams)):\n",
    "    win_avg = sum(group_dict[i]['wins']) / 100000\n",
    "    win_list.append(win_avg)"
   ]
  },
  {
   "cell_type": "code",
   "execution_count": null,
   "id": "dcfd84a0",
   "metadata": {},
   "outputs": [],
   "source": [
    "world_cup_teams['Avg. Group Stage Points'] = points_list "
   ]
  },
  {
   "cell_type": "code",
   "execution_count": null,
   "id": "9fcef309",
   "metadata": {},
   "outputs": [],
   "source": [
    "world_cup_teams['Avg. Group Stage Wins'] = win_list "
   ]
  },
  {
   "cell_type": "code",
   "execution_count": null,
   "id": "ac4bec9e",
   "metadata": {},
   "outputs": [],
   "source": [
    "group_dict[0]"
   ]
  },
  {
   "cell_type": "code",
   "execution_count": null,
   "id": "ab484692",
   "metadata": {},
   "outputs": [],
   "source": [
    "final_group_table = world_cup_teams.sort_values(by='Avg. Group Stage Points', ascending = False)"
   ]
  },
  {
   "cell_type": "code",
   "execution_count": null,
   "id": "f92fcdb6",
   "metadata": {},
   "outputs": [],
   "source": [
    "final_group_table.loc(final_group_table['Group'] == 'E'"
   ]
  },
  {
   "cell_type": "code",
   "execution_count": null,
   "id": "dda9918c",
   "metadata": {},
   "outputs": [],
   "source": [
    "final_group_table.drop(['Date qualified', 'Key Competition', 'Key'], axis=1, inplace = True)"
   ]
  },
  {
   "cell_type": "code",
   "execution_count": null,
   "id": "7860d86d",
   "metadata": {},
   "outputs": [],
   "source": [
    "final_group_table"
   ]
  },
  {
   "cell_type": "code",
   "execution_count": null,
   "id": "7c0e6038",
   "metadata": {},
   "outputs": [],
   "source": [
    "group_labels = ['A','B','C','D','E','F','G','H']"
   ]
  },
  {
   "cell_type": "code",
   "execution_count": null,
   "id": "37ef7110",
   "metadata": {},
   "outputs": [],
   "source": [
    "print(f\"'{groups[2]}'\")"
   ]
  },
  {
   "cell_type": "code",
   "execution_count": null,
   "id": "fd316360",
   "metadata": {},
   "outputs": [],
   "source": [
    "group_tables = []"
   ]
  },
  {
   "cell_type": "code",
   "execution_count": null,
   "id": "1908e134",
   "metadata": {},
   "outputs": [],
   "source": [
    "group_tables[6]"
   ]
  },
  {
   "cell_type": "code",
   "execution_count": null,
   "id": "9d72bcf4",
   "metadata": {},
   "outputs": [],
   "source": [
    "for i in range(len(group_labels)):\n",
    "    group_table = final_group_table.loc[(final_group_table['Group'] == group_labels[i])]\n",
    "    group_tables.append(group_table)\n",
    "\n",
    "\n"
   ]
  },
  {
   "cell_type": "code",
   "execution_count": null,
   "id": "de863984",
   "metadata": {},
   "outputs": [],
   "source": [
    "win_list"
   ]
  },
  {
   "cell_type": "code",
   "execution_count": null,
   "id": "c161cf17",
   "metadata": {},
   "outputs": [],
   "source": [
    "import pandas as pd"
   ]
  },
  {
   "cell_type": "code",
   "execution_count": null,
   "id": "da0b6408",
   "metadata": {},
   "outputs": [],
   "source": [
    "final_match_sims = pd.read_csv(r'CSVs\\Predictions\\all_knockout_matches.csv' , encoding ='latin-1')"
   ]
  },
  {
   "cell_type": "code",
   "execution_count": null,
   "id": "df5c2de5",
   "metadata": {},
   "outputs": [],
   "source": [
    "final_match_sims.loc([''])"
   ]
  },
  {
   "cell_type": "code",
   "execution_count": null,
   "id": "73e8610b",
   "metadata": {
    "scrolled": true
   },
   "outputs": [],
   "source": [
    "final_match_sims"
   ]
  },
  {
   "cell_type": "code",
   "execution_count": null,
   "id": "06d86464",
   "metadata": {},
   "outputs": [],
   "source": [
    "group_dict"
   ]
  },
  {
   "cell_type": "code",
   "execution_count": null,
   "id": "251c5244",
   "metadata": {},
   "outputs": [],
   "source": [
    "match_sim_cleaned = final_match_sims.drop(['Stage','Squad 1 Key', 'Squad 2 Key', 'S1_wins'], axis=1).copy()"
   ]
  },
  {
   "cell_type": "code",
   "execution_count": null,
   "id": "2befc313",
   "metadata": {},
   "outputs": [],
   "source": [
    "match_sim_cleaned.shape"
   ]
  },
  {
   "cell_type": "code",
   "execution_count": null,
   "id": "2579ca1a",
   "metadata": {},
   "outputs": [],
   "source": [
    "import numpy as np"
   ]
  },
  {
   "cell_type": "code",
   "execution_count": null,
   "id": "7b10b539",
   "metadata": {},
   "outputs": [],
   "source": [
    " US_Matches = match_sim_cleaned.loc[(match_sim_cleaned['Squad 1'] == 'United States') | (match_sim_cleaned['Squad 2'] == 'United States')]"
   ]
  },
  {
   "cell_type": "code",
   "execution_count": null,
   "id": "762b61d1",
   "metadata": {},
   "outputs": [],
   "source": [
    "US_Matches['Opponent'] = np.where(US_Matches['Squad 1'] == 'United States', US_Matches['Squad 2'], US_Matches['Squad 1'])"
   ]
  },
  {
   "cell_type": "code",
   "execution_count": null,
   "id": "6fa90510",
   "metadata": {},
   "outputs": [],
   "source": [
    "US_Matches.drop(['Test'], axis=1, inplace=True)"
   ]
  },
  {
   "cell_type": "code",
   "execution_count": null,
   "id": "37ecd8b8",
   "metadata": {},
   "outputs": [],
   "source": [
    "US_Matches"
   ]
  },
  {
   "cell_type": "code",
   "execution_count": null,
   "id": "ef27edb8",
   "metadata": {},
   "outputs": [],
   "source": [
    "final_match_sims.groupby(\"Match Winner\").size()"
   ]
  },
  {
   "cell_type": "code",
   "execution_count": null,
   "id": "3c2aeb30",
   "metadata": {},
   "outputs": [],
   "source": [
    "US_Matches"
   ]
  },
  {
   "cell_type": "code",
   "execution_count": null,
   "id": "2ce2638f",
   "metadata": {},
   "outputs": [],
   "source": [
    "US_Opponent_Frequency = US_Matches.groupby('Group')['Opponent'].value_counts()"
   ]
  },
  {
   "cell_type": "code",
   "execution_count": null,
   "id": "b3a34d43",
   "metadata": {},
   "outputs": [],
   "source": [
    "US_Opponent_Frequency"
   ]
  },
  {
   "cell_type": "code",
   "execution_count": null,
   "id": "47800d1e",
   "metadata": {},
   "outputs": [],
   "source": [
    "US_Matches['Opponent'].value_counts()"
   ]
  },
  {
   "cell_type": "code",
   "execution_count": null,
   "id": "bc3517f3",
   "metadata": {},
   "outputs": [],
   "source": [
    "US_Matches['Opponent'].value_counts(ascending=False)"
   ]
  },
  {
   "cell_type": "code",
   "execution_count": null,
   "id": "f2084f38",
   "metadata": {},
   "outputs": [],
   "source": []
  }
 ],
 "metadata": {
  "kernelspec": {
   "display_name": "mlenv",
   "language": "python",
   "name": "mlenv"
  },
  "language_info": {
   "codemirror_mode": {
    "name": "ipython",
    "version": 3
   },
   "file_extension": ".py",
   "mimetype": "text/x-python",
   "name": "python",
   "nbconvert_exporter": "python",
   "pygments_lexer": "ipython3",
   "version": "3.7.13"
  }
 },
 "nbformat": 4,
 "nbformat_minor": 5
}
