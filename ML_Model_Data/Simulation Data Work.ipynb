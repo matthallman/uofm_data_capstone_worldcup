{
 "cells": [
  {
   "cell_type": "code",
   "execution_count": 1,
   "id": "91d664c0",
   "metadata": {},
   "outputs": [],
   "source": [
    "#Imports\n",
    "\n",
    "import pickle\n",
    "import numpy as np\n",
    "import pandas as pd\n",
    "\n",
    "with open('group_results.pickle', 'rb') as file:\n",
    "    group_dict = pickle.load(file)\n",
    "    \n",
    "squad_predictions = pd.read_csv(r'CSVs\\Predictions\\Squad_Strength_Final.csv', encoding='latin-1')\n"
   ]
  },
  {
   "cell_type": "code",
   "execution_count": 2,
   "id": "81c60e73",
   "metadata": {},
   "outputs": [],
   "source": [
    "# Dataframe adjustments and Dictionary Creation\n",
    "squad_predictions.drop(['Group'], axis=1, inplace=True)\n",
    "squad_strength_dict = squad_predictions.T.to_dict('dict')\n",
    "squad_list = squad_predictions['Squad'].to_dict()"
   ]
  },
  {
   "cell_type": "code",
   "execution_count": 3,
   "id": "e5c15be6",
   "metadata": {},
   "outputs": [
    {
     "data": {
      "text/plain": [
       "pandas.core.series.Series"
      ]
     },
     "execution_count": 3,
     "metadata": {},
     "output_type": "execute_result"
    }
   ],
   "source": [
    "type(squad_predictions['Squad'])"
   ]
  },
  {
   "cell_type": "code",
   "execution_count": null,
   "id": "662a3463",
   "metadata": {},
   "outputs": [],
   "source": [
    "def get_key(val):\n",
    "    for key, value in squad_list.items():\n",
    "        if val == value:\n",
    "            return key"
   ]
  },
  {
   "cell_type": "code",
   "execution_count": null,
   "id": "fdc5dd3f",
   "metadata": {},
   "outputs": [],
   "source": [
    "team1 = 'Qatar'\n",
    "team2 = 'Iran' "
   ]
  },
  {
   "cell_type": "code",
   "execution_count": null,
   "id": "0bc0d71f",
   "metadata": {},
   "outputs": [],
   "source": [
    "np.random.seed(22)\n",
    "num_sims = 1000"
   ]
  },
  {
   "cell_type": "code",
   "execution_count": null,
   "id": "f361cb3f",
   "metadata": {},
   "outputs": [],
   "source": [
    "squad_strength_dict"
   ]
  },
  {
   "cell_type": "code",
   "execution_count": null,
   "id": "d287e75d",
   "metadata": {},
   "outputs": [],
   "source": [
    "#get_key function to return Team number when given a key (team name)\n",
    "\n",
    "def get_key(val):\n",
    "    for key, value in squad_list.items():\n",
    "        if val == value:\n",
    "            return key\n",
    "\n",
    "#This needs to be a dynamic variable that the user can pick from\n",
    "\n",
    "team1 = 'Qatar'\n",
    "team2 = 'Iran'    \n",
    "        \n",
    "#Simulation Setup\n",
    "\n",
    "np.random.seed(22)\n",
    "num_sims = 10000\n",
    "    \n",
    "# Need to calculate Match probability given two teams\n",
    "        \n",
    "def matchup_simulator(team1, team2):\n",
    "    \n",
    "#     # Get team numbers for dictionary reference\n",
    "    team1_number = get_key(team1)\n",
    "    team2_number = get_key(team2)\n",
    "    \n",
    "    # Get Squad Percentages\n",
    "    S1_percent = squad_strength_dict[team1_number]['% of Points Taken']\n",
    "    S2_percent = squad_strength_dict[team2_number]['% of Points Taken']\n",
    "    \n",
    "    # Calculating Probability that S1 wins given the two squad percentages S2_prob = 1 - S1_prob\n",
    "    \n",
    "    S1_prob = ((S1_percent - (S1_percent*S2_percent)) / (S1_percent + S2_percent - (2 * S1_percent * S2_percent)))\n",
    "    \n",
    "    # Simulating match num_sims times, returns an array of 0 and 1, 1 = squad one wins\n",
    "    \n",
    "    match_results = np.random.binomial(n=1, p = S1_prob, size = num_sims)\n",
    "    \n",
    "    # Wins per num_sims\n",
    "    \n",
    "    S1_win_percent = np.mean(match_results)\n",
    "    \n",
    "    print(f\"{team1} Wins{S1_win_percent: .2%} of the time against {team2} across {num_sims} simulations.\")\n",
    "\n",
    "    "
   ]
  },
  {
   "cell_type": "code",
   "execution_count": null,
   "id": "93f82e00",
   "metadata": {},
   "outputs": [],
   "source": [
    "matchup_simulator('United States', 'Tunisia')"
   ]
  },
  {
   "cell_type": "code",
   "execution_count": null,
   "id": "2408766f",
   "metadata": {},
   "outputs": [],
   "source": [
    "S1_win_percent"
   ]
  },
  {
   "cell_type": "code",
   "execution_count": null,
   "id": "eb3ed5ac",
   "metadata": {},
   "outputs": [],
   "source": []
  },
  {
   "cell_type": "code",
   "execution_count": null,
   "id": "800ef3cc",
   "metadata": {},
   "outputs": [],
   "source": [
    "np.random.binomial(n=1, p = S1_prob, size = num_sims)"
   ]
  },
  {
   "cell_type": "code",
   "execution_count": null,
   "id": "4a9ca570",
   "metadata": {},
   "outputs": [],
   "source": [
    "squad_strength_dict[team1_number]"
   ]
  },
  {
   "cell_type": "code",
   "execution_count": null,
   "id": "8d0a59e6",
   "metadata": {},
   "outputs": [],
   "source": [
    "# Get team numbers for dictionary reference\n",
    "team1_number = get_key(team1)\n",
    "team2_number = get_key(team2)\n",
    "    \n",
    "    # Get Squad Percentages\n",
    "S1_percent = squad_strength_dict[team1_number]\n",
    "S2_percent = squad_strength_dict[team2_number]\n",
    "    \n",
    "    # Calculating Probability that S1 wins given the two squad percentages S2_prob = 1 - S1_prob\n",
    "    \n",
    "S1_prob = ((S1_percent - (S1_percent*S2_percent)) / (S1_percent + S2_percent - (2 * S1_percent * S2_percent)))\n",
    "    \n",
    "# Simulating match num_sims times, returns an array of 0 and 1, 1 = squad one wins\n",
    "    \n",
    "match_results = np.random.binomial(n=1, p = S1_prob, size = num_sims)\n",
    "    \n",
    "    # Wins per num_sims\n",
    "    \n",
    "S1_win_percent = np.mean(match_results)"
   ]
  },
  {
   "cell_type": "code",
   "execution_count": null,
   "id": "4518ae60",
   "metadata": {},
   "outputs": [],
   "source": [
    "S1_percent = squad_strength_dict[team1_number]"
   ]
  },
  {
   "cell_type": "code",
   "execution_count": null,
   "id": "87d1d8a0",
   "metadata": {},
   "outputs": [],
   "source": [
    "S1_win_percent"
   ]
  },
  {
   "cell_type": "code",
   "execution_count": null,
   "id": "9cf1f6b6",
   "metadata": {},
   "outputs": [],
   "source": [
    "squad_strength_dict[team1_number]['% of Points Taken']"
   ]
  },
  {
   "cell_type": "code",
   "execution_count": null,
   "id": "be58900a",
   "metadata": {},
   "outputs": [],
   "source": [
    "team1_number = get_key(team1)\n",
    "team2_number = get_key(team2)"
   ]
  },
  {
   "cell_type": "code",
   "execution_count": null,
   "id": "1f10c9ec",
   "metadata": {},
   "outputs": [],
   "source": [
    " team1_number = get_key(team1)"
   ]
  },
  {
   "cell_type": "code",
   "execution_count": null,
   "id": "1df0c09d",
   "metadata": {},
   "outputs": [],
   "source": [
    "team1_number"
   ]
  },
  {
   "cell_type": "code",
   "execution_count": null,
   "id": "8a251bbe",
   "metadata": {},
   "outputs": [],
   "source": [
    "print(matchup_simulator('United States','England'))"
   ]
  },
  {
   "cell_type": "code",
   "execution_count": null,
   "id": "7135d5cd",
   "metadata": {},
   "outputs": [],
   "source": [
    "squad_strength_dict"
   ]
  },
  {
   "cell_type": "code",
   "execution_count": null,
   "id": "54b5f734",
   "metadata": {},
   "outputs": [],
   "source": [
    "S1_prob"
   ]
  },
  {
   "cell_type": "code",
   "execution_count": null,
   "id": "341bccb3",
   "metadata": {},
   "outputs": [],
   "source": [
    "match_results"
   ]
  },
  {
   "cell_type": "code",
   "execution_count": null,
   "id": "703817da",
   "metadata": {},
   "outputs": [],
   "source": [
    "np.mean(match_results[0:1])"
   ]
  },
  {
   "cell_type": "code",
   "execution_count": null,
   "id": "69d3abc4",
   "metadata": {},
   "outputs": [],
   "source": [
    "points_list"
   ]
  },
  {
   "cell_type": "code",
   "execution_count": null,
   "id": "d8b481f1",
   "metadata": {},
   "outputs": [],
   "source": [
    "sum(group_dict[1]['wins'])/100000"
   ]
  },
  {
   "cell_type": "code",
   "execution_count": null,
   "id": "cd6dc4f6",
   "metadata": {},
   "outputs": [],
   "source": [
    "for i in range(len(world_cup_teams)):\n",
    "    win_avg = sum(group_dict[i]['wins']) / 100000\n",
    "    win_list.append(win_avg)"
   ]
  },
  {
   "cell_type": "code",
   "execution_count": null,
   "id": "dcfd84a0",
   "metadata": {},
   "outputs": [],
   "source": [
    "world_cup_teams['Avg. Group Stage Points'] = points_list "
   ]
  },
  {
   "cell_type": "code",
   "execution_count": null,
   "id": "9fcef309",
   "metadata": {},
   "outputs": [],
   "source": [
    "world_cup_teams['Avg. Group Stage Wins'] = win_list "
   ]
  },
  {
   "cell_type": "code",
   "execution_count": null,
   "id": "ac4bec9e",
   "metadata": {},
   "outputs": [],
   "source": [
    "group_dict[0]"
   ]
  },
  {
   "cell_type": "code",
   "execution_count": null,
   "id": "ab484692",
   "metadata": {},
   "outputs": [],
   "source": [
    "final_group_table = world_cup_teams.sort_values(by='Avg. Group Stage Points', ascending = False)"
   ]
  },
  {
   "cell_type": "code",
   "execution_count": null,
   "id": "f92fcdb6",
   "metadata": {},
   "outputs": [],
   "source": [
    "final_group_table.loc(final_group_table['Group'] == 'E'"
   ]
  },
  {
   "cell_type": "code",
   "execution_count": null,
   "id": "dda9918c",
   "metadata": {},
   "outputs": [],
   "source": [
    "final_group_table.drop(['Date qualified', 'Key Competition', 'Key'], axis=1, inplace = True)"
   ]
  },
  {
   "cell_type": "code",
   "execution_count": null,
   "id": "7860d86d",
   "metadata": {},
   "outputs": [],
   "source": [
    "final_group_table"
   ]
  },
  {
   "cell_type": "code",
   "execution_count": null,
   "id": "3f38de26",
   "metadata": {},
   "outputs": [],
   "source": [
    "final_group_table.to_csv('final_group_table.csv',index=False)"
   ]
  },
  {
   "cell_type": "code",
   "execution_count": null,
   "id": "7c0e6038",
   "metadata": {},
   "outputs": [],
   "source": [
    "group_labels = ['A','B','C','D','E','F','G','H']"
   ]
  },
  {
   "cell_type": "code",
   "execution_count": null,
   "id": "37ef7110",
   "metadata": {},
   "outputs": [],
   "source": [
    "print(f\"'{groups[2]}'\")"
   ]
  },
  {
   "cell_type": "code",
   "execution_count": null,
   "id": "299c438b",
   "metadata": {},
   "outputs": [],
   "source": [
    "with open('final_table.pickle', 'wb') as file:\n",
    "    pickle.dump(final_group_table, file)"
   ]
  },
  {
   "cell_type": "code",
   "execution_count": null,
   "id": "fd316360",
   "metadata": {},
   "outputs": [],
   "source": [
    "group_tables = []"
   ]
  },
  {
   "cell_type": "code",
   "execution_count": null,
   "id": "8a84190e",
   "metadata": {},
   "outputs": [],
   "source": [
    "group_tables"
   ]
  },
  {
   "cell_type": "code",
   "execution_count": null,
   "id": "ac9cbb59",
   "metadata": {},
   "outputs": [],
   "source": [
    "type(group_tables)"
   ]
  },
  {
   "cell_type": "code",
   "execution_count": null,
   "id": "1908e134",
   "metadata": {},
   "outputs": [],
   "source": [
    "group_tables[6]"
   ]
  },
  {
   "cell_type": "code",
   "execution_count": null,
   "id": "506e0905",
   "metadata": {},
   "outputs": [],
   "source": [
    "group_tables[0]"
   ]
  },
  {
   "cell_type": "code",
   "execution_count": null,
   "id": "9d72bcf4",
   "metadata": {},
   "outputs": [],
   "source": [
    "for i in range(len(group_labels)):\n",
    "    group_table = final_group_table.loc[(final_group_table['Group'] == group_labels[i])]\n",
    "    group_tables.append(group_table)\n",
    "\n",
    "\n"
   ]
  },
  {
   "cell_type": "code",
   "execution_count": null,
   "id": "de863984",
   "metadata": {},
   "outputs": [],
   "source": [
    "win_list"
   ]
  },
  {
   "cell_type": "code",
   "execution_count": null,
   "id": "c161cf17",
   "metadata": {},
   "outputs": [],
   "source": [
    "import pandas as pd"
   ]
  },
  {
   "cell_type": "code",
   "execution_count": null,
   "id": "da0b6408",
   "metadata": {},
   "outputs": [],
   "source": [
    "final_match_sims = pd.read_csv(r'CSVs\\Predictions\\all_knockout_matches.csv' , encoding ='latin-1')"
   ]
  },
  {
   "cell_type": "code",
   "execution_count": null,
   "id": "df5c2de5",
   "metadata": {},
   "outputs": [],
   "source": [
    "final_match_sims.loc([''])"
   ]
  },
  {
   "cell_type": "code",
   "execution_count": null,
   "id": "73e8610b",
   "metadata": {
    "scrolled": true
   },
   "outputs": [],
   "source": [
    "squad_2_teams = final_match_sims.groupby('Group')['Squad 2'].value_counts()"
   ]
  },
  {
   "cell_type": "code",
   "execution_count": null,
   "id": "43759984",
   "metadata": {},
   "outputs": [],
   "source": [
    "squad_2_teams.to_csv('squad_2_teams.csv')"
   ]
  },
  {
   "cell_type": "code",
   "execution_count": null,
   "id": "06d86464",
   "metadata": {},
   "outputs": [],
   "source": [
    "group_dict"
   ]
  },
  {
   "cell_type": "code",
   "execution_count": null,
   "id": "251c5244",
   "metadata": {},
   "outputs": [],
   "source": [
    "match_sim_cleaned = final_match_sims.drop(['Stage','Squad 1 Key', 'Squad 2 Key', 'S1_wins'], axis=1).copy()"
   ]
  },
  {
   "cell_type": "code",
   "execution_count": null,
   "id": "2befc313",
   "metadata": {},
   "outputs": [],
   "source": [
    "match_sim_cleaned.shape"
   ]
  },
  {
   "cell_type": "code",
   "execution_count": null,
   "id": "2579ca1a",
   "metadata": {},
   "outputs": [],
   "source": [
    "import numpy as np"
   ]
  },
  {
   "cell_type": "code",
   "execution_count": null,
   "id": "7b10b539",
   "metadata": {},
   "outputs": [],
   "source": [
    " US_Matches = match_sim_cleaned.loc[(match_sim_cleaned['Squad 1'] == 'United States') | (match_sim_cleaned['Squad 2'] == 'United States')]"
   ]
  },
  {
   "cell_type": "code",
   "execution_count": null,
   "id": "762b61d1",
   "metadata": {},
   "outputs": [],
   "source": [
    "US_Matches['Opponent'] = np.where(US_Matches['Squad 1'] == 'United States', US_Matches['Squad 2'], US_Matches['Squad 1'])"
   ]
  },
  {
   "cell_type": "code",
   "execution_count": null,
   "id": "6fa90510",
   "metadata": {},
   "outputs": [],
   "source": [
    "US_Matches.drop(['Test'], axis=1, inplace=True)"
   ]
  },
  {
   "cell_type": "code",
   "execution_count": null,
   "id": "37ecd8b8",
   "metadata": {},
   "outputs": [],
   "source": [
    "US_Matches"
   ]
  },
  {
   "cell_type": "code",
   "execution_count": null,
   "id": "ef27edb8",
   "metadata": {},
   "outputs": [],
   "source": [
    "final_match_sims.groupby(\"Match Winner\").size()"
   ]
  },
  {
   "cell_type": "code",
   "execution_count": null,
   "id": "3c2aeb30",
   "metadata": {},
   "outputs": [],
   "source": [
    "US_Matches"
   ]
  },
  {
   "cell_type": "code",
   "execution_count": null,
   "id": "2ce2638f",
   "metadata": {},
   "outputs": [],
   "source": [
    "US_Opponent_Frequency = US_Matches.groupby('Group')['Opponent'].value_counts()"
   ]
  },
  {
   "cell_type": "code",
   "execution_count": null,
   "id": "b3a34d43",
   "metadata": {},
   "outputs": [],
   "source": [
    "US_Opponent_Frequency"
   ]
  },
  {
   "cell_type": "code",
   "execution_count": null,
   "id": "47800d1e",
   "metadata": {},
   "outputs": [],
   "source": [
    "US_Matches['Opponent'].value_counts()"
   ]
  },
  {
   "cell_type": "code",
   "execution_count": null,
   "id": "bc3517f3",
   "metadata": {},
   "outputs": [],
   "source": [
    "US_Matches['Opponent'].value_counts(ascending=False)"
   ]
  },
  {
   "cell_type": "code",
   "execution_count": null,
   "id": "f2084f38",
   "metadata": {},
   "outputs": [],
   "source": [
    "final_results = pd.read_csv('CSVs/final_results.csv')"
   ]
  },
  {
   "cell_type": "code",
   "execution_count": 4,
   "id": "e9cb9bef",
   "metadata": {},
   "outputs": [],
   "source": [
    "import json"
   ]
  },
  {
   "cell_type": "code",
   "execution_count": 6,
   "id": "f2ef52f9",
   "metadata": {},
   "outputs": [],
   "source": [
    "squad_strength_json = squad_predictions.to_json(orient=\"index\")"
   ]
  },
  {
   "cell_type": "code",
   "execution_count": 7,
   "id": "527455f6",
   "metadata": {},
   "outputs": [],
   "source": [
    "parsed = json.loads(squad_strength_json)"
   ]
  },
  {
   "cell_type": "code",
   "execution_count": 8,
   "id": "65f1aca5",
   "metadata": {},
   "outputs": [],
   "source": [
    "final = json.dumps(parsed)  "
   ]
  },
  {
   "cell_type": "code",
   "execution_count": 9,
   "id": "2161b86e",
   "metadata": {},
   "outputs": [],
   "source": [
    "with open(\"squad_strength.json\",\"w\") as outfile:\n",
    "    outfile.write(final)"
   ]
  },
  {
   "cell_type": "code",
   "execution_count": null,
   "id": "a8617afa",
   "metadata": {},
   "outputs": [],
   "source": []
  }
 ],
 "metadata": {
  "kernelspec": {
   "display_name": "mlenv",
   "language": "python",
   "name": "mlenv"
  },
  "language_info": {
   "codemirror_mode": {
    "name": "ipython",
    "version": 3
   },
   "file_extension": ".py",
   "mimetype": "text/x-python",
   "name": "python",
   "nbconvert_exporter": "python",
   "pygments_lexer": "ipython3",
   "version": "3.7.13"
  }
 },
 "nbformat": 4,
 "nbformat_minor": 5
}
