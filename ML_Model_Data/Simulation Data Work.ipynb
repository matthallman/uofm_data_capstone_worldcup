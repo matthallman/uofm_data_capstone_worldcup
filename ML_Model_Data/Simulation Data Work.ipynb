{
 "cells": [
  {
   "cell_type": "code",
   "execution_count": 1,
   "id": "91d664c0",
   "metadata": {},
   "outputs": [],
   "source": [
    "#Imports\n",
    "\n",
    "import pickle\n",
    "import numpy as np\n",
    "import pandas as pd\n",
    "\n",
    "with open('group_results.pickle', 'rb') as file:\n",
    "    group_dict = pickle.load(file)\n",
    "    \n",
    "squad_predictions = pd.read_csv(r'CSVs\\Predictions\\Squad_Strength_Final.csv', encoding='latin-1')\n"
   ]
  },
  {
   "cell_type": "code",
   "execution_count": 2,
   "id": "81c60e73",
   "metadata": {},
   "outputs": [],
   "source": [
    "# Dataframe adjustments and Dictionary Creation\n",
    "squad_predictions.drop(['Group'], axis=1, inplace=True)\n",
    "squad_strength_dict = squad_predictions.T.to_dict('dict')\n",
    "squad_list = squad_predictions['Squad'].to_dict()"
   ]
  },
  {
   "cell_type": "code",
   "execution_count": null,
   "id": "e5c15be6",
   "metadata": {},
   "outputs": [],
   "source": [
    "type(squad_predictions['Squad'])"
   ]
  },
  {
   "cell_type": "code",
   "execution_count": 3,
   "id": "662a3463",
   "metadata": {},
   "outputs": [],
   "source": [
    "def get_key(val):\n",
    "    for key, value in squad_list.items():\n",
    "        if val == value:\n",
    "            return key"
   ]
  },
  {
   "cell_type": "code",
   "execution_count": 4,
   "id": "fdc5dd3f",
   "metadata": {},
   "outputs": [],
   "source": [
    "team1 = 'Qatar'\n",
    "team2 = 'Iran' "
   ]
  },
  {
   "cell_type": "code",
   "execution_count": 5,
   "id": "0bc0d71f",
   "metadata": {},
   "outputs": [],
   "source": [
    "np.random.seed(22)\n",
    "num_sims = 1000"
   ]
  },
  {
   "cell_type": "code",
   "execution_count": 28,
   "id": "f361cb3f",
   "metadata": {},
   "outputs": [
    {
     "data": {
      "text/plain": [
       "{0: {'Squad': 'Qatar',\n",
       "  'xGS': 1.4717311945990366,\n",
       "  'xGA': 1.0457861860965494,\n",
       "  '% of Points Taken': 0.6010889696172896},\n",
       " 1: {'Squad': 'Iran',\n",
       "  'xGS': 1.5206215551013722,\n",
       "  'xGA': 0.7594128787171791,\n",
       "  '% of Points Taken': 0.697029989208942},\n",
       " 2: {'Squad': 'South Korea',\n",
       "  'xGS': 1.4705959439177083,\n",
       "  'xGA': 0.6463785196922208,\n",
       "  '% of Points Taken': 0.7283852252752075},\n",
       " 3: {'Squad': 'Japan',\n",
       "  'xGS': 1.5855921549457537,\n",
       "  'xGA': 1.1521382928602435,\n",
       "  '% of Points Taken': 0.5946461185980861},\n",
       " 4: {'Squad': 'Saudi Arabia',\n",
       "  'xGS': 1.1779602458118204,\n",
       "  'xGA': 0.7650932382978416,\n",
       "  '% of Points Taken': 0.6266449554239172},\n",
       " 5: {'Squad': 'Australia',\n",
       "  'xGS': 1.7580874591210671,\n",
       "  'xGA': 0.9765950303045832,\n",
       "  '% of Points Taken': 0.6694042296891612},\n",
       " 6: {'Squad': 'Ghana',\n",
       "  'xGS': 0.7475156339320066,\n",
       "  'xGA': 0.7962572200514713,\n",
       "  '% of Points Taken': 0.48105895195737},\n",
       " 7: {'Squad': 'Senegal',\n",
       "  'xGS': 1.4492380221496155,\n",
       "  'xGA': 0.5341929926409514,\n",
       "  '% of Points Taken': 0.7681052591852667},\n",
       " 8: {'Squad': 'Tunisia',\n",
       "  'xGS': 1.0729974352293008,\n",
       "  'xGA': 0.6427868965700877,\n",
       "  '% of Points Taken': 0.6490526723989217},\n",
       " 9: {'Squad': 'Cameroon',\n",
       "  'xGS': 1.2447218458117606,\n",
       "  'xGA': 0.5776420200308354,\n",
       "  '% of Points Taken': 0.7152978817357106},\n",
       " 10: {'Squad': 'Morocco',\n",
       "  'xGS': 1.514195896847415,\n",
       "  'xGA': 0.4939295959220707,\n",
       "  '% of Points Taken': 0.7931955609918435},\n",
       " 11: {'Squad': 'Canada',\n",
       "  'xGS': 1.8301930147654208,\n",
       "  'xGA': 1.1639512000150545,\n",
       "  '% of Points Taken': 0.6325381919560558},\n",
       " 12: {'Squad': 'Mexico',\n",
       "  'xGS': 1.8203909501014408,\n",
       "  'xGA': 0.7069713662341133,\n",
       "  '% of Points Taken': 0.7567567102263658},\n",
       " 13: {'Squad': 'United States',\n",
       "  'xGS': 1.6669379218297091,\n",
       "  'xGA': 0.876978414638292,\n",
       "  '% of Points Taken': 0.6836752213418587},\n",
       " 14: {'Squad': 'Costa Rica',\n",
       "  'xGS': 1.1342867415850968,\n",
       "  'xGA': 1.039307472332269,\n",
       "  '% of Points Taken': 0.5262107808409711},\n",
       " 15: {'Squad': 'Brazil',\n",
       "  'xGS': 1.8480810265688228,\n",
       "  'xGA': 0.5351122824727477,\n",
       "  '% of Points Taken': 0.8156744452581934},\n",
       " 16: {'Squad': 'Argentina',\n",
       "  'xGS': 1.5222678598860115,\n",
       "  'xGA': 0.7125878198515901,\n",
       "  '% of Points Taken': 0.7131769365295317},\n",
       " 17: {'Squad': 'Ecuador',\n",
       "  'xGS': 1.100618735501271,\n",
       "  'xGA': 1.088802003855314,\n",
       "  '% of Points Taken': 0.5032383034329192},\n",
       " 18: {'Squad': 'Uruguay',\n",
       "  'xGS': 1.2405811605677517,\n",
       "  'xGA': 1.0549040311510594,\n",
       "  '% of Points Taken': 0.54848619952249},\n",
       " 19: {'Squad': 'Germany',\n",
       "  'xGS': 2.634661785815135,\n",
       "  'xGA': 0.7457954659965638,\n",
       "  '% of Points Taken': 0.8197227828307547},\n",
       " 20: {'Squad': 'Denmark',\n",
       "  'xGS': 2.09956276509866,\n",
       "  'xGA': 0.7362782223282431,\n",
       "  '% of Points Taken': 0.7785871019181405},\n",
       " 21: {'Squad': 'Belgium',\n",
       "  'xGS': 2.429895599771159,\n",
       "  'xGA': 0.6540772413429496,\n",
       "  '% of Points Taken': 0.8284744476959994},\n",
       " 22: {'Squad': 'France',\n",
       "  'xGS': 1.8473934403103804,\n",
       "  'xGA': 0.6423015264647943,\n",
       "  '% of Points Taken': 0.7803603815008513},\n",
       " 23: {'Squad': 'Croatia',\n",
       "  'xGS': 1.807317977080308,\n",
       "  'xGA': 0.8935792372023863,\n",
       "  '% of Points Taken': 0.6995670575552531},\n",
       " 24: {'Squad': 'Spain',\n",
       "  'xGS': 2.182467017302208,\n",
       "  'xGA': 0.5924345297732063,\n",
       "  '% of Points Taken': 0.8270360319558283},\n",
       " 25: {'Squad': 'Serbia',\n",
       "  'xGS': 2.016305754487616,\n",
       "  'xGA': 1.0694873598266257,\n",
       "  '% of Points Taken': 0.6815502055643873},\n",
       " 26: {'Squad': 'England',\n",
       "  'xGS': 2.243788327703092,\n",
       "  'xGA': 0.604073657277876,\n",
       "  '% of Points Taken': 0.8284482998923528},\n",
       " 27: {'Squad': 'Switzerland',\n",
       "  'xGS': 1.764158347517899,\n",
       "  'xGA': 0.9278359936549172,\n",
       "  '% of Points Taken': 0.6837563792111145},\n",
       " 28: {'Squad': 'Netherlands',\n",
       "  'xGS': 2.4548423901072223,\n",
       "  'xGA': 0.5886784474604497,\n",
       "  '% of Points Taken': 0.847292970427077},\n",
       " 29: {'Squad': 'Portugal',\n",
       "  'xGS': 2.27323565152516,\n",
       "  'xGA': 0.7636734018604361,\n",
       "  '% of Points Taken': 0.7873429478698413},\n",
       " 30: {'Squad': 'Poland',\n",
       "  'xGS': 1.514732025336837,\n",
       "  'xGA': 0.9385454498336998,\n",
       "  '% of Points Taken': 0.6397766893269291},\n",
       " 31: {'Squad': 'Wales',\n",
       "  'xGS': 1.3342312912328658,\n",
       "  'xGA': 1.150965909346021,\n",
       "  '% of Points Taken': 0.5442103817849258}}"
      ]
     },
     "execution_count": 28,
     "metadata": {},
     "output_type": "execute_result"
    }
   ],
   "source": [
    "squad_strength_dict"
   ]
  },
  {
   "cell_type": "code",
   "execution_count": 65,
   "id": "d287e75d",
   "metadata": {},
   "outputs": [],
   "source": [
    "#get_key function to return Team number when given a key (team name)\n",
    "\n",
    "def get_key(val):\n",
    "    for key, value in squad_list.items():\n",
    "        if val == value:\n",
    "            return key\n",
    "\n",
    "#This needs to be a dynamic variable that the user can pick from\n",
    "\n",
    "team1 = 'Qatar'\n",
    "team2 = 'Iran'    \n",
    "        \n",
    "#Simulation Setup\n",
    "\n",
    "np.random.seed(22)\n",
    "num_sims = 10000\n",
    "    \n",
    "# Need to calculate Match probability given two teams\n",
    "        \n",
    "def matchup_simulator(team1, team2):\n",
    "    \n",
    "#     # Get team numbers for dictionary reference\n",
    "    team1_number = get_key(team1)\n",
    "    team2_number = get_key(team2)\n",
    "    \n",
    "    # Get Squad Percentages\n",
    "    S1_percent = squad_strength_dict[team1_number]['% of Points Taken']\n",
    "    S2_percent = squad_strength_dict[team2_number]['% of Points Taken']\n",
    "    \n",
    "    # Calculating Probability that S1 wins given the two squad percentages S2_prob = 1 - S1_prob\n",
    "    \n",
    "    S1_prob = ((S1_percent - (S1_percent*S2_percent)) / (S1_percent + S2_percent - (2 * S1_percent * S2_percent)))\n",
    "    \n",
    "    # Simulating match num_sims times, returns an array of 0 and 1, 1 = squad one wins\n",
    "    \n",
    "    match_results = np.random.binomial(n=1, p = S1_prob, size = num_sims)\n",
    "    \n",
    "    # Wins per num_sims\n",
    "    \n",
    "    S1_win_percent = np.mean(match_results)\n",
    "    \n",
    "    print(f\"{team1} Wins{S1_win_percent: .2%} of the time against {team2} across {num_sims} simulations.\")\n",
    "\n",
    "    "
   ]
  },
  {
   "cell_type": "code",
   "execution_count": 66,
   "id": "93f82e00",
   "metadata": {},
   "outputs": [
    {
     "name": "stdout",
     "output_type": "stream",
     "text": [
      "United States Wins 53.55% of the time against Tunisia across 10000 simulations.\n"
     ]
    }
   ],
   "source": [
    "matchup_simulator('United States', 'Tunisia')"
   ]
  },
  {
   "cell_type": "code",
   "execution_count": 11,
   "id": "2408766f",
   "metadata": {},
   "outputs": [
    {
     "ename": "NameError",
     "evalue": "name 'S1_win_percent' is not defined",
     "output_type": "error",
     "traceback": [
      "\u001b[1;31m---------------------------------------------------------------------------\u001b[0m",
      "\u001b[1;31mNameError\u001b[0m                                 Traceback (most recent call last)",
      "\u001b[1;32m~\\AppData\\Local\\Temp\\ipykernel_19980\\813204727.py\u001b[0m in \u001b[0;36m<module>\u001b[1;34m\u001b[0m\n\u001b[1;32m----> 1\u001b[1;33m \u001b[0mS1_win_percent\u001b[0m\u001b[1;33m\u001b[0m\u001b[1;33m\u001b[0m\u001b[0m\n\u001b[0m",
      "\u001b[1;31mNameError\u001b[0m: name 'S1_win_percent' is not defined"
     ]
    }
   ],
   "source": [
    "S1_win_percent"
   ]
  },
  {
   "cell_type": "code",
   "execution_count": null,
   "id": "eb3ed5ac",
   "metadata": {},
   "outputs": [],
   "source": []
  },
  {
   "cell_type": "code",
   "execution_count": null,
   "id": "800ef3cc",
   "metadata": {},
   "outputs": [],
   "source": [
    "np.random.binomial(n=1, p = S1_prob, size = num_sims)"
   ]
  },
  {
   "cell_type": "code",
   "execution_count": null,
   "id": "4a9ca570",
   "metadata": {},
   "outputs": [],
   "source": [
    "squad_strength_dict[team1_number]"
   ]
  },
  {
   "cell_type": "code",
   "execution_count": null,
   "id": "8d0a59e6",
   "metadata": {},
   "outputs": [],
   "source": [
    "# Get team numbers for dictionary reference\n",
    "team1_number = get_key(team1)\n",
    "team2_number = get_key(team2)\n",
    "    \n",
    "    # Get Squad Percentages\n",
    "S1_percent = squad_strength_dict[team1_number]\n",
    "S2_percent = squad_strength_dict[team2_number]\n",
    "    \n",
    "    # Calculating Probability that S1 wins given the two squad percentages S2_prob = 1 - S1_prob\n",
    "    \n",
    "S1_prob = ((S1_percent - (S1_percent*S2_percent)) / (S1_percent + S2_percent - (2 * S1_percent * S2_percent)))\n",
    "    \n",
    "# Simulating match num_sims times, returns an array of 0 and 1, 1 = squad one wins\n",
    "    \n",
    "match_results = np.random.binomial(n=1, p = S1_prob, size = num_sims)\n",
    "    \n",
    "    # Wins per num_sims\n",
    "    \n",
    "S1_win_percent = np.mean(match_results)"
   ]
  },
  {
   "cell_type": "code",
   "execution_count": null,
   "id": "4518ae60",
   "metadata": {},
   "outputs": [],
   "source": [
    "S1_percent = squad_strength_dict[team1_number]"
   ]
  },
  {
   "cell_type": "code",
   "execution_count": null,
   "id": "87d1d8a0",
   "metadata": {},
   "outputs": [],
   "source": [
    "S1_win_percent"
   ]
  },
  {
   "cell_type": "code",
   "execution_count": null,
   "id": "9cf1f6b6",
   "metadata": {},
   "outputs": [],
   "source": [
    "squad_strength_dict[team1_number]['% of Points Taken']"
   ]
  },
  {
   "cell_type": "code",
   "execution_count": null,
   "id": "be58900a",
   "metadata": {},
   "outputs": [],
   "source": [
    "team1_number = get_key(team1)\n",
    "team2_number = get_key(team2)"
   ]
  },
  {
   "cell_type": "code",
   "execution_count": null,
   "id": "1f10c9ec",
   "metadata": {},
   "outputs": [],
   "source": [
    " team1_number = get_key(team1)"
   ]
  },
  {
   "cell_type": "code",
   "execution_count": null,
   "id": "1df0c09d",
   "metadata": {},
   "outputs": [],
   "source": [
    "team1_number"
   ]
  },
  {
   "cell_type": "code",
   "execution_count": null,
   "id": "8a251bbe",
   "metadata": {},
   "outputs": [],
   "source": [
    "print(matchup_simulator('United States','England'))"
   ]
  },
  {
   "cell_type": "code",
   "execution_count": null,
   "id": "7135d5cd",
   "metadata": {},
   "outputs": [],
   "source": [
    "squad_strength_dict"
   ]
  },
  {
   "cell_type": "code",
   "execution_count": null,
   "id": "54b5f734",
   "metadata": {},
   "outputs": [],
   "source": [
    "S1_prob"
   ]
  },
  {
   "cell_type": "code",
   "execution_count": 44,
   "id": "341bccb3",
   "metadata": {},
   "outputs": [
    {
     "ename": "NameError",
     "evalue": "name 'match_results' is not defined",
     "output_type": "error",
     "traceback": [
      "\u001b[1;31m---------------------------------------------------------------------------\u001b[0m",
      "\u001b[1;31mNameError\u001b[0m                                 Traceback (most recent call last)",
      "\u001b[1;32m~\\AppData\\Local\\Temp\\ipykernel_19980\\2685019341.py\u001b[0m in \u001b[0;36m<module>\u001b[1;34m\u001b[0m\n\u001b[1;32m----> 1\u001b[1;33m \u001b[0mmatch_results\u001b[0m\u001b[1;33m\u001b[0m\u001b[1;33m\u001b[0m\u001b[0m\n\u001b[0m",
      "\u001b[1;31mNameError\u001b[0m: name 'match_results' is not defined"
     ]
    }
   ],
   "source": [
    "match_results"
   ]
  },
  {
   "cell_type": "code",
   "execution_count": null,
   "id": "703817da",
   "metadata": {},
   "outputs": [],
   "source": [
    "np.mean(match_results[0:1])"
   ]
  },
  {
   "cell_type": "code",
   "execution_count": null,
   "id": "e945adf7",
   "metadata": {},
   "outputs": [],
   "source": [
    "match_results[0:1]"
   ]
  },
  {
   "cell_type": "code",
   "execution_count": null,
   "id": "83ebbb27",
   "metadata": {},
   "outputs": [],
   "source": [
    "x = 5"
   ]
  },
  {
   "cell_type": "code",
   "execution_count": null,
   "id": "62b6407a",
   "metadata": {},
   "outputs": [],
   "source": [
    "6 % 5"
   ]
  },
  {
   "cell_type": "code",
   "execution_count": null,
   "id": "6fab9758",
   "metadata": {},
   "outputs": [],
   "source": [
    "range(num_sims)"
   ]
  },
  {
   "cell_type": "code",
   "execution_count": null,
   "id": "912ce2fc",
   "metadata": {},
   "outputs": [],
   "source": [
    "count = 1"
   ]
  },
  {
   "cell_type": "code",
   "execution_count": null,
   "id": "213b502d",
   "metadata": {},
   "outputs": [],
   "source": [
    "np.mean(match_results)"
   ]
  },
  {
   "cell_type": "code",
   "execution_count": null,
   "id": "0fa3ad53",
   "metadata": {},
   "outputs": [],
   "source": [
    "for x in range()"
   ]
  },
  {
   "cell_type": "code",
   "execution_count": null,
   "id": "26c6e59f",
   "metadata": {},
   "outputs": [],
   "source": [
    "squad_predictions"
   ]
  },
  {
   "cell_type": "code",
   "execution_count": null,
   "id": "746e373d",
   "metadata": {},
   "outputs": [],
   "source": []
  },
  {
   "cell_type": "code",
   "execution_count": null,
   "id": "827259f3",
   "metadata": {},
   "outputs": [],
   "source": [
    "group_dict = new_list "
   ]
  },
  {
   "cell_type": "code",
   "execution_count": 45,
   "id": "14bb0da7",
   "metadata": {},
   "outputs": [],
   "source": [
    "world_cup_teams = pd.read_csv(r'CSVs\\World_Cup_Teams.csv', encoding='latin-1')"
   ]
  },
  {
   "cell_type": "code",
   "execution_count": 48,
   "id": "61d5d016",
   "metadata": {},
   "outputs": [],
   "source": [
    "win_list = []"
   ]
  },
  {
   "cell_type": "code",
   "execution_count": 47,
   "id": "0b3c6f7a",
   "metadata": {},
   "outputs": [],
   "source": [
    "points_list = []"
   ]
  },
  {
   "cell_type": "code",
   "execution_count": 49,
   "id": "dd72c83a",
   "metadata": {},
   "outputs": [],
   "source": [
    "for i in range(len(world_cup_teams)):\n",
    "    points_avg = sum(group_dict[i]['points']) / 100000\n",
    "    points_list.append(points_avg)"
   ]
  },
  {
   "cell_type": "code",
   "execution_count": null,
   "id": "69d3abc4",
   "metadata": {},
   "outputs": [],
   "source": [
    "points_list"
   ]
  },
  {
   "cell_type": "code",
   "execution_count": 50,
   "id": "d8b481f1",
   "metadata": {},
   "outputs": [
    {
     "data": {
      "text/plain": [
       "1.49533"
      ]
     },
     "execution_count": 50,
     "metadata": {},
     "output_type": "execute_result"
    }
   ],
   "source": [
    "sum(group_dict[1]['wins'])/100000"
   ]
  },
  {
   "cell_type": "code",
   "execution_count": 51,
   "id": "cd6dc4f6",
   "metadata": {},
   "outputs": [],
   "source": [
    "for i in range(len(world_cup_teams)):\n",
    "    win_avg = sum(group_dict[i]['wins']) / 100000\n",
    "    win_list.append(win_avg)"
   ]
  },
  {
   "cell_type": "code",
   "execution_count": 52,
   "id": "dcfd84a0",
   "metadata": {},
   "outputs": [],
   "source": [
    "world_cup_teams['Avg. Group Stage Points'] = points_list "
   ]
  },
  {
   "cell_type": "code",
   "execution_count": 53,
   "id": "9fcef309",
   "metadata": {},
   "outputs": [],
   "source": [
    "world_cup_teams['Avg. Group Stage Wins'] = win_list "
   ]
  },
  {
   "cell_type": "code",
   "execution_count": null,
   "id": "ac4bec9e",
   "metadata": {},
   "outputs": [],
   "source": [
    "group_dict[0]"
   ]
  },
  {
   "cell_type": "code",
   "execution_count": 54,
   "id": "ab484692",
   "metadata": {},
   "outputs": [],
   "source": [
    "final_group_table = world_cup_teams.sort_values(by='Avg. Group Stage Points', ascending = False)"
   ]
  },
  {
   "cell_type": "code",
   "execution_count": null,
   "id": "f92fcdb6",
   "metadata": {},
   "outputs": [],
   "source": [
    "final_group_table.loc(final_group_table['Group'] == 'E'"
   ]
  },
  {
   "cell_type": "code",
   "execution_count": 56,
   "id": "dda9918c",
   "metadata": {},
   "outputs": [],
   "source": [
    "final_group_table.drop(['Date qualified', 'Key Competition', 'Key'], axis=1, inplace = True)"
   ]
  },
  {
   "cell_type": "code",
   "execution_count": 57,
   "id": "7860d86d",
   "metadata": {},
   "outputs": [
    {
     "data": {
      "text/html": [
       "<div>\n",
       "<style scoped>\n",
       "    .dataframe tbody tr th:only-of-type {\n",
       "        vertical-align: middle;\n",
       "    }\n",
       "\n",
       "    .dataframe tbody tr th {\n",
       "        vertical-align: top;\n",
       "    }\n",
       "\n",
       "    .dataframe thead th {\n",
       "        text-align: right;\n",
       "    }\n",
       "</style>\n",
       "<table border=\"1\" class=\"dataframe\">\n",
       "  <thead>\n",
       "    <tr style=\"text-align: right;\">\n",
       "      <th></th>\n",
       "      <th>Squad</th>\n",
       "      <th>Association</th>\n",
       "      <th>Group</th>\n",
       "      <th>Avg. Group Stage Points</th>\n",
       "      <th>Avg. Group Stage Wins</th>\n",
       "    </tr>\n",
       "  </thead>\n",
       "  <tbody>\n",
       "    <tr>\n",
       "      <th>28</th>\n",
       "      <td>Netherlands</td>\n",
       "      <td>UEFA</td>\n",
       "      <td>A</td>\n",
       "      <td>6.76263</td>\n",
       "      <td>2.25421</td>\n",
       "    </tr>\n",
       "    <tr>\n",
       "      <th>26</th>\n",
       "      <td>England</td>\n",
       "      <td>UEFA</td>\n",
       "      <td>B</td>\n",
       "      <td>6.50892</td>\n",
       "      <td>2.16964</td>\n",
       "    </tr>\n",
       "    <tr>\n",
       "      <th>29</th>\n",
       "      <td>Portugal</td>\n",
       "      <td>UEFA</td>\n",
       "      <td>H</td>\n",
       "      <td>6.40248</td>\n",
       "      <td>2.13416</td>\n",
       "    </tr>\n",
       "    <tr>\n",
       "      <th>24</th>\n",
       "      <td>Spain</td>\n",
       "      <td>UEFA</td>\n",
       "      <td>E</td>\n",
       "      <td>6.26718</td>\n",
       "      <td>2.08906</td>\n",
       "    </tr>\n",
       "    <tr>\n",
       "      <th>19</th>\n",
       "      <td>Germany</td>\n",
       "      <td>UEFA</td>\n",
       "      <td>E</td>\n",
       "      <td>6.14520</td>\n",
       "      <td>2.04840</td>\n",
       "    </tr>\n",
       "    <tr>\n",
       "      <th>15</th>\n",
       "      <td>Brazil</td>\n",
       "      <td>CONMEBOL</td>\n",
       "      <td>G</td>\n",
       "      <td>5.94234</td>\n",
       "      <td>1.98078</td>\n",
       "    </tr>\n",
       "    <tr>\n",
       "      <th>21</th>\n",
       "      <td>Belgium</td>\n",
       "      <td>UEFA</td>\n",
       "      <td>F</td>\n",
       "      <td>5.90847</td>\n",
       "      <td>1.96949</td>\n",
       "    </tr>\n",
       "    <tr>\n",
       "      <th>2</th>\n",
       "      <td>South Korea</td>\n",
       "      <td>AFC</td>\n",
       "      <td>H</td>\n",
       "      <td>5.55603</td>\n",
       "      <td>1.85201</td>\n",
       "    </tr>\n",
       "    <tr>\n",
       "      <th>12</th>\n",
       "      <td>Mexico</td>\n",
       "      <td>CONCACAF</td>\n",
       "      <td>C</td>\n",
       "      <td>5.52792</td>\n",
       "      <td>1.84264</td>\n",
       "    </tr>\n",
       "    <tr>\n",
       "      <th>7</th>\n",
       "      <td>Senegal</td>\n",
       "      <td>CAF</td>\n",
       "      <td>A</td>\n",
       "      <td>5.49564</td>\n",
       "      <td>1.83188</td>\n",
       "    </tr>\n",
       "    <tr>\n",
       "      <th>22</th>\n",
       "      <td>France</td>\n",
       "      <td>UEFA</td>\n",
       "      <td>D</td>\n",
       "      <td>5.40030</td>\n",
       "      <td>1.80010</td>\n",
       "    </tr>\n",
       "    <tr>\n",
       "      <th>20</th>\n",
       "      <td>Denmark</td>\n",
       "      <td>UEFA</td>\n",
       "      <td>D</td>\n",
       "      <td>5.35530</td>\n",
       "      <td>1.78510</td>\n",
       "    </tr>\n",
       "    <tr>\n",
       "      <th>10</th>\n",
       "      <td>Morocco</td>\n",
       "      <td>CAF</td>\n",
       "      <td>F</td>\n",
       "      <td>5.25909</td>\n",
       "      <td>1.75303</td>\n",
       "    </tr>\n",
       "    <tr>\n",
       "      <th>16</th>\n",
       "      <td>Argentina</td>\n",
       "      <td>CONMEBOL</td>\n",
       "      <td>C</td>\n",
       "      <td>4.87338</td>\n",
       "      <td>1.62446</td>\n",
       "    </tr>\n",
       "    <tr>\n",
       "      <th>1</th>\n",
       "      <td>Iran</td>\n",
       "      <td>AFC</td>\n",
       "      <td>B</td>\n",
       "      <td>4.48599</td>\n",
       "      <td>1.49533</td>\n",
       "    </tr>\n",
       "    <tr>\n",
       "      <th>9</th>\n",
       "      <td>Cameroon</td>\n",
       "      <td>CAF</td>\n",
       "      <td>G</td>\n",
       "      <td>4.32573</td>\n",
       "      <td>1.44191</td>\n",
       "    </tr>\n",
       "    <tr>\n",
       "      <th>13</th>\n",
       "      <td>United States</td>\n",
       "      <td>CONCACAF</td>\n",
       "      <td>B</td>\n",
       "      <td>4.31502</td>\n",
       "      <td>1.43834</td>\n",
       "    </tr>\n",
       "    <tr>\n",
       "      <th>27</th>\n",
       "      <td>Switzerland</td>\n",
       "      <td>UEFA</td>\n",
       "      <td>G</td>\n",
       "      <td>3.88155</td>\n",
       "      <td>1.29385</td>\n",
       "    </tr>\n",
       "    <tr>\n",
       "      <th>30</th>\n",
       "      <td>Poland</td>\n",
       "      <td>UEFA</td>\n",
       "      <td>C</td>\n",
       "      <td>3.87096</td>\n",
       "      <td>1.29032</td>\n",
       "    </tr>\n",
       "    <tr>\n",
       "      <th>25</th>\n",
       "      <td>Serbia</td>\n",
       "      <td>UEFA</td>\n",
       "      <td>G</td>\n",
       "      <td>3.85038</td>\n",
       "      <td>1.28346</td>\n",
       "    </tr>\n",
       "    <tr>\n",
       "      <th>23</th>\n",
       "      <td>Croatia</td>\n",
       "      <td>UEFA</td>\n",
       "      <td>F</td>\n",
       "      <td>3.83700</td>\n",
       "      <td>1.27900</td>\n",
       "    </tr>\n",
       "    <tr>\n",
       "      <th>5</th>\n",
       "      <td>Australia</td>\n",
       "      <td>AFC</td>\n",
       "      <td>D</td>\n",
       "      <td>3.74133</td>\n",
       "      <td>1.24711</td>\n",
       "    </tr>\n",
       "    <tr>\n",
       "      <th>4</th>\n",
       "      <td>Saudi Arabia</td>\n",
       "      <td>AFC</td>\n",
       "      <td>C</td>\n",
       "      <td>3.72774</td>\n",
       "      <td>1.24258</td>\n",
       "    </tr>\n",
       "    <tr>\n",
       "      <th>8</th>\n",
       "      <td>Tunisia</td>\n",
       "      <td>CAF</td>\n",
       "      <td>D</td>\n",
       "      <td>3.50307</td>\n",
       "      <td>1.16769</td>\n",
       "    </tr>\n",
       "    <tr>\n",
       "      <th>0</th>\n",
       "      <td>Qatar</td>\n",
       "      <td>AFC</td>\n",
       "      <td>A</td>\n",
       "      <td>3.37014</td>\n",
       "      <td>1.12338</td>\n",
       "    </tr>\n",
       "    <tr>\n",
       "      <th>18</th>\n",
       "      <td>Uruguay</td>\n",
       "      <td>CONMEBOL</td>\n",
       "      <td>H</td>\n",
       "      <td>3.36942</td>\n",
       "      <td>1.12314</td>\n",
       "    </tr>\n",
       "    <tr>\n",
       "      <th>3</th>\n",
       "      <td>Japan</td>\n",
       "      <td>AFC</td>\n",
       "      <td>E</td>\n",
       "      <td>3.13491</td>\n",
       "      <td>1.04497</td>\n",
       "    </tr>\n",
       "    <tr>\n",
       "      <th>11</th>\n",
       "      <td>Canada</td>\n",
       "      <td>CONCACAF</td>\n",
       "      <td>F</td>\n",
       "      <td>2.99544</td>\n",
       "      <td>0.99848</td>\n",
       "    </tr>\n",
       "    <tr>\n",
       "      <th>31</th>\n",
       "      <td>Wales</td>\n",
       "      <td>UEFA</td>\n",
       "      <td>B</td>\n",
       "      <td>2.69007</td>\n",
       "      <td>0.89669</td>\n",
       "    </tr>\n",
       "    <tr>\n",
       "      <th>6</th>\n",
       "      <td>Ghana</td>\n",
       "      <td>CAF</td>\n",
       "      <td>H</td>\n",
       "      <td>2.67207</td>\n",
       "      <td>0.89069</td>\n",
       "    </tr>\n",
       "    <tr>\n",
       "      <th>14</th>\n",
       "      <td>Costa Rica</td>\n",
       "      <td>CONCACAF</td>\n",
       "      <td>E</td>\n",
       "      <td>2.45271</td>\n",
       "      <td>0.81757</td>\n",
       "    </tr>\n",
       "    <tr>\n",
       "      <th>17</th>\n",
       "      <td>Ecuador</td>\n",
       "      <td>CONMEBOL</td>\n",
       "      <td>A</td>\n",
       "      <td>2.37159</td>\n",
       "      <td>0.79053</td>\n",
       "    </tr>\n",
       "  </tbody>\n",
       "</table>\n",
       "</div>"
      ],
      "text/plain": [
       "            Squad Association Group  Avg. Group Stage Points  \\\n",
       "28    Netherlands        UEFA     A                  6.76263   \n",
       "26        England        UEFA     B                  6.50892   \n",
       "29       Portugal        UEFA     H                  6.40248   \n",
       "24          Spain        UEFA     E                  6.26718   \n",
       "19        Germany        UEFA     E                  6.14520   \n",
       "15         Brazil    CONMEBOL     G                  5.94234   \n",
       "21        Belgium        UEFA     F                  5.90847   \n",
       "2     South Korea         AFC     H                  5.55603   \n",
       "12         Mexico    CONCACAF     C                  5.52792   \n",
       "7         Senegal         CAF     A                  5.49564   \n",
       "22         France        UEFA     D                  5.40030   \n",
       "20        Denmark        UEFA     D                  5.35530   \n",
       "10        Morocco         CAF     F                  5.25909   \n",
       "16      Argentina    CONMEBOL     C                  4.87338   \n",
       "1            Iran         AFC     B                  4.48599   \n",
       "9        Cameroon         CAF     G                  4.32573   \n",
       "13  United States    CONCACAF     B                  4.31502   \n",
       "27    Switzerland        UEFA     G                  3.88155   \n",
       "30         Poland        UEFA     C                  3.87096   \n",
       "25         Serbia        UEFA     G                  3.85038   \n",
       "23        Croatia        UEFA     F                  3.83700   \n",
       "5       Australia         AFC     D                  3.74133   \n",
       "4    Saudi Arabia         AFC     C                  3.72774   \n",
       "8         Tunisia         CAF     D                  3.50307   \n",
       "0           Qatar         AFC     A                  3.37014   \n",
       "18        Uruguay    CONMEBOL     H                  3.36942   \n",
       "3           Japan         AFC     E                  3.13491   \n",
       "11         Canada    CONCACAF     F                  2.99544   \n",
       "31          Wales        UEFA     B                  2.69007   \n",
       "6           Ghana         CAF     H                  2.67207   \n",
       "14     Costa Rica    CONCACAF     E                  2.45271   \n",
       "17        Ecuador    CONMEBOL     A                  2.37159   \n",
       "\n",
       "    Avg. Group Stage Wins  \n",
       "28                2.25421  \n",
       "26                2.16964  \n",
       "29                2.13416  \n",
       "24                2.08906  \n",
       "19                2.04840  \n",
       "15                1.98078  \n",
       "21                1.96949  \n",
       "2                 1.85201  \n",
       "12                1.84264  \n",
       "7                 1.83188  \n",
       "22                1.80010  \n",
       "20                1.78510  \n",
       "10                1.75303  \n",
       "16                1.62446  \n",
       "1                 1.49533  \n",
       "9                 1.44191  \n",
       "13                1.43834  \n",
       "27                1.29385  \n",
       "30                1.29032  \n",
       "25                1.28346  \n",
       "23                1.27900  \n",
       "5                 1.24711  \n",
       "4                 1.24258  \n",
       "8                 1.16769  \n",
       "0                 1.12338  \n",
       "18                1.12314  \n",
       "3                 1.04497  \n",
       "11                0.99848  \n",
       "31                0.89669  \n",
       "6                 0.89069  \n",
       "14                0.81757  \n",
       "17                0.79053  "
      ]
     },
     "execution_count": 57,
     "metadata": {},
     "output_type": "execute_result"
    }
   ],
   "source": [
    "final_group_table"
   ]
  },
  {
   "cell_type": "code",
   "execution_count": 85,
   "id": "3f38de26",
   "metadata": {},
   "outputs": [],
   "source": [
    "final_group_table.to_csv('final_group_table.csv',index=False)"
   ]
  },
  {
   "cell_type": "code",
   "execution_count": 58,
   "id": "7c0e6038",
   "metadata": {},
   "outputs": [],
   "source": [
    "group_labels = ['A','B','C','D','E','F','G','H']"
   ]
  },
  {
   "cell_type": "code",
   "execution_count": null,
   "id": "37ef7110",
   "metadata": {},
   "outputs": [],
   "source": [
    "print(f\"'{groups[2]}'\")"
   ]
  },
  {
   "cell_type": "code",
   "execution_count": 63,
   "id": "299c438b",
   "metadata": {},
   "outputs": [],
   "source": [
    "with open('final_table.pickle', 'wb') as file:\n",
    "    pickle.dump(final_group_table, file)"
   ]
  },
  {
   "cell_type": "code",
   "execution_count": 59,
   "id": "fd316360",
   "metadata": {},
   "outputs": [],
   "source": [
    "group_tables = []"
   ]
  },
  {
   "cell_type": "code",
   "execution_count": null,
   "id": "8a84190e",
   "metadata": {},
   "outputs": [],
   "source": [
    "group_tables"
   ]
  },
  {
   "cell_type": "code",
   "execution_count": 62,
   "id": "ac9cbb59",
   "metadata": {},
   "outputs": [
    {
     "data": {
      "text/plain": [
       "list"
      ]
     },
     "execution_count": 62,
     "metadata": {},
     "output_type": "execute_result"
    }
   ],
   "source": [
    "type(group_tables)"
   ]
  },
  {
   "cell_type": "code",
   "execution_count": 61,
   "id": "1908e134",
   "metadata": {},
   "outputs": [
    {
     "data": {
      "text/html": [
       "<div>\n",
       "<style scoped>\n",
       "    .dataframe tbody tr th:only-of-type {\n",
       "        vertical-align: middle;\n",
       "    }\n",
       "\n",
       "    .dataframe tbody tr th {\n",
       "        vertical-align: top;\n",
       "    }\n",
       "\n",
       "    .dataframe thead th {\n",
       "        text-align: right;\n",
       "    }\n",
       "</style>\n",
       "<table border=\"1\" class=\"dataframe\">\n",
       "  <thead>\n",
       "    <tr style=\"text-align: right;\">\n",
       "      <th></th>\n",
       "      <th>Squad</th>\n",
       "      <th>Association</th>\n",
       "      <th>Group</th>\n",
       "      <th>Avg. Group Stage Points</th>\n",
       "      <th>Avg. Group Stage Wins</th>\n",
       "    </tr>\n",
       "  </thead>\n",
       "  <tbody>\n",
       "    <tr>\n",
       "      <th>15</th>\n",
       "      <td>Brazil</td>\n",
       "      <td>CONMEBOL</td>\n",
       "      <td>G</td>\n",
       "      <td>5.94234</td>\n",
       "      <td>1.98078</td>\n",
       "    </tr>\n",
       "    <tr>\n",
       "      <th>9</th>\n",
       "      <td>Cameroon</td>\n",
       "      <td>CAF</td>\n",
       "      <td>G</td>\n",
       "      <td>4.32573</td>\n",
       "      <td>1.44191</td>\n",
       "    </tr>\n",
       "    <tr>\n",
       "      <th>27</th>\n",
       "      <td>Switzerland</td>\n",
       "      <td>UEFA</td>\n",
       "      <td>G</td>\n",
       "      <td>3.88155</td>\n",
       "      <td>1.29385</td>\n",
       "    </tr>\n",
       "    <tr>\n",
       "      <th>25</th>\n",
       "      <td>Serbia</td>\n",
       "      <td>UEFA</td>\n",
       "      <td>G</td>\n",
       "      <td>3.85038</td>\n",
       "      <td>1.28346</td>\n",
       "    </tr>\n",
       "  </tbody>\n",
       "</table>\n",
       "</div>"
      ],
      "text/plain": [
       "          Squad Association Group  Avg. Group Stage Points  \\\n",
       "15       Brazil    CONMEBOL     G                  5.94234   \n",
       "9      Cameroon         CAF     G                  4.32573   \n",
       "27  Switzerland        UEFA     G                  3.88155   \n",
       "25       Serbia        UEFA     G                  3.85038   \n",
       "\n",
       "    Avg. Group Stage Wins  \n",
       "15                1.98078  \n",
       "9                 1.44191  \n",
       "27                1.29385  \n",
       "25                1.28346  "
      ]
     },
     "execution_count": 61,
     "metadata": {},
     "output_type": "execute_result"
    }
   ],
   "source": [
    "group_tables[6]"
   ]
  },
  {
   "cell_type": "code",
   "execution_count": 68,
   "id": "506e0905",
   "metadata": {},
   "outputs": [
    {
     "data": {
      "text/html": [
       "<div>\n",
       "<style scoped>\n",
       "    .dataframe tbody tr th:only-of-type {\n",
       "        vertical-align: middle;\n",
       "    }\n",
       "\n",
       "    .dataframe tbody tr th {\n",
       "        vertical-align: top;\n",
       "    }\n",
       "\n",
       "    .dataframe thead th {\n",
       "        text-align: right;\n",
       "    }\n",
       "</style>\n",
       "<table border=\"1\" class=\"dataframe\">\n",
       "  <thead>\n",
       "    <tr style=\"text-align: right;\">\n",
       "      <th></th>\n",
       "      <th>Squad</th>\n",
       "      <th>Association</th>\n",
       "      <th>Group</th>\n",
       "      <th>Avg. Group Stage Points</th>\n",
       "      <th>Avg. Group Stage Wins</th>\n",
       "    </tr>\n",
       "  </thead>\n",
       "  <tbody>\n",
       "    <tr>\n",
       "      <th>28</th>\n",
       "      <td>Netherlands</td>\n",
       "      <td>UEFA</td>\n",
       "      <td>A</td>\n",
       "      <td>6.76263</td>\n",
       "      <td>2.25421</td>\n",
       "    </tr>\n",
       "    <tr>\n",
       "      <th>7</th>\n",
       "      <td>Senegal</td>\n",
       "      <td>CAF</td>\n",
       "      <td>A</td>\n",
       "      <td>5.49564</td>\n",
       "      <td>1.83188</td>\n",
       "    </tr>\n",
       "    <tr>\n",
       "      <th>0</th>\n",
       "      <td>Qatar</td>\n",
       "      <td>AFC</td>\n",
       "      <td>A</td>\n",
       "      <td>3.37014</td>\n",
       "      <td>1.12338</td>\n",
       "    </tr>\n",
       "    <tr>\n",
       "      <th>17</th>\n",
       "      <td>Ecuador</td>\n",
       "      <td>CONMEBOL</td>\n",
       "      <td>A</td>\n",
       "      <td>2.37159</td>\n",
       "      <td>0.79053</td>\n",
       "    </tr>\n",
       "  </tbody>\n",
       "</table>\n",
       "</div>"
      ],
      "text/plain": [
       "          Squad Association Group  Avg. Group Stage Points  \\\n",
       "28  Netherlands        UEFA     A                  6.76263   \n",
       "7       Senegal         CAF     A                  5.49564   \n",
       "0         Qatar         AFC     A                  3.37014   \n",
       "17      Ecuador    CONMEBOL     A                  2.37159   \n",
       "\n",
       "    Avg. Group Stage Wins  \n",
       "28                2.25421  \n",
       "7                 1.83188  \n",
       "0                 1.12338  \n",
       "17                0.79053  "
      ]
     },
     "execution_count": 68,
     "metadata": {},
     "output_type": "execute_result"
    }
   ],
   "source": [
    "group_tables[0]"
   ]
  },
  {
   "cell_type": "code",
   "execution_count": 60,
   "id": "9d72bcf4",
   "metadata": {},
   "outputs": [],
   "source": [
    "for i in range(len(group_labels)):\n",
    "    group_table = final_group_table.loc[(final_group_table['Group'] == group_labels[i])]\n",
    "    group_tables.append(group_table)\n",
    "\n",
    "\n"
   ]
  },
  {
   "cell_type": "code",
   "execution_count": null,
   "id": "de863984",
   "metadata": {},
   "outputs": [],
   "source": [
    "win_list"
   ]
  },
  {
   "cell_type": "code",
   "execution_count": null,
   "id": "c161cf17",
   "metadata": {},
   "outputs": [],
   "source": [
    "import pandas as pd"
   ]
  },
  {
   "cell_type": "code",
   "execution_count": 70,
   "id": "da0b6408",
   "metadata": {},
   "outputs": [],
   "source": [
    "final_match_sims = pd.read_csv(r'CSVs\\Predictions\\all_knockout_matches.csv' , encoding ='latin-1')"
   ]
  },
  {
   "cell_type": "code",
   "execution_count": null,
   "id": "df5c2de5",
   "metadata": {},
   "outputs": [],
   "source": [
    "final_match_sims.loc([''])"
   ]
  },
  {
   "cell_type": "code",
   "execution_count": 81,
   "id": "73e8610b",
   "metadata": {
    "scrolled": true
   },
   "outputs": [],
   "source": [
    "squad_2_teams = final_match_sims.groupby('Group')['Squad 2'].value_counts()"
   ]
  },
  {
   "cell_type": "code",
   "execution_count": 83,
   "id": "43759984",
   "metadata": {},
   "outputs": [],
   "source": [
    "squad_2_teams.to_csv('squad_2_teams.csv')"
   ]
  },
  {
   "cell_type": "code",
   "execution_count": null,
   "id": "06d86464",
   "metadata": {},
   "outputs": [],
   "source": [
    "group_dict"
   ]
  },
  {
   "cell_type": "code",
   "execution_count": null,
   "id": "251c5244",
   "metadata": {},
   "outputs": [],
   "source": [
    "match_sim_cleaned = final_match_sims.drop(['Stage','Squad 1 Key', 'Squad 2 Key', 'S1_wins'], axis=1).copy()"
   ]
  },
  {
   "cell_type": "code",
   "execution_count": null,
   "id": "2befc313",
   "metadata": {},
   "outputs": [],
   "source": [
    "match_sim_cleaned.shape"
   ]
  },
  {
   "cell_type": "code",
   "execution_count": null,
   "id": "2579ca1a",
   "metadata": {},
   "outputs": [],
   "source": [
    "import numpy as np"
   ]
  },
  {
   "cell_type": "code",
   "execution_count": null,
   "id": "7b10b539",
   "metadata": {},
   "outputs": [],
   "source": [
    " US_Matches = match_sim_cleaned.loc[(match_sim_cleaned['Squad 1'] == 'United States') | (match_sim_cleaned['Squad 2'] == 'United States')]"
   ]
  },
  {
   "cell_type": "code",
   "execution_count": null,
   "id": "762b61d1",
   "metadata": {},
   "outputs": [],
   "source": [
    "US_Matches['Opponent'] = np.where(US_Matches['Squad 1'] == 'United States', US_Matches['Squad 2'], US_Matches['Squad 1'])"
   ]
  },
  {
   "cell_type": "code",
   "execution_count": null,
   "id": "6fa90510",
   "metadata": {},
   "outputs": [],
   "source": [
    "US_Matches.drop(['Test'], axis=1, inplace=True)"
   ]
  },
  {
   "cell_type": "code",
   "execution_count": null,
   "id": "37ecd8b8",
   "metadata": {},
   "outputs": [],
   "source": [
    "US_Matches"
   ]
  },
  {
   "cell_type": "code",
   "execution_count": null,
   "id": "ef27edb8",
   "metadata": {},
   "outputs": [],
   "source": [
    "final_match_sims.groupby(\"Match Winner\").size()"
   ]
  },
  {
   "cell_type": "code",
   "execution_count": null,
   "id": "3c2aeb30",
   "metadata": {},
   "outputs": [],
   "source": [
    "US_Matches"
   ]
  },
  {
   "cell_type": "code",
   "execution_count": null,
   "id": "2ce2638f",
   "metadata": {},
   "outputs": [],
   "source": [
    "US_Opponent_Frequency = US_Matches.groupby('Group')['Opponent'].value_counts()"
   ]
  },
  {
   "cell_type": "code",
   "execution_count": null,
   "id": "b3a34d43",
   "metadata": {},
   "outputs": [],
   "source": [
    "US_Opponent_Frequency"
   ]
  },
  {
   "cell_type": "code",
   "execution_count": null,
   "id": "47800d1e",
   "metadata": {},
   "outputs": [],
   "source": [
    "US_Matches['Opponent'].value_counts()"
   ]
  },
  {
   "cell_type": "code",
   "execution_count": null,
   "id": "bc3517f3",
   "metadata": {},
   "outputs": [],
   "source": [
    "US_Matches['Opponent'].value_counts(ascending=False)"
   ]
  },
  {
   "cell_type": "code",
   "execution_count": 91,
   "id": "f2084f38",
   "metadata": {},
   "outputs": [],
   "source": [
    "final_results = pd.read_csv('CSVs/final_results.csv')"
   ]
  },
  {
   "cell_type": "code",
   "execution_count": 92,
   "id": "e9cb9bef",
   "metadata": {},
   "outputs": [],
   "source": [
    "import json"
   ]
  },
  {
   "cell_type": "code",
   "execution_count": 94,
   "id": "f2ef52f9",
   "metadata": {},
   "outputs": [],
   "source": [
    "final_results_json = final_results.to_json(orient=\"index\")"
   ]
  },
  {
   "cell_type": "code",
   "execution_count": 96,
   "id": "527455f6",
   "metadata": {},
   "outputs": [],
   "source": [
    "parsed = json.loads(final_results_json)"
   ]
  },
  {
   "cell_type": "code",
   "execution_count": 99,
   "id": "65f1aca5",
   "metadata": {},
   "outputs": [],
   "source": [
    "final = json.dumps(parsed)  "
   ]
  },
  {
   "cell_type": "code",
   "execution_count": 102,
   "id": "2161b86e",
   "metadata": {},
   "outputs": [],
   "source": [
    "with open(\"match_results.json\",\"w\") as outfile:\n",
    "    outfile.write(final)"
   ]
  },
  {
   "cell_type": "code",
   "execution_count": null,
   "id": "a8617afa",
   "metadata": {},
   "outputs": [],
   "source": []
  }
 ],
 "metadata": {
  "kernelspec": {
   "display_name": "mlenv",
   "language": "python",
   "name": "mlenv"
  },
  "language_info": {
   "codemirror_mode": {
    "name": "ipython",
    "version": 3
   },
   "file_extension": ".py",
   "mimetype": "text/x-python",
   "name": "python",
   "nbconvert_exporter": "python",
   "pygments_lexer": "ipython3",
   "version": "3.7.13"
  }
 },
 "nbformat": 4,
 "nbformat_minor": 5
}
