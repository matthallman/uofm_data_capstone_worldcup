{
 "cells": [
  {
   "cell_type": "code",
   "execution_count": 1,
   "id": "31b066c1",
   "metadata": {},
   "outputs": [],
   "source": [
    "#Imports\n",
    "import pandas as pd\n",
    "import numpy as np\n",
    "import matplotlib.pyplot as plt\n",
    "\n",
    "group_stage_table = pd.read_csv(r'CSVs\\Group_Stage_Table.csv' , encoding ='latin-1')\n",
    "world_cup_matches = pd.read_csv(r'CSVs\\World_Cup_Matches.csv', encoding = 'latin-1')\n",
    "world_cup_teams = pd.read_csv(r'CSVs\\World_Cup_Teams.csv', encoding='latin-1')\n",
    "squad_predictions = pd.read_csv(r'CSVs\\Predictions\\Predictions_8-21.csv', encoding ='latin-1')\n",
    "\n",
    "import warnings\n",
    "warnings.filterwarnings(\"ignore\")"
   ]
  },
  {
   "cell_type": "code",
   "execution_count": null,
   "id": "5705faae",
   "metadata": {},
   "outputs": [],
   "source": [
    "group_stage_matches = world_cup_matches[(world_cup_matches['Stage']=='Group')]\n",
    "\n",
    "# Need to lookup Squad percentages from Squad_Predictions DF\n",
    "\n",
    "group_stage_matches['S1%']=pd.merge(group_stage_matches, squad_predictions, how='left', left_on=['Squad 1'], right_on=['Squad'])['% of Points Taken']\n",
    "group_stage_matches['S2%']=pd.merge(group_stage_matches, squad_predictions, how='left', left_on=['Squad 2'], right_on=['Squad'])['% of Points Taken']\n",
    "\n",
    "# Calculate Probability of S1 winning based on Log 5 Formula\n",
    "\n",
    "group_stage_matches['S1_Prob'] =((group_stage_matches['S1%'] - (group_stage_matches['S1%']*group_stage_matches['S2%'])) / (group_stage_matches['S1%'] + group_stage_matches['S2%'] - (2 * group_stage_matches['S1%'] * group_stage_matches['S2%'])))"
   ]
  },
  {
   "cell_type": "code",
   "execution_count": null,
   "id": "49f49432",
   "metadata": {},
   "outputs": [],
   "source": [
    "squad_predictions.sort_values(by = ['% of Points Taken'], ascending =False)"
   ]
  },
  {
   "cell_type": "code",
   "execution_count": null,
   "id": "8818b442",
   "metadata": {},
   "outputs": [],
   "source": [
    "group_stage_matches.sort_values(by = ['S1_Prob'])"
   ]
  },
  {
   "cell_type": "code",
   "execution_count": null,
   "id": "8a330b8e",
   "metadata": {},
   "outputs": [],
   "source": [
    "np.random.seed(22)\n",
    "num_sims = 10000\n",
    "\n",
    "match_sims = []\n",
    "\n",
    "for index,row in group_stage_matches.iterrows():\n",
    "    result = np.random.binomial(n=1, p = row.S1_Prob, size=num_sims)\n",
    "    match_sims.append(result)\n",
    "\n",
    "len(match_sims)"
   ]
  },
  {
   "cell_type": "code",
   "execution_count": null,
   "id": "b0249a79",
   "metadata": {},
   "outputs": [],
   "source": []
  },
  {
   "cell_type": "code",
   "execution_count": null,
   "id": "194d46dc",
   "metadata": {},
   "outputs": [],
   "source": [
    "group_results"
   ]
  },
  {
   "cell_type": "code",
   "execution_count": null,
   "id": "46b25e16",
   "metadata": {},
   "outputs": [],
   "source": [
    "# Sample Graph of group stage wins per x simulations\n",
    "\n",
    "data = group_results[6]\n",
    "print(np.mean(data['wins']))\n",
    "plt.hist(data['wins'])\n",
    "plt.title(f\"Simulation Wins for {data['team']}\")\n",
    "plt.show()"
   ]
  },
  {
   "cell_type": "code",
   "execution_count": null,
   "id": "8c917fd7",
   "metadata": {},
   "outputs": [],
   "source": [
    "# Simulation Setup\n",
    "\n",
    "np.random.seed(22)\n",
    "num_sims = 100\n",
    "\n",
    "# Tournament Simulation Code Chunk\n",
    "\n",
    "# Create All WC Round Dataframes and empty lists to hold simulations\n",
    "\n",
    "group_stage_matches = world_cup_matches[(world_cup_matches['Stage']=='Group')]\n",
    "r_16_matches = world_cup_matches[(world_cup_matches['Group']=='R16')]\n",
    "r_8_matches = world_cup_matches[(world_cup_matches['Group']=='R8')]\n",
    "r_4_matches = world_cup_matches[(world_cup_matches['Group']=='Semi-Finals')]\n",
    "final_matches = world_cup_matches[(world_cup_matches['Group']=='Finals')]\n",
    "\n",
    "group_results = []\n",
    "knockout_sims = []\n",
    "r_8_sims = []\n",
    "r_4_sims = []\n",
    "finals_sims = []\n",
    "\n",
    "\n",
    "# Group Stage Simulation\n",
    "\n",
    "# Need to lookup Squad percentages from Squad_Predictions DF\n",
    "\n",
    "group_stage_matches['S1%']=pd.merge(group_stage_matches, squad_predictions, how='left', left_on=['Squad 1'], right_on=['Squad'])['% of Points Taken']\n",
    "group_stage_matches['S2%']=pd.merge(group_stage_matches, squad_predictions, how='left', left_on=['Squad 2'], right_on=['Squad'])['% of Points Taken']\n",
    "\n",
    "# Calculate Probability of S1 winning based on Log 5 Formula\n",
    "\n",
    "group_stage_matches['S1_Prob'] =((group_stage_matches['S1%'] - (group_stage_matches['S1%']*group_stage_matches['S2%'])) / (group_stage_matches['S1%']\n",
    "\n",
    "# Simulate all group stage matches\n",
    "                                                                                                                           \n",
    "for index, row in squad_predictions.iterrows():\n",
    "    team = row.Squad\n",
    "    group = row.Group\n",
    "    team_percent = row[\"% of Points Taken\"]\n",
    "    \n",
    "    team_rows = group_stage_matches.loc[(group_stage_matches['Squad 1'] == team)| (group_stage_matches['Squad 2']==team),['Squad 1','Squad 2', 'Group']]\n",
    "    team_rows['is_squad_1'] = team_rows['Squad 1'] == team\n",
    "    team_sims = [match_sims[i] for i in team_rows.index.to_list()]\n",
    "    \n",
    "    team_wins = []\n",
    "    for x in range(len(team_rows)):\n",
    "        is_squad_1 = team_rows.is_squad_1.values[x]\n",
    "        game_wins = [y if is_squad_1 else int(not y) for y in team_sims[x]]\n",
    "        team_wins.append(game_wins)\n",
    "        \n",
    "    team_results = np.sum(team_wins, axis=0)\n",
    "    \n",
    "    \n",
    "    group_results.append({'team':team, 'group':group, 'team_percent':team_percent, 'wins':team_results, 'points':team_results*3})\n",
    "\n",
    "\n",
    "#R16 Simulation\n",
    "\n",
    "###############################\n",
    "\n",
    "for z in range(num_sims):\n",
    "    if z % 50 == 0:\n",
    "        print(z)\n",
    "    r16_df = [{'team':x['team'], 'group':x['group'], 'team_percent':x['team_percent'], 'wins':x['wins'][z], 'points':x['points'][z]} for x in group_results] \n",
    "    r16_df = pd.DataFrame(r16_df)\n",
    "    r16_df = r16_df.sort_values(by=['group','points', 'team_percent'], ascending=[True,False,False]).reset_index(drop=True)\n",
    "    r16_df['rank'] = (r16_df.index % 4) + 1\n",
    "    r16_df['rank'] = r16_df['rank'].astype(str)\n",
    "    r16_df['seed'] = r16_df['rank'] + r16_df['group']\n",
    "    \n",
    "    r_16_results = pd.merge(r_16_matches, r16_df.loc[:,['team','team_percent','seed']], left_on='Squad 1', right_on='seed')\n",
    "    r_16_results.drop(['Squad 1'], axis=1, inplace=True)\n",
    "    r_16_results.rename(columns={'team':'Squad 1','team_percent':'S1%', 'seed':'Squad 1 Seed'}, inplace=True)\n",
    "\n",
    "    r_16_results = pd.merge(r_16_results, r16_df.loc[:,['team','team_percent','seed']], left_on='Squad 2', right_on='seed')\n",
    "    r_16_results.drop(['Squad 2'], axis=1, inplace=True)\n",
    "    r_16_results.rename(columns={'team':'Squad 2','team_percent':'S2%', 'seed':'Squad 2 Seed'}, inplace=True)\n",
    "\n",
    "    r_16_results['S1_Prob'] =((r_16_results['S1%'] - (r_16_results['S1%']*r_16_results['S2%'])) / (r_16_results['S1%'] + r_16_results['S2%'] - (2 * r_16_results['S1%'] * r_16_results['S2%'])))\n",
    "\n",
    "    r_16_results['S1_wins'] = [np.random.binomial(n=1, p=x, size=1)[0] for x in r_16_results.S1_Prob]\n",
    "    r_16_results['Simulation'] = z + 1\n",
    "    knockout_sims.append(r_16_results)\n",
    "    \n",
    "#R8 Simulation\n",
    "    \n",
    "###############################\n",
    "      \n",
    "    \n",
    "    r8_df = []\n",
    "    for index, row in r_16_results.iterrows():\n",
    "        match = row.Match\n",
    "        seed = 'M'+str(match)\n",
    "        if row.S1_wins == 1:\n",
    "            team = row['Squad 1']\n",
    "            team_percent = row['S1%']\n",
    "        else:\n",
    "            team = row['Squad 2']\n",
    "            team_percent = row['S2%']\n",
    "\n",
    "        data = {'seed':seed,'team':team,'team_percent':team_percent}\n",
    "        r8_df.append(data)\n",
    "\n",
    "    r8_df = pd.DataFrame(r8_df)\n",
    "    \n",
    "    r_8_results = pd.merge(r_8_matches, r8_df.loc[:,['team','team_percent','seed']], left_on='Squad 1', right_on='seed')\n",
    "    r_8_results.drop(['Squad 1'], axis=1, inplace=True)\n",
    "    r_8_results.rename(columns={'team':'Squad 1','team_percent':'S1%', 'seed':'Squad 1 Seed'}, inplace=True)\n",
    "\n",
    "    r_8_results = pd.merge(r_8_results, r8_df.loc[:,['team','team_percent','seed']], left_on='Squad 2', right_on='seed')\n",
    "    r_8_results.drop(['Squad 2'], axis=1, inplace=True)\n",
    "    r_8_results.rename(columns={'team':'Squad 2','team_percent':'S2%', 'seed':'Squad 2 Seed'}, inplace=True)\n",
    "\n",
    "    r_8_results['S1_Prob'] =((r_8_results['S1%'] - (r_8_results['S1%']*r_8_results['S2%'])) / (r_8_results['S1%'] + r_8_results['S2%'] - (2 * r_8_results['S1%'] * r_8_results['S2%'])))\n",
    "\n",
    "    r_8_results['S1_wins'] = [np.random.binomial(n=1, p=x, size=1)[0] for x in r_8_results.S1_Prob]\n",
    "    r_8_results['Simulation'] = z + 1\n",
    "    r_8_sims.append(r_8_results)\n",
    "    \n",
    "#Semi-finals Simulation\n",
    "###############################\n",
    "    \n",
    "    r_4_df = []\n",
    "    for index, row in r_8_results.iterrows():\n",
    "        match = row.Match\n",
    "        seed = 'M'+str(match)\n",
    "        if row.S1_wins == 1:\n",
    "            team = row['Squad 1']\n",
    "            team_percent = row['S1%']\n",
    "        else:\n",
    "            team = row['Squad 2']\n",
    "            team_percent = row['S2%']\n",
    "\n",
    "        data = {'seed':seed,'team':team,'team_percent':team_percent}\n",
    "        r_4_df.append(data)\n",
    "\n",
    "    r_4_df = pd.DataFrame(r_4_df)\n",
    "    \n",
    "    r_4_results = pd.merge(r_4_matches, r_4_df.loc[:,['team','team_percent','seed']], left_on='Squad 1', right_on='seed')\n",
    "    r_4_results.drop(['Squad 1'], axis=1, inplace=True)\n",
    "    r_4_results.rename(columns={'team':'Squad 1','team_percent':'S1%', 'seed':'Squad 1 Seed'}, inplace=True)\n",
    "\n",
    "    r_4_results = pd.merge(r_4_results, r_4_df.loc[:,['team','team_percent','seed']], left_on='Squad 2', right_on='seed')\n",
    "    r_4_results.drop(['Squad 2'], axis=1, inplace=True)\n",
    "    r_4_results.rename(columns={'team':'Squad 2','team_percent':'S2%', 'seed':'Squad 2 Seed'}, inplace=True)\n",
    "\n",
    "    r_4_results['S1_Prob'] =((r_4_results['S1%'] - (r_4_results['S1%']*r_4_results['S2%'])) / (r_4_results['S1%'] + r_4_results['S2%'] - (2 * r_4_results['S1%'] * r_4_results['S2%'])))\n",
    "\n",
    "    r_4_results['S1_wins'] = [np.random.binomial(n=1, p=x, size=1)[0] for x in r_4_results.S1_Prob]\n",
    "    r_4_results['Simulation'] = z + 1\n",
    "    r_4_sims.append(r_4_results)\n",
    "    \n",
    "    \n",
    "# Finals Simulation\n",
    "###############################\n",
    "    \n",
    "    finals_df = []\n",
    "    for index, row in r_4_results.iterrows():\n",
    "        match = row.Match\n",
    "        seed = 'M'+str(match)\n",
    "        if row.S1_wins == 1:\n",
    "            team = row['Squad 1']\n",
    "            team_percent = row['S1%']\n",
    "        else:\n",
    "            team = row['Squad 2']\n",
    "            team_percent = row['S2%']\n",
    "\n",
    "        data = {'seed':seed,'team':team,'team_percent':team_percent}\n",
    "        finals_df.append(data)\n",
    "\n",
    "    finals_df = pd.DataFrame(finals_df)\n",
    "    \n",
    "    finals_results = pd.merge(final_matches, finals_df.loc[:,['team','team_percent','seed']], left_on='Squad 1', right_on='seed')\n",
    "    finals_results.drop(['Squad 1'], axis=1, inplace=True)\n",
    "    finals_results.rename(columns={'team':'Squad 1','team_percent':'S1%', 'seed':'Squad 1 Seed'}, inplace=True)\n",
    "\n",
    "    finals_results = pd.merge(finals_1, finals_df.loc[:,['team','team_percent','seed']], left_on='Squad 2', right_on='seed')\n",
    "    finals_results.drop(['Squad 2'], axis=1, inplace=True)\n",
    "    finals_results.rename(columns={'team':'Squad 2','team_percent':'S2%', 'seed':'Squad 2 Seed'}, inplace=True)\n",
    "\n",
    "    finals_results['S1_Prob'] =((finals_results['S1%'] - (finals_results['S1%']*finals_results['S2%'])) / (finals_results['S1%'] + finals_results['S2%'] - (2 * finals_results['S1%'] * finals_results['S2%'])))\n",
    "\n",
    "    finals_results['S1_wins'] = [np.random.binomial(n=1, p=x, size=1)[0] for x in finals_results.S1_Prob]\n",
    "    finals_results['Simulation'] = z + 1\n",
    "    finals_sims.append(finals_results)\n",
    "    "
   ]
  },
  {
   "cell_type": "code",
   "execution_count": null,
   "id": "8d14ac18",
   "metadata": {},
   "outputs": [],
   "source": [
    "all_finals = pd.DataFrame()\n",
    "for x in finals_sims:\n",
    "    all_finals = all_finals.append(x)"
   ]
  },
  {
   "cell_type": "code",
   "execution_count": null,
   "id": "2b260abf",
   "metadata": {},
   "outputs": [],
   "source": [
    "all_finals.head()"
   ]
  },
  {
   "cell_type": "code",
   "execution_count": null,
   "id": "2f1aafdc",
   "metadata": {},
   "outputs": [],
   "source": [
    "winners = []\n",
    "\n",
    "for x in finals_sims:\n",
    "    if x.S1_wins.values[0]==1:\n",
    "        winners.append(x['Squad 1'].values[0])\n",
    "    else:\n",
    "        winners.append(x['Squad 2'].values[0])    \n",
    "    "
   ]
  },
  {
   "cell_type": "code",
   "execution_count": null,
   "id": "802723f0",
   "metadata": {},
   "outputs": [],
   "source": [
    "from collections import Counter\n"
   ]
  },
  {
   "cell_type": "code",
   "execution_count": null,
   "id": "54a7d05e",
   "metadata": {},
   "outputs": [],
   "source": [
    "sum(Counter(winners).values())"
   ]
  },
  {
   "cell_type": "code",
   "execution_count": null,
   "id": "a02320c5",
   "metadata": {},
   "outputs": [],
   "source": [
    "Counter(winners).most_common()"
   ]
  },
  {
   "cell_type": "code",
   "execution_count": null,
   "id": "c615a240",
   "metadata": {},
   "outputs": [],
   "source": [
    "finals_sims[0]"
   ]
  },
  {
   "cell_type": "code",
   "execution_count": null,
   "id": "f70068a1",
   "metadata": {},
   "outputs": [],
   "source": [
    "r_4_sims[0]"
   ]
  },
  {
   "cell_type": "code",
   "execution_count": null,
   "id": "16d5f70d",
   "metadata": {},
   "outputs": [],
   "source": [
    "r_8_sims[0]"
   ]
  },
  {
   "cell_type": "code",
   "execution_count": null,
   "id": "c52b7b6d",
   "metadata": {},
   "outputs": [],
   "source": [
    "knockout_sims[0]"
   ]
  },
  {
   "cell_type": "code",
   "execution_count": null,
   "id": "49fed33d",
   "metadata": {},
   "outputs": [],
   "source": [
    "knockout_sims[5]"
   ]
  },
  {
   "cell_type": "code",
   "execution_count": null,
   "id": "4a85c8d3",
   "metadata": {},
   "outputs": [],
   "source": [
    "r_8_matches = world_cup_matches[(world_cup_matches['Group']=='R8')]\n",
    "r_8_matches"
   ]
  },
  {
   "cell_type": "code",
   "execution_count": null,
   "id": "07065e94",
   "metadata": {},
   "outputs": [],
   "source": [
    "r_8_sims = []\n",
    "for z in range(num_sims):\n",
    "    test = knockout_sims[0]"
   ]
  },
  {
   "cell_type": "code",
   "execution_count": null,
   "id": "7e45aa6e",
   "metadata": {},
   "outputs": [],
   "source": [
    "test = knockout_sims[0]\n",
    "test.head()"
   ]
  },
  {
   "cell_type": "code",
   "execution_count": null,
   "id": "a805ab1a",
   "metadata": {},
   "outputs": [],
   "source": [
    "lol_2 = []\n",
    "for index, row in test.iterrows():\n",
    "    match = row.Match\n",
    "    seed = 'M'+str(match)\n",
    "    if row.S1_wins == 1:\n",
    "        team = row['Squad 1']\n",
    "        team_percent = row['S1%']\n",
    "    else:\n",
    "        team = row['Squad 2']\n",
    "        team_percent = row['S2%']\n",
    "        \n",
    "    data = {'seed':seed,'team':team,'team_percent':team_percent}\n",
    "    lol_2.append(data)\n",
    "\n",
    "lol_2 = pd.DataFrame(lol_2)\n",
    "lol_2"
   ]
  },
  {
   "cell_type": "code",
   "execution_count": null,
   "id": "3f2a4f87",
   "metadata": {},
   "outputs": [],
   "source": [
    "\n",
    "\n",
    "r_8_1 = pd.merge(r_8_matches, lol_2.loc[:,['team','team_percent','seed']], left_on='Squad 1', right_on='seed')\n",
    "r_8_1.drop(['Squad 1'], axis=1, inplace=True)\n",
    "r_8_1.rename(columns={'team':'Squad 1','team_percent':'S1%', 'seed':'Squad 1 Seed'}, inplace=True)\n",
    "\n",
    "r_8_1 = pd.merge(r_8_1, lol_2.loc[:,['team','team_percent','seed']], left_on='Squad 2', right_on='seed')\n",
    "r_8_1.drop(['Squad 2'], axis=1, inplace=True)\n",
    "r_8_1.rename(columns={'team':'Squad 2','team_percent':'S2%', 'seed':'Squad 2 Seed'}, inplace=True)\n",
    "\n",
    "r_8_1['S1_Prob'] =((r_8_1['S1%'] - (r_8_1['S1%']*r_8_1['S2%'])) / (r_8_1['S1%'] + r_8_1['S2%'] - (2 * r_8_1['S1%'] * r_8_1['S2%'])))\n",
    "\n",
    "r_8_1['S1_wins'] = [np.random.binomial(n=1, p=x, size=1)[0] for x in r_8_1.S1_Prob]\n",
    "\n",
    "r_8_1"
   ]
  },
  {
   "cell_type": "code",
   "execution_count": null,
   "id": "7da6e47c",
   "metadata": {},
   "outputs": [],
   "source": [
    "# Group stage simulation, this code is also in tournament sim code chunk\n",
    "\n",
    "group_results = []\n",
    "for index, row in squad_predictions.iterrows():\n",
    "    team = row.Squad\n",
    "    group = row.Group\n",
    "    team_percent = row[\"% of Points Taken\"]\n",
    "    \n",
    "    team_rows = group_stage_matches.loc[(group_stage_matches['Squad 1'] == team)| (group_stage_matches['Squad 2']==team),['Squad 1','Squad 2', 'Group']]\n",
    "    team_rows['is_squad_1'] = team_rows['Squad 1'] == team\n",
    "    team_sims = [match_sims[i] for i in team_rows.index.to_list()]\n",
    "    \n",
    "    team_wins = []\n",
    "    for x in range(len(team_rows)):\n",
    "        is_squad_1 = team_rows.is_squad_1.values[x]\n",
    "        game_wins = [y if is_squad_1 else int(not y) for y in team_sims[x]]\n",
    "        team_wins.append(game_wins)\n",
    "        \n",
    "    team_results = np.sum(team_wins, axis=0)\n",
    "    \n",
    "    \n",
    "    group_results.append({'team':team, 'group':group, 'team_percent':team_percent, 'wins':team_results, 'points':team_results*3})\n",
    "    "
   ]
  }
 ],
 "metadata": {
  "kernelspec": {
   "display_name": "mlenv",
   "language": "python",
   "name": "mlenv"
  },
  "language_info": {
   "codemirror_mode": {
    "name": "ipython",
    "version": 3
   },
   "file_extension": ".py",
   "mimetype": "text/x-python",
   "name": "python",
   "nbconvert_exporter": "python",
   "pygments_lexer": "ipython3",
   "version": "3.7.13"
  }
 },
 "nbformat": 4,
 "nbformat_minor": 5
}
