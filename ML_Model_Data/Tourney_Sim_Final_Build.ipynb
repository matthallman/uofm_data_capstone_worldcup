{
 "cells": [
  {
   "cell_type": "code",
   "execution_count": 2,
   "id": "f2af040e",
   "metadata": {},
   "outputs": [],
   "source": [
    "#Imports\n",
    "import pandas as pd\n",
    "import numpy as np\n",
    "import matplotlib.pyplot as plt\n",
    "\n",
    "group_stage_table = pd.read_csv(r'CSVs\\Group_Stage_Table.csv' , encoding ='latin-1')\n",
    "world_cup_matches = pd.read_csv(r'CSVs\\World_Cup_Matches.csv', encoding = 'latin-1')\n",
    "world_cup_teams = pd.read_csv(r'CSVs\\World_Cup_Teams.csv', encoding='latin-1')\n",
    "squad_predictions = pd.read_csv(r'CSVs\\Predictions\\Squad_Strength_Final.csv', encoding ='latin-1')\n",
    "\n",
    "import warnings\n",
    "warnings.filterwarnings(\"ignore\")"
   ]
  },
  {
   "cell_type": "code",
   "execution_count": 3,
   "id": "0c778ddb",
   "metadata": {},
   "outputs": [
    {
     "name": "stdout",
     "output_type": "stream",
     "text": [
      "Simulation 1000 Complete.\n",
      "Simulation 2000 Complete.\n",
      "Simulation 3000 Complete.\n",
      "Simulation 4000 Complete.\n",
      "Simulation 5000 Complete.\n",
      "Simulation 6000 Complete.\n",
      "Simulation 7000 Complete.\n",
      "Simulation 8000 Complete.\n",
      "Simulation 9000 Complete.\n",
      "Simulation 10000 Complete.\n",
      "Simulation 11000 Complete.\n",
      "Simulation 12000 Complete.\n",
      "Simulation 13000 Complete.\n",
      "Simulation 14000 Complete.\n",
      "Simulation 15000 Complete.\n",
      "Simulation 16000 Complete.\n",
      "Simulation 17000 Complete.\n",
      "Simulation 18000 Complete.\n",
      "Simulation 19000 Complete.\n",
      "Simulation 20000 Complete.\n",
      "Simulation 21000 Complete.\n",
      "Simulation 22000 Complete.\n",
      "Simulation 23000 Complete.\n",
      "Simulation 24000 Complete.\n",
      "Simulation 25000 Complete.\n",
      "Simulation 26000 Complete.\n",
      "Simulation 27000 Complete.\n",
      "Simulation 28000 Complete.\n",
      "Simulation 29000 Complete.\n",
      "Simulation 30000 Complete.\n",
      "Simulation 31000 Complete.\n",
      "Simulation 32000 Complete.\n",
      "Simulation 33000 Complete.\n",
      "Simulation 34000 Complete.\n",
      "Simulation 35000 Complete.\n",
      "Simulation 36000 Complete.\n",
      "Simulation 37000 Complete.\n",
      "Simulation 38000 Complete.\n",
      "Simulation 39000 Complete.\n",
      "Simulation 40000 Complete.\n",
      "Simulation 41000 Complete.\n",
      "Simulation 42000 Complete.\n",
      "Simulation 43000 Complete.\n",
      "Simulation 44000 Complete.\n",
      "Simulation 45000 Complete.\n",
      "Simulation 46000 Complete.\n",
      "Simulation 47000 Complete.\n",
      "Simulation 48000 Complete.\n",
      "Simulation 49000 Complete.\n",
      "Simulation 50000 Complete.\n",
      "Simulation 51000 Complete.\n",
      "Simulation 52000 Complete.\n",
      "Simulation 53000 Complete.\n",
      "Simulation 54000 Complete.\n",
      "Simulation 55000 Complete.\n",
      "Simulation 56000 Complete.\n",
      "Simulation 57000 Complete.\n",
      "Simulation 58000 Complete.\n",
      "Simulation 59000 Complete.\n",
      "Simulation 60000 Complete.\n",
      "Simulation 61000 Complete.\n",
      "Simulation 62000 Complete.\n",
      "Simulation 63000 Complete.\n",
      "Simulation 64000 Complete.\n",
      "Simulation 65000 Complete.\n",
      "Simulation 66000 Complete.\n",
      "Simulation 67000 Complete.\n",
      "Simulation 68000 Complete.\n",
      "Simulation 69000 Complete.\n",
      "Simulation 70000 Complete.\n",
      "Simulation 71000 Complete.\n",
      "Simulation 72000 Complete.\n",
      "Simulation 73000 Complete.\n",
      "Simulation 74000 Complete.\n",
      "Simulation 75000 Complete.\n",
      "Simulation 76000 Complete.\n",
      "Simulation 77000 Complete.\n",
      "Simulation 78000 Complete.\n",
      "Simulation 79000 Complete.\n",
      "Simulation 80000 Complete.\n",
      "Simulation 81000 Complete.\n",
      "Simulation 82000 Complete.\n",
      "Simulation 83000 Complete.\n",
      "Simulation 84000 Complete.\n",
      "Simulation 85000 Complete.\n",
      "Simulation 86000 Complete.\n",
      "Simulation 87000 Complete.\n",
      "Simulation 88000 Complete.\n",
      "Simulation 89000 Complete.\n",
      "Simulation 90000 Complete.\n",
      "Simulation 91000 Complete.\n",
      "Simulation 92000 Complete.\n",
      "Simulation 93000 Complete.\n",
      "Simulation 94000 Complete.\n",
      "Simulation 95000 Complete.\n",
      "Simulation 96000 Complete.\n",
      "Simulation 97000 Complete.\n",
      "Simulation 98000 Complete.\n",
      "Simulation 99000 Complete.\n",
      "Simulation Complete - The world cup was simulated 100000 times\n"
     ]
    }
   ],
   "source": [
    "# Final Simulation Code Chunk\n",
    "\n",
    "#######################\n",
    "\n",
    "# Simulation Setup\n",
    "\n",
    "np.random.seed(22)\n",
    "num_sims = 100000\n",
    "\n",
    "## Creating round dataframes with match information\n",
    "\n",
    "group_stage_matches = world_cup_matches[(world_cup_matches['Stage']=='Group')]\n",
    "r_16_matches = world_cup_matches[(world_cup_matches['Group']=='R16')]\n",
    "r_8_matches = world_cup_matches[(world_cup_matches['Group']=='R8')]\n",
    "r_4_matches = world_cup_matches[(world_cup_matches['Group']=='Semi-Finals')]\n",
    "final_match = world_cup_matches[(world_cup_matches['Group']=='Finals')]\n",
    "\n",
    "group_results = []\n",
    "r_16_sims = []\n",
    "r_8_sims = []\n",
    "r_4_sims = []\n",
    "final_sims = []\n",
    "\n",
    "# Group Stage Simulation \n",
    "\n",
    "## Need to lookup Squad percentages from Squad_Predictions DF\n",
    "\n",
    "group_stage_matches['S1%']=pd.merge(group_stage_matches, squad_predictions, how='left', left_on=['Squad 1'], right_on=['Squad'])['% of Points Taken']\n",
    "group_stage_matches['S2%']=pd.merge(group_stage_matches, squad_predictions, how='left', left_on=['Squad 2'], right_on=['Squad'])['% of Points Taken']\n",
    "\n",
    "## Calculate Probability of S1 winning based on Log 5 Formula\n",
    "\n",
    "group_stage_matches['S1_Prob'] = ((group_stage_matches['S1%'] - (group_stage_matches['S1%']*group_stage_matches['S2%'])) / (group_stage_matches['S1%'] + group_stage_matches['S2%'] - (2 * group_stage_matches['S1%'] * group_stage_matches['S2%'])))\n",
    "\n",
    "## Create Group Stage Match Sims\n",
    "\n",
    "group_match_sims = []\n",
    "\n",
    "for index,row in group_stage_matches.iterrows():\n",
    "    result = np.random.binomial(n=1, p = row.S1_Prob, size=num_sims)\n",
    "    group_match_sims.append(result)\n",
    "\n",
    "\n",
    "## Add match sim information into group_results \n",
    "\n",
    "\n",
    "for index, row in squad_predictions.iterrows():\n",
    "    team = row.Squad\n",
    "    group = row.Group\n",
    "    team_percent = row[\"% of Points Taken\"]\n",
    "    \n",
    "    team_rows = group_stage_matches.loc[(group_stage_matches['Squad 1'] == team)| (group_stage_matches['Squad 2']==team),['Squad 1','Squad 2', 'Group']]\n",
    "    team_rows['is_squad_1'] = team_rows['Squad 1'] == team\n",
    "    team_sims = [group_match_sims[i] for i in team_rows.index.to_list()]\n",
    "    \n",
    "    team_wins = []\n",
    "    for x in range(len(team_rows)):\n",
    "        is_squad_1 = team_rows.is_squad_1.values[x]\n",
    "        game_wins = [y if is_squad_1 else int(not y) for y in team_sims[x]]\n",
    "        team_wins.append(game_wins)\n",
    "        \n",
    "    team_results = np.sum(team_wins, axis=0)\n",
    "    \n",
    "    \n",
    "    group_results.append({'team':team, 'group':group, 'team_percent':team_percent, 'wins':team_results, 'points':team_results*3})\n",
    "\n",
    "     \n",
    "    \n",
    "#R16 Simulation\n",
    "\n",
    "###############################\n",
    "    \n",
    "for z in range(num_sims):\n",
    "    if (z > 0) and (z % (num_sims / 100) == 0):\n",
    "        print(f\"Simulation {z} Complete.\")\n",
    "        \n",
    "    elif z == (num_sims - 1):\n",
    "        print(f\"Simulation Complete - The world cup was simulated {num_sims} times\")\n",
    "        \n",
    "        \n",
    "    r16_df = [{'team':x['team'], 'group':x['group'], 'team_percent':x['team_percent'], 'wins':x['wins'][z], 'points':x['points'][z]} for x in group_results] \n",
    "    r16_df = pd.DataFrame(r16_df)\n",
    "    r16_df = r16_df.sort_values(by=['group','points', 'team_percent'], ascending=[True,False,False]).reset_index(drop=True)\n",
    "    r16_df['rank'] = (r16_df.index % 4) + 1\n",
    "    r16_df['rank'] = r16_df['rank'].astype(str)\n",
    "    r16_df['seed'] = r16_df['rank'] + r16_df['group']\n",
    "    \n",
    "    r_16_results = pd.merge(r_16_matches, r16_df.loc[:,['team','team_percent','seed']], left_on='Squad 1', right_on='seed')\n",
    "    r_16_results.drop(['Squad 1'], axis=1, inplace=True)\n",
    "    r_16_results.rename(columns={'team':'Squad 1','team_percent':'S1%', 'seed':'Squad 1 Seed'}, inplace=True)\n",
    "\n",
    "    r_16_results = pd.merge(r_16_results, r16_df.loc[:,['team','team_percent','seed']], left_on='Squad 2', right_on='seed')\n",
    "    r_16_results.drop(['Squad 2'], axis=1, inplace=True)\n",
    "    r_16_results.rename(columns={'team':'Squad 2','team_percent':'S2%', 'seed':'Squad 2 Seed'}, inplace=True)\n",
    "\n",
    "    r_16_results['S1_Prob'] =((r_16_results['S1%'] - (r_16_results['S1%']*r_16_results['S2%'])) / (r_16_results['S1%'] + r_16_results['S2%'] - (2 * r_16_results['S1%'] * r_16_results['S2%'])))\n",
    "\n",
    "    r_16_results['S1_wins'] = [np.random.binomial(n=1, p=x, size=1)[0] for x in r_16_results.S1_Prob]\n",
    "    r_16_results['Simulation'] = z + 1\n",
    "    r_16_sims.append(r_16_results)\n",
    "\n",
    "#R8 Simulation\n",
    "\n",
    "###############################\n",
    "\n",
    "    r8_df = []\n",
    "    for index, row in r_16_results.iterrows():\n",
    "        match = row.Match\n",
    "        seed = 'M'+str(match)\n",
    "        if row.S1_wins == 1:\n",
    "            team = row['Squad 1']\n",
    "            team_percent = row['S1%']\n",
    "        else:\n",
    "            team = row['Squad 2']\n",
    "            team_percent = row['S2%']\n",
    "\n",
    "        data = {'seed':seed,'team':team,'team_percent':team_percent}\n",
    "        r8_df.append(data)\n",
    "\n",
    "    r8_df = pd.DataFrame(r8_df)\n",
    "    \n",
    "    r_8_results = pd.merge(r_8_matches, r8_df.loc[:,['team','team_percent','seed']], left_on='Squad 1', right_on='seed')\n",
    "    r_8_results.drop(['Squad 1'], axis=1, inplace=True)\n",
    "    r_8_results.rename(columns={'team':'Squad 1','team_percent':'S1%', 'seed':'Squad 1 Seed'}, inplace=True)\n",
    "\n",
    "    r_8_results = pd.merge(r_8_results, r8_df.loc[:,['team','team_percent','seed']], left_on='Squad 2', right_on='seed')\n",
    "    r_8_results.drop(['Squad 2'], axis=1, inplace=True)\n",
    "    r_8_results.rename(columns={'team':'Squad 2','team_percent':'S2%', 'seed':'Squad 2 Seed'}, inplace=True)\n",
    "\n",
    "    r_8_results['S1_Prob'] =((r_8_results['S1%'] - (r_8_results['S1%']*r_8_results['S2%'])) / (r_8_results['S1%'] + r_8_results['S2%'] - (2 * r_8_results['S1%'] * r_8_results['S2%'])))\n",
    "\n",
    "    r_8_results['S1_wins'] = [np.random.binomial(n=1, p=x, size=1)[0] for x in r_8_results.S1_Prob]\n",
    "    r_8_results['Simulation'] = z + 1\n",
    "    r_8_sims.append(r_8_results)\n",
    "\n",
    "    \n",
    "#Semi-finals Simulation\n",
    "###############################\n",
    "\n",
    "    r_4_df = []\n",
    "    for index, row in r_8_results.iterrows():\n",
    "        match = row.Match\n",
    "        seed = 'M'+str(match)\n",
    "        if row.S1_wins == 1:\n",
    "            team = row['Squad 1']\n",
    "            team_percent = row['S1%']\n",
    "        else:\n",
    "            team = row['Squad 2']\n",
    "            team_percent = row['S2%']\n",
    "\n",
    "        data = {'seed':seed,'team':team,'team_percent':team_percent}\n",
    "        r_4_df.append(data)\n",
    "\n",
    "    r_4_df = pd.DataFrame(r_4_df)\n",
    "    \n",
    "    r_4_results = pd.merge(r_4_matches, r_4_df.loc[:,['team','team_percent','seed']], left_on='Squad 1', right_on='seed')\n",
    "    r_4_results.drop(['Squad 1'], axis=1, inplace=True)\n",
    "    r_4_results.rename(columns={'team':'Squad 1','team_percent':'S1%', 'seed':'Squad 1 Seed'}, inplace=True)\n",
    "\n",
    "    r_4_results = pd.merge(r_4_results, r_4_df.loc[:,['team','team_percent','seed']], left_on='Squad 2', right_on='seed')\n",
    "    r_4_results.drop(['Squad 2'], axis=1, inplace=True)\n",
    "    r_4_results.rename(columns={'team':'Squad 2','team_percent':'S2%', 'seed':'Squad 2 Seed'}, inplace=True)\n",
    "\n",
    "    r_4_results['S1_Prob'] =((r_4_results['S1%'] - (r_4_results['S1%']*r_4_results['S2%'])) / (r_4_results['S1%'] + r_4_results['S2%'] - (2 * r_4_results['S1%'] * r_4_results['S2%'])))\n",
    "\n",
    "    r_4_results['S1_wins'] = [np.random.binomial(n=1, p=x, size=1)[0] for x in r_4_results.S1_Prob]\n",
    "    r_4_results['Simulation'] = z + 1\n",
    "    r_4_sims.append(r_4_results)\n",
    "\n",
    "# Finals Simulation\n",
    "###############################\n",
    "    \n",
    "    finals_df = []\n",
    "    for index, row in r_4_results.iterrows():\n",
    "        match = row.Match\n",
    "        seed = 'M'+str(match)\n",
    "        if row.S1_wins == 1:\n",
    "            team = row['Squad 1']\n",
    "            team_percent = row['S1%']\n",
    "        else:\n",
    "            team = row['Squad 2']\n",
    "            team_percent = row['S2%']\n",
    "\n",
    "        data = {'seed':seed,'team':team,'team_percent':team_percent}\n",
    "        finals_df.append(data)\n",
    "\n",
    "    finals_df = pd.DataFrame(finals_df)\n",
    "    \n",
    "    final_results = pd.merge(final_match, finals_df.loc[:,['team','team_percent','seed']], left_on='Squad 1', right_on='seed')\n",
    "    final_results.drop(['Squad 1'], axis=1, inplace=True)\n",
    "    final_results.rename(columns={'team':'Squad 1','team_percent':'S1%', 'seed':'Squad 1 Seed'}, inplace=True)\n",
    "\n",
    "    final_results = pd.merge(final_results, finals_df.loc[:,['team','team_percent','seed']], left_on='Squad 2', right_on='seed')\n",
    "    final_results.drop(['Squad 2'], axis=1, inplace=True)\n",
    "    final_results.rename(columns={'team':'Squad 2','team_percent':'S2%', 'seed':'Squad 2 Seed'}, inplace=True)\n",
    "\n",
    "    final_results['S1_Prob'] =((final_results['S1%'] - (final_results['S1%']*final_results['S2%'])) / (final_results['S1%'] + final_results['S2%'] - (2 * final_results['S1%'] * final_results['S2%'])))\n",
    "\n",
    "    final_results['S1_wins'] = [np.random.binomial(n=1, p=x, size=1)[0] for x in final_results.S1_Prob]\n",
    "    final_results['Simulation'] = z + 1\n",
    "    final_sims.append(final_results)"
   ]
  },
  {
   "cell_type": "code",
   "execution_count": 4,
   "id": "e4b4486a",
   "metadata": {},
   "outputs": [
    {
     "data": {
      "text/html": [
       "<div>\n",
       "<style scoped>\n",
       "    .dataframe tbody tr th:only-of-type {\n",
       "        vertical-align: middle;\n",
       "    }\n",
       "\n",
       "    .dataframe tbody tr th {\n",
       "        vertical-align: top;\n",
       "    }\n",
       "\n",
       "    .dataframe thead th {\n",
       "        text-align: right;\n",
       "    }\n",
       "</style>\n",
       "<table border=\"1\" class=\"dataframe\">\n",
       "  <thead>\n",
       "    <tr style=\"text-align: right;\">\n",
       "      <th></th>\n",
       "      <th>Match</th>\n",
       "      <th>Squad 1 Key</th>\n",
       "      <th>Squad 2 Key</th>\n",
       "      <th>Group</th>\n",
       "      <th>Stage</th>\n",
       "      <th>Squad 1</th>\n",
       "      <th>S1%</th>\n",
       "      <th>Squad 1 Seed</th>\n",
       "      <th>Squad 2</th>\n",
       "      <th>S2%</th>\n",
       "      <th>Squad 2 Seed</th>\n",
       "      <th>S1_Prob</th>\n",
       "      <th>S1_wins</th>\n",
       "      <th>Simulation</th>\n",
       "    </tr>\n",
       "  </thead>\n",
       "  <tbody>\n",
       "    <tr>\n",
       "      <th>0</th>\n",
       "      <td>63</td>\n",
       "      <td>Knockout Round</td>\n",
       "      <td>Knockout Round</td>\n",
       "      <td>Finals</td>\n",
       "      <td>Knockout</td>\n",
       "      <td>Germany</td>\n",
       "      <td>0.819723</td>\n",
       "      <td>M61</td>\n",
       "      <td>Denmark</td>\n",
       "      <td>0.778587</td>\n",
       "      <td>M62</td>\n",
       "      <td>0.563903</td>\n",
       "      <td>1</td>\n",
       "      <td>1</td>\n",
       "    </tr>\n",
       "  </tbody>\n",
       "</table>\n",
       "</div>"
      ],
      "text/plain": [
       "   Match     Squad 1 Key     Squad 2 Key   Group     Stage  Squad 1       S1%  \\\n",
       "0     63  Knockout Round  Knockout Round  Finals  Knockout  Germany  0.819723   \n",
       "\n",
       "  Squad 1 Seed  Squad 2       S2% Squad 2 Seed   S1_Prob  S1_wins  Simulation  \n",
       "0          M61  Denmark  0.778587          M62  0.563903        1           1  "
      ]
     },
     "execution_count": 4,
     "metadata": {},
     "output_type": "execute_result"
    }
   ],
   "source": [
    "final_sims[0]"
   ]
  },
  {
   "cell_type": "code",
   "execution_count": null,
   "id": "22244abf",
   "metadata": {},
   "outputs": [],
   "source": [
    "group_match_sims[0]"
   ]
  },
  {
   "cell_type": "code",
   "execution_count": null,
   "id": "90880857",
   "metadata": {},
   "outputs": [],
   "source": [
    "type(final_sims)"
   ]
  },
  {
   "cell_type": "code",
   "execution_count": null,
   "id": "fb6217ca",
   "metadata": {},
   "outputs": [],
   "source": [
    "len(world_cup_teams)"
   ]
  },
  {
   "cell_type": "code",
   "execution_count": null,
   "id": "657c502f",
   "metadata": {},
   "outputs": [],
   "source": [
    "type(group_results)"
   ]
  },
  {
   "cell_type": "code",
   "execution_count": null,
   "id": "f4bb6023",
   "metadata": {},
   "outputs": [],
   "source": [
    "group_results[0]['wins']"
   ]
  },
  {
   "cell_type": "code",
   "execution_count": null,
   "id": "b15afb59",
   "metadata": {},
   "outputs": [],
   "source": [
    "group_team_stats"
   ]
  },
  {
   "cell_type": "code",
   "execution_count": null,
   "id": "469541dc",
   "metadata": {},
   "outputs": [],
   "source": [
    "empty_dict = {}"
   ]
  },
  {
   "cell_type": "code",
   "execution_count": null,
   "id": "20a61e5e",
   "metadata": {},
   "outputs": [],
   "source": [
    "keys = "
   ]
  },
  {
   "cell_type": "code",
   "execution_count": null,
   "id": "a044c090",
   "metadata": {},
   "outputs": [],
   "source": [
    "listfor i in range(len(world_cup_teams)):\n",
    "    print(group_results[i]['team'])\n"
   ]
  },
  {
   "cell_type": "code",
   "execution_count": null,
   "id": "51fc1afe",
   "metadata": {},
   "outputs": [],
   "source": [
    "sum(group_results[0]['points'])/ num_sims"
   ]
  },
  {
   "cell_type": "code",
   "execution_count": null,
   "id": "012ee676",
   "metadata": {},
   "outputs": [],
   "source": [
    "test = sum(group_results[0].get('wins')) / num_sims"
   ]
  },
  {
   "cell_type": "code",
   "execution_count": null,
   "id": "f6ec801e",
   "metadata": {},
   "outputs": [],
   "source": [
    "test"
   ]
  },
  {
   "cell_type": "code",
   "execution_count": null,
   "id": "534d0a26",
   "metadata": {},
   "outputs": [],
   "source": [
    "for i in range(len(world_cup_teams)):\n",
    "    "
   ]
  },
  {
   "cell_type": "code",
   "execution_count": null,
   "id": "095c23c0",
   "metadata": {},
   "outputs": [],
   "source": [
    "group_stage_team_wins = []\n",
    "group_stage_team_wins = "
   ]
  },
  {
   "cell_type": "code",
   "execution_count": null,
   "id": "7245076e",
   "metadata": {},
   "outputs": [],
   "source": [
    "type(knockout_sims)"
   ]
  },
  {
   "cell_type": "code",
   "execution_count": null,
   "id": "67e3f576",
   "metadata": {},
   "outputs": [],
   "source": [
    "num_sims = 10000\n",
    "\n",
    "for z in range(num_sims):\n",
    "    if (z > 0) and (z % (num_sims / 10) == 0):\n",
    "        print(f\"Simulation {z} Complete.\")\n",
    "        \n",
    "    elif z == (num_sims - 1):\n",
    "        print(f\"Simulation Complete - The world cup was simulated {num_sims} times\")"
   ]
  },
  {
   "cell_type": "code",
   "execution_count": 5,
   "id": "68d9c49b",
   "metadata": {},
   "outputs": [],
   "source": [
    "winners = []\n",
    "\n",
    "for x in final_sims:\n",
    "    if x.S1_wins.values[0]==1:\n",
    "        winners.append(x['Squad 1'].values[0])\n",
    "    else:\n",
    "        winners.append(x['Squad 2'].values[0])   "
   ]
  },
  {
   "cell_type": "code",
   "execution_count": 6,
   "id": "a712622f",
   "metadata": {},
   "outputs": [
    {
     "data": {
      "text/plain": [
       "[('Netherlands', 13920),\n",
       " ('England', 10104),\n",
       " ('Spain', 9598),\n",
       " ('Belgium', 8772),\n",
       " ('Germany', 8391),\n",
       " ('Brazil', 8105),\n",
       " ('Portugal', 5891),\n",
       " ('France', 5031),\n",
       " ('Morocco', 4856),\n",
       " ('Denmark', 4496),\n",
       " ('Senegal', 4409),\n",
       " ('Mexico', 3599),\n",
       " ('South Korea', 2468),\n",
       " ('Argentina', 1758),\n",
       " ('Cameroon', 1664),\n",
       " ('Iran', 1377),\n",
       " ('United States', 840),\n",
       " ('Switzerland', 776),\n",
       " ('Croatia', 722),\n",
       " ('Serbia', 618),\n",
       " ('Australia', 583),\n",
       " ('Poland', 454),\n",
       " ('Tunisia', 409),\n",
       " ('Saudi Arabia', 314),\n",
       " ('Qatar', 210),\n",
       " ('Canada', 210),\n",
       " ('Japan', 152),\n",
       " ('Uruguay', 109),\n",
       " ('Wales', 74),\n",
       " ('Ecuador', 31),\n",
       " ('Ghana', 31),\n",
       " ('Costa Rica', 28)]"
      ]
     },
     "execution_count": 6,
     "metadata": {},
     "output_type": "execute_result"
    }
   ],
   "source": [
    "from collections import Counter\n",
    "Counter(winners).most_common()"
   ]
  },
  {
   "cell_type": "code",
   "execution_count": null,
   "id": "16934fd6",
   "metadata": {},
   "outputs": [],
   "source": [
    "group_team_stats = []\n",
    "\n",
    "#Counter(group_results[0]['wins'])"
   ]
  },
  {
   "cell_type": "code",
   "execution_count": null,
   "id": "1a774a1c",
   "metadata": {},
   "outputs": [],
   "source": []
  },
  {
   "cell_type": "code",
   "execution_count": null,
   "id": "75e0cce4",
   "metadata": {},
   "outputs": [],
   "source": [
    "Iran_wins = Counter(group_results[1]['wins'])"
   ]
  },
  {
   "cell_type": "code",
   "execution_count": null,
   "id": "6a36f0df",
   "metadata": {},
   "outputs": [],
   "source": [
    "group_team_stats.append(Iran_wins)"
   ]
  },
  {
   "cell_type": "code",
   "execution_count": null,
   "id": "b0a64026",
   "metadata": {},
   "outputs": [],
   "source": [
    "group_team_stats"
   ]
  },
  {
   "cell_type": "code",
   "execution_count": 13,
   "id": "b40a3c56",
   "metadata": {},
   "outputs": [],
   "source": [
    "import pickle"
   ]
  },
  {
   "cell_type": "code",
   "execution_count": null,
   "id": "15c2684a",
   "metadata": {},
   "outputs": [],
   "source": [
    "r_16_sims = knockout_sims"
   ]
  },
  {
   "cell_type": "code",
   "execution_count": 14,
   "id": "c6bd591d",
   "metadata": {},
   "outputs": [],
   "source": [
    "with open('group_results.pickle', 'wb') as file:\n",
    "    pickle.dump(group_results, file)"
   ]
  },
  {
   "cell_type": "code",
   "execution_count": null,
   "id": "a00cd32f",
   "metadata": {},
   "outputs": [],
   "source": [
    "group_results[0]"
   ]
  },
  {
   "cell_type": "code",
   "execution_count": null,
   "id": "26c0d78c",
   "metadata": {},
   "outputs": [],
   "source": [
    "type(group_results)"
   ]
  },
  {
   "cell_type": "code",
   "execution_count": null,
   "id": "0e2b5305",
   "metadata": {},
   "outputs": [],
   "source": [
    "winners"
   ]
  },
  {
   "cell_type": "code",
   "execution_count": null,
   "id": "7b90ae7b",
   "metadata": {},
   "outputs": [],
   "source": [
    "r_4_sims[99999]"
   ]
  },
  {
   "cell_type": "code",
   "execution_count": 7,
   "id": "347e4c58",
   "metadata": {},
   "outputs": [],
   "source": [
    "r_16_df = pd.concat(r_16_sims, ignore_index=True)\n",
    "r_8_df = pd.concat(r_8_sims, ignore_index=True)\n",
    "r_4_df = pd.concat(r_4_sims, ignore_index=True)\n",
    "finals_df = pd.concat(final_sims, ignore_index=True)\n",
    "\n",
    "match_df = [r_16_df, r_8_df, r_4_df, finals_df]\n",
    "\n",
    "\n"
   ]
  },
  {
   "cell_type": "code",
   "execution_count": 8,
   "id": "508fe11e",
   "metadata": {},
   "outputs": [],
   "source": [
    "all_knockout_matches = pd.concat(match_df, ignore_index=True)"
   ]
  },
  {
   "cell_type": "code",
   "execution_count": null,
   "id": "a3e5a5b0",
   "metadata": {},
   "outputs": [],
   "source": [
    "r_4_df.reset_index(inplace = True)"
   ]
  },
  {
   "cell_type": "code",
   "execution_count": null,
   "id": "31d73912",
   "metadata": {},
   "outputs": [],
   "source": [
    "r_4_df.drop(['index'], axis=1, inplace=True)"
   ]
  },
  {
   "cell_type": "code",
   "execution_count": null,
   "id": "46299dbe",
   "metadata": {},
   "outputs": [],
   "source": [
    "r_4_df"
   ]
  },
  {
   "cell_type": "code",
   "execution_count": null,
   "id": "22ee69ad",
   "metadata": {},
   "outputs": [],
   "source": [
    "final_sims[0]"
   ]
  },
  {
   "cell_type": "code",
   "execution_count": null,
   "id": "243a4e17",
   "metadata": {},
   "outputs": [],
   "source": [
    "finals_df = pd.concat(final_sims, ignore_index=True)"
   ]
  },
  {
   "cell_type": "code",
   "execution_count": null,
   "id": "0393f6cc",
   "metadata": {},
   "outputs": [],
   "source": [
    "finals_df"
   ]
  },
  {
   "cell_type": "code",
   "execution_count": null,
   "id": "e19ff5fd",
   "metadata": {},
   "outputs": [],
   "source": [
    "knockout_sims[0]"
   ]
  },
  {
   "cell_type": "code",
   "execution_count": null,
   "id": "d25ba41f",
   "metadata": {},
   "outputs": [],
   "source": [
    "r_16_df = pd.concat(r_16_sims, ignore_index=True)"
   ]
  },
  {
   "cell_type": "code",
   "execution_count": null,
   "id": "dca3d227",
   "metadata": {},
   "outputs": [],
   "source": [
    "r_16_df"
   ]
  },
  {
   "cell_type": "code",
   "execution_count": null,
   "id": "7726404c",
   "metadata": {},
   "outputs": [],
   "source": [
    "r_8_df = pd.concat(r_8_sims, ignore_index=True)"
   ]
  },
  {
   "cell_type": "code",
   "execution_count": null,
   "id": "1be1e9cd",
   "metadata": {},
   "outputs": [],
   "source": [
    "match_df = [r_16_df, r_8_df, r_4_df, finals_df]"
   ]
  },
  {
   "cell_type": "code",
   "execution_count": 9,
   "id": "b554f9d3",
   "metadata": {},
   "outputs": [
    {
     "data": {
      "text/plain": [
       "(1500000, 14)"
      ]
     },
     "execution_count": 9,
     "metadata": {},
     "output_type": "execute_result"
    }
   ],
   "source": [
    "all_knockout_matches.shape"
   ]
  },
  {
   "cell_type": "code",
   "execution_count": 11,
   "id": "e9dff221",
   "metadata": {},
   "outputs": [],
   "source": [
    "all_knockout_matches.to_csv('CSVs/Predictions/all_knockout_matches.csv', index=False)"
   ]
  },
  {
   "cell_type": "code",
   "execution_count": 10,
   "id": "28337528",
   "metadata": {},
   "outputs": [],
   "source": [
    "all_knockout_matches['Match Winner'] = np.where(all_knockout_matches['S1_wins'] == 1, all_knockout_matches['Squad 1'], all_knockout_matches['Squad 2'])"
   ]
  },
  {
   "cell_type": "code",
   "execution_count": null,
   "id": "dc340afe",
   "metadata": {},
   "outputs": [],
   "source": [
    "test_df = all_knockout_matches.head(5)"
   ]
  },
  {
   "cell_type": "code",
   "execution_count": null,
   "id": "5ea2b2e4",
   "metadata": {},
   "outputs": [],
   "source": [
    "US_Matches = all_knockout_matches.loc[(all_knockout_matches['Squad 1'] == 'United States') | (all_knockout_matches['Squad 2'] == 'United States')]"
   ]
  },
  {
   "cell_type": "code",
   "execution_count": null,
   "id": "9e368e58",
   "metadata": {},
   "outputs": [],
   "source": [
    "US_Matches"
   ]
  },
  {
   "cell_type": "code",
   "execution_count": null,
   "id": "913b1184",
   "metadata": {},
   "outputs": [],
   "source": [
    "US_Matches.loc[(US_Matches['Group'] == 'Finals')].value_counts()"
   ]
  },
  {
   "cell_type": "code",
   "execution_count": null,
   "id": "190ee282",
   "metadata": {},
   "outputs": [],
   "source": [
    "test_df"
   ]
  },
  {
   "cell_type": "code",
   "execution_count": null,
   "id": "c258429b",
   "metadata": {},
   "outputs": [],
   "source": [
    "US_Matches.loc[(US_Matches['Group'] == 'Finals')]"
   ]
  },
  {
   "cell_type": "code",
   "execution_count": null,
   "id": "64fbf712",
   "metadata": {},
   "outputs": [],
   "source": [
    "test_df['Match Winner'] = np.where(test_df['S1_wins'] == 1, test_df['Squad 1'], test_df['Squad 2'])"
   ]
  },
  {
   "cell_type": "code",
   "execution_count": null,
   "id": "6a54f84d",
   "metadata": {},
   "outputs": [],
   "source": [
    "test_df"
   ]
  },
  {
   "cell_type": "code",
   "execution_count": null,
   "id": "e2a4b833",
   "metadata": {},
   "outputs": [],
   "source": []
  }
 ],
 "metadata": {
  "kernelspec": {
   "display_name": "mlenv",
   "language": "python",
   "name": "mlenv"
  },
  "language_info": {
   "codemirror_mode": {
    "name": "ipython",
    "version": 3
   },
   "file_extension": ".py",
   "mimetype": "text/x-python",
   "name": "python",
   "nbconvert_exporter": "python",
   "pygments_lexer": "ipython3",
   "version": "3.7.13"
  }
 },
 "nbformat": 4,
 "nbformat_minor": 5
}
