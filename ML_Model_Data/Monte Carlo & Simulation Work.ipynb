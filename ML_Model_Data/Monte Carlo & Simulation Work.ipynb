{
 "cells": [
  {
   "cell_type": "code",
   "execution_count": null,
   "id": "3f6bb0be",
   "metadata": {},
   "outputs": [],
   "source": [
    "# Tournament Structure\n",
    "\n",
    "# Group Stage with 8 groups of 4 teams\n",
    "# Top 2 teams from each group qualify\n",
    "# Tournament matches are already pre determined using group finishing i.e. "
   ]
  }
 ],
 "metadata": {
  "kernelspec": {
   "display_name": "mlenv",
   "language": "python",
   "name": "mlenv"
  },
  "language_info": {
   "codemirror_mode": {
    "name": "ipython",
    "version": 3
   },
   "file_extension": ".py",
   "mimetype": "text/x-python",
   "name": "python",
   "nbconvert_exporter": "python",
   "pygments_lexer": "ipython3",
   "version": "3.7.13"
  }
 },
 "nbformat": 4,
 "nbformat_minor": 5
}
