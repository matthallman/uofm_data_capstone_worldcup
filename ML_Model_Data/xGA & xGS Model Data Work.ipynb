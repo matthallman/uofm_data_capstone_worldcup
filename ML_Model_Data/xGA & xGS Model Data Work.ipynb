{
 "cells": [
  {
   "cell_type": "code",
   "execution_count": 1,
   "id": "6e97dca5",
   "metadata": {},
   "outputs": [
    {
     "name": "stdout",
     "output_type": "stream",
     "text": [
      "C:\\Users\\tbrec\\Data_Analysis\\Final_Project\\uofm_data_capstone_worldcup\\ML_Model_Data\n"
     ]
    }
   ],
   "source": [
    "import numpy as np\n",
    "import pandas as pd\n",
    "import os\n",
    "\n",
    "print(os.getcwd())\n",
    "\n",
    "xGS_Standard = pd.read_csv(r'CSVs\\Big5Euro\\xGS_Standard.csv' ,encoding='latin-1')\n",
    "xGS_Shooting = pd.read_csv(r'CSVs\\Big5Euro\\xGS_Shooting.csv' ,encoding='latin-1')\n",
    "xGS_Misc = pd.read_csv(r'CSVs\\Big5Euro\\xGS_Misc.csv' ,encoding='latin-1')\n",
    "xGA_Standard = pd.read_csv(r'CSVs\\Big5Euro\\xGA_Standard.csv' ,encoding='latin-1')\n",
    "xGA_Shooting = pd.read_csv(r'CSVs\\Big5Euro\\xGA_Shooting.csv' ,encoding='latin-1')\n",
    "xGA_Misc = pd.read_csv(r'CSVs\\Big5Euro\\xGA_Misc.csv' ,encoding='latin-1')"
   ]
  },
  {
   "cell_type": "code",
   "execution_count": 2,
   "id": "f9cd9135",
   "metadata": {},
   "outputs": [],
   "source": [
    "# Creating International xGS_Total and xGA_Total Dataframes\n",
    "\n",
    "xGS_Total = pd.merge(\n",
    "xGS_Standard, xGS_Shooting, on=['Key']\n",
    ")\n",
    "\n",
    "xGS_Total = pd.merge(\n",
    "xGS_Total, xGS_Misc, on=['Key']\n",
    ")\n",
    "\n",
    "xGA_Total = pd.merge(\n",
    "xGA_Standard, xGA_Shooting, on=['Key']\n",
    ")\n",
    "\n",
    "xGA_Total = pd.merge(\n",
    "xGA_Total, xGA_Misc, on=['Key']\n",
    ")"
   ]
  },
  {
   "cell_type": "code",
   "execution_count": null,
   "id": "eb00b433",
   "metadata": {},
   "outputs": [],
   "source": [
    "xGA_Total.columns"
   ]
  },
  {
   "cell_type": "code",
   "execution_count": 3,
   "id": "7e9305af",
   "metadata": {},
   "outputs": [],
   "source": [
    "#Drop repeat columns\n",
    "\n",
    "xGS_Total.drop(['Year_y','Squad_y','Competition_y','Competition','Squad',\"Year\"], axis=1, inplace=True)\n",
    "xGS_Total.rename(columns={\"Year_x\":\"Year\", \"Competition_x\":\"Competition\", \"Squad_x\":\"Squad\"},inplace=True)\n",
    "xGA_Total.drop(['Year_y','Squad_y','Competition_y','Competition','Squad',\"Year\"], axis=1, inplace=True)\n",
    "xGA_Total.rename(columns={\"Year_x\":\"Year\", \"Competition_x\":\"Competition\", \"Squad_x\":\"Squad\"},inplace=True)"
   ]
  },
  {
   "cell_type": "code",
   "execution_count": 4,
   "id": "45ab035c",
   "metadata": {},
   "outputs": [],
   "source": [
    "xGS_Total.to_csv('CSVs/xGS_Total.csv', index=False)\n",
    "xGA_Total.to_csv('CSVs/xGA_Total.csv', index=False)"
   ]
  },
  {
   "cell_type": "code",
   "execution_count": null,
   "id": "a3f1c3e4",
   "metadata": {},
   "outputs": [],
   "source": [
    "import plotly.express as px\n",
    "import hvplot.pandas\n",
    "# Add Matplotlib inline magic command\n",
    "%matplotlib inline\n",
    "# Dependencies and Setup\n",
    "import matplotlib.pyplot as plt"
   ]
  },
  {
   "cell_type": "code",
   "execution_count": null,
   "id": "a1f387f8",
   "metadata": {},
   "outputs": [],
   "source": [
    "xGS_Total.columns"
   ]
  },
  {
   "cell_type": "code",
   "execution_count": null,
   "id": "7df8813c",
   "metadata": {},
   "outputs": [],
   "source": [
    "xGS_Total['Squad-Year']=xGS_Total[\"Year\"].astype(str) +\"-\" + xGS_Total[\"Squad\"]"
   ]
  },
  {
   "cell_type": "code",
   "execution_count": null,
   "id": "8425f08d",
   "metadata": {
    "scrolled": true
   },
   "outputs": [],
   "source": [
    "# 3D Scatter plot for analysis\n",
    "\n",
    "fig = px.scatter_3d(\n",
    "    xGS_Total,\n",
    "    x=\"G/SoT\",\n",
    "    y=\"SoT%\",\n",
    "    z=\"Gls\",\n",
    "    color=\"Competition\",\n",
    "    symbol=\"Competition\",\n",
    "    hover_name='Squad-Year',\n",
    "    width=800\n",
    ")\n",
    "fig.update_layout(legend=dict(x=0, y=1))\n",
    "fig.show()\n",
    "xGS_Total.drop(['Squad-Year'], axis=1, inplace=True)"
   ]
  },
  {
   "cell_type": "code",
   "execution_count": null,
   "id": "c6e001e8",
   "metadata": {},
   "outputs": [],
   "source": [
    "import seaborn as sns\n",
    "\n",
    "sns.regplot('SoT%','Gls', data=xGS_Total)"
   ]
  },
  {
   "cell_type": "code",
   "execution_count": null,
   "id": "47a142e5",
   "metadata": {},
   "outputs": [],
   "source": [
    "#Adding in international Data\n",
    "\n",
    "Int_xGS_Standard = pd.read_csv(r'CSVs\\International\\Int_xGS_Standard.csv' ,encoding='latin-1')\n",
    "Int_xGS_Shooting = pd.read_csv(r'CSVs\\International\\Int_xGS_Shooting.csv' ,encoding='latin-1')\n",
    "Int_xGS_Misc = pd.read_csv(r'CSVs\\International\\Int_xGS_Misc.csv' ,encoding='latin-1')\n",
    "Int_xGA_Standard = pd.read_csv(r'CSVs\\International\\Int_xGA_Standard.csv' ,encoding='latin-1')\n",
    "Int_xGA_Shooting = pd.read_csv(r'CSVs\\International\\Int_xGA_Shooting.csv' ,encoding='latin-1')\n",
    "Int_xGA_Misc = pd.read_csv(r'CSVs\\International\\Int_xGA_Misc.csv' ,encoding='latin-1')\n",
    "Team_Confederation = pd.read_csv(r'CSVs\\International\\Team_Confederation.csv', encoding='latin-1')"
   ]
  },
  {
   "cell_type": "code",
   "execution_count": null,
   "id": "937dce28",
   "metadata": {},
   "outputs": [],
   "source": [
    "Team_Confederation.head()"
   ]
  },
  {
   "cell_type": "code",
   "execution_count": null,
   "id": "1123942b",
   "metadata": {},
   "outputs": [],
   "source": [
    "Int_xGS_Total = pd.merge(\n",
    "Int_xGS_Standard, Int_xGS_Shooting, on=['Key']\n",
    ")\n",
    "\n",
    "Int_xGS_Total = pd.merge(\n",
    "Int_xGS_Total, Int_xGS_Misc, on=['Key']\n",
    ")\n",
    "\n",
    "Int_xGA_Total = pd.merge(\n",
    "Int_xGA_Standard, Int_xGA_Shooting, on=['Key']\n",
    ")\n",
    "\n",
    "Int_xGA_Total = pd.merge(\n",
    "Int_xGA_Total, Int_xGA_Misc, on=['Key']\n",
    ")\n",
    "\n",
    "Int_xGS_Total.drop(['Year_y','Squad_y','Competition_y','Competition','Squad',\"Year\"], axis=1, inplace=True)\n",
    "Int_xGS_Total.rename(columns={\"Year_x\":\"Year\", \"Competition_x\":\"Competition\", \"Squad_x\":\"Squad\"},inplace=True)\n",
    "Int_xGA_Total.drop(['Year_y','Squad_y','Competition_y','Competition','Squad',\"Year\"], axis=1, inplace=True)\n",
    "Int_xGA_Total.rename(columns={\"Year_x\":\"Year\", \"Competition_x\":\"Competition\", \"Squad_x\":\"Squad\"},inplace=True)"
   ]
  },
  {
   "cell_type": "code",
   "execution_count": null,
   "id": "e0f8c907",
   "metadata": {},
   "outputs": [],
   "source": [
    "Int_xGS_Total.shape"
   ]
  },
  {
   "cell_type": "code",
   "execution_count": null,
   "id": "dbe6077f",
   "metadata": {},
   "outputs": [],
   "source": []
  },
  {
   "cell_type": "code",
   "execution_count": null,
   "id": "4fadb8c0",
   "metadata": {},
   "outputs": [],
   "source": [
    "#Add Association to International Info\n",
    "Int_xGS_Total = pd.merge(Int_xGS_Total, Team_Confederation, on='Squad', how='inner')\n",
    "Int_xGA_Total = pd.merge(Int_xGA_Total, Team_Confederation, on='Squad', how='inner')\n"
   ]
  },
  {
   "cell_type": "code",
   "execution_count": null,
   "id": "59d56bc4",
   "metadata": {},
   "outputs": [],
   "source": [
    "Int_xGS_Total.to_csv('CSVs/Int_xGS_Total.csv', index=False)\n",
    "Int_xGA_Total.to_csv('CSVs/Int_xGA_Total.csv', index=False)"
   ]
  },
  {
   "cell_type": "code",
   "execution_count": null,
   "id": "dc75fe22",
   "metadata": {},
   "outputs": [],
   "source": [
    "#xGS Correlation to GLS\n",
    "\n",
    "corrs_xGS = abs(Int_xGS_Total.corr())['Gls'].sort_values(ascending=False)\n",
    "corrs_xGS\n"
   ]
  },
  {
   "cell_type": "code",
   "execution_count": null,
   "id": "58df61ad",
   "metadata": {},
   "outputs": [],
   "source": [
    "Int_xGA_Total.columns"
   ]
  },
  {
   "cell_type": "code",
   "execution_count": null,
   "id": "a27a570d",
   "metadata": {},
   "outputs": [],
   "source": [
    "#xGA Correlation to Gls\n",
    "\n",
    "corrs_xGA = abs(Int_xGA_Total.corr())['O. Gls'].sort_values(ascending=False)\n",
    "corrs_xGA"
   ]
  },
  {
   "cell_type": "code",
   "execution_count": null,
   "id": "3bf6343b",
   "metadata": {},
   "outputs": [],
   "source": [
    "B5_corrs_xGS = abs(xGS_Total.corr())['Gls'].sort_values(ascending=False)\n",
    "B5_corrs_xGS"
   ]
  },
  {
   "cell_type": "code",
   "execution_count": null,
   "id": "76a93d99",
   "metadata": {},
   "outputs": [],
   "source": [
    "xGS_Combined = pd.concat([Int_xGS_Total, xGS_Total], axis=0)\n",
    "xGS_Combined.info()"
   ]
  },
  {
   "cell_type": "code",
   "execution_count": null,
   "id": "5ca07b8b",
   "metadata": {
    "scrolled": false
   },
   "outputs": [],
   "source": [
    "combined_corrs_xGS = abs(xGS_Combined.corr())['Gls'].sort_values(ascending=False)\n",
    "combined_corrs_xGS"
   ]
  },
  {
   "cell_type": "code",
   "execution_count": null,
   "id": "bbd7095f",
   "metadata": {},
   "outputs": [],
   "source": [
    "# Prepping XGS data before putting it in ML Models"
   ]
  },
  {
   "cell_type": "code",
   "execution_count": null,
   "id": "01cbf0c3",
   "metadata": {},
   "outputs": [],
   "source": [
    "Int_xGA_Total.head()"
   ]
  },
  {
   "cell_type": "code",
   "execution_count": null,
   "id": "d261219f",
   "metadata": {},
   "outputs": [],
   "source": [
    "# Make Key the index and drop unnessecary columns\n",
    "#Int_xGS_Total.set_index(['Key'], inplace=True)\n",
    "Int_xGS_ML = Int_xGS_Total.drop(['Year','Competition','Squad','Age','Sh','G/SoT','CrdR','Fld','TklW'], axis=1)\n",
    "Int_xGS_ML"
   ]
  },
  {
   "cell_type": "code",
   "execution_count": null,
   "id": "3afef047",
   "metadata": {},
   "outputs": [],
   "source": [
    "# One-hot encode Confederation\n",
    "Int_xGS_ML = pd.get_dummies(Int_xGS_ML, columns=[\"Confederation\"])\n",
    "Int_xGS_ML.head()"
   ]
  },
  {
   "cell_type": "code",
   "execution_count": null,
   "id": "8a5f2d4d",
   "metadata": {},
   "outputs": [],
   "source": []
  },
  {
   "cell_type": "code",
   "execution_count": null,
   "id": "fe8881b2",
   "metadata": {},
   "outputs": [],
   "source": [
    "# Grabbed function that takes in a model algorithm and the training data and prints graphs and metrics\n",
    "\n",
    "def evaluateModel(model, X_train, y_train, X_test, y_test):\n",
    "    # FIT THE MODEL\n",
    "    model.fit(X_train, y_train)\n",
    "\n",
    "    # EVALUATE the MODEL\n",
    "    train_preds = model.predict(X_train)\n",
    "    test_preds = model.predict(X_test)\n",
    "\n",
    "    # PRINT the METRICS\n",
    "    print(\"TRAINING SET\")\n",
    "\n",
    "    # Score the prediction with MSE and R2\n",
    "    mse_train = np.sqrt(mean_squared_error(y_train, train_preds))\n",
    "    r2_train = r2_score(y_train, train_preds)\n",
    "    mae_train = mean_absolute_error(y_train, train_preds)\n",
    "\n",
    "    print(f\"root mean squared error (RMSE): {mse_train}\")\n",
    "    print(f\"R-squared (R2 ): {r2_train}\")\n",
    "    print(f\"MAE {mae_train}\")\n",
    "\n",
    "    print()\n",
    "\n",
    "    # PRINT the METRICS\n",
    "    print(\"Testing SET\")\n",
    "\n",
    "    # Score the prediction with MSE and R2\n",
    "    mse_test = np.sqrt(mean_squared_error(y_test, test_preds))\n",
    "    r2_test = r2_score(y_test, test_preds)\n",
    "    mae_test = mean_absolute_error(y_test, test_preds)\n",
    "\n",
    "    print(f\"root mean squared error (RMSE): {mse_test}\")\n",
    "    print(f\"R-squared (R2 ): {r2_test}\")\n",
    "    print(f\"MAE {mae_test}\")\n",
    "    \n",
    "    plt.figure(figsize=(10,6))\n",
    "    plt.scatter(y_test, test_preds)\n",
    "    plt.title(\"Actual vs Predicted Plot\")\n",
    "    plt.xlabel(\"Actual\")\n",
    "    plt.ylabel(\"Predicted\")\n",
    "    plt.plot(y_test, y_test)\n",
    "    plt.show()\n",
    "    \n",
    "    # Plot Residuals\n",
    "    plt.figure(figsize=(10,6))\n",
    "    plt.scatter(test_preds, test_preds - y_test)\n",
    "    plt.hlines(y=0, xmin=test_preds.min(), xmax=test_preds.max(), color=\"r\")\n",
    "    plt.title(\"Residuals\")\n",
    "    plt.xlabel(\"Prediction\")\n",
    "    plt.ylabel(\"Error\")\n",
    "    plt.show()\n",
    "\n",
    "    return(model)"
   ]
  },
  {
   "cell_type": "code",
   "execution_count": null,
   "id": "937dadc3",
   "metadata": {},
   "outputs": [],
   "source": []
  },
  {
   "cell_type": "code",
   "execution_count": null,
   "id": "da11758b",
   "metadata": {},
   "outputs": [],
   "source": [
    "# 3D Scatter plot for analysis\n",
    "\n",
    "xGS_Combined['Squad-Year']=xGS_Combined[\"Year\"].astype(str) +\"-\" + xGS_Combined[\"Squad\"]\n",
    "\n",
    "\n",
    "fig = px.scatter_3d(\n",
    "    xGS_Combined,\n",
    "    x=\"G/Sh\",\n",
    "    y=\"Poss\",\n",
    "    z=\"Gls\",\n",
    "    color=\"Competition\",\n",
    "    symbol=\"Competition\",\n",
    "    hover_name='Squad-Year',\n",
    "    width=800\n",
    ")\n",
    "fig.update_layout(legend=dict(x=0, y=1))\n",
    "fig.show()\n",
    "xGS_Combined.drop(['Squad-Year'], axis=1, inplace=True)"
   ]
  }
 ],
 "metadata": {
  "kernelspec": {
   "display_name": "mlenv",
   "language": "python",
   "name": "mlenv"
  },
  "language_info": {
   "codemirror_mode": {
    "name": "ipython",
    "version": 3
   },
   "file_extension": ".py",
   "mimetype": "text/x-python",
   "name": "python",
   "nbconvert_exporter": "python",
   "pygments_lexer": "ipython3",
   "version": "3.7.13"
  }
 },
 "nbformat": 4,
 "nbformat_minor": 5
}
