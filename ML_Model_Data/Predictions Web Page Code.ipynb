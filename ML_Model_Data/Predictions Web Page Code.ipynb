{
 "cells": [
  {
   "cell_type": "code",
   "execution_count": 6,
   "id": "bb17875d",
   "metadata": {},
   "outputs": [],
   "source": [
    "#Imports\n",
    "\n",
    "import pickle\n",
    "import numpy as np\n",
    "import pandas as pd\n",
    "    \n",
    "squad_predictions = pd.read_csv(r'CSVs\\Predictions\\Squad_Strength_Final.csv', encoding='latin-1')\n",
    "\n",
    "# Dataframe adjustments and Dictionary Creation\n",
    "squad_predictions.drop(['Group'], axis=1, inplace=True)\n",
    "squad_strength_dict = squad_predictions.T.to_dict('dict')\n",
    "squad_list = squad_predictions['Squad'].to_dict()"
   ]
  },
  {
   "cell_type": "code",
   "execution_count": 7,
   "id": "24421d18",
   "metadata": {},
   "outputs": [],
   "source": [
    "#This needs to be a dynamic variable that the user can pick from, list of team names can be found in squad_list dictionary\n",
    "\n",
    "team1 = 'Qatar'\n",
    "team2 = 'Iran' "
   ]
  },
  {
   "cell_type": "code",
   "execution_count": 12,
   "id": "f9a35ebe",
   "metadata": {},
   "outputs": [
    {
     "data": {
      "text/plain": [
       "{0: 'Qatar',\n",
       " 1: 'Iran',\n",
       " 2: 'South Korea',\n",
       " 3: 'Japan',\n",
       " 4: 'Saudi Arabia',\n",
       " 5: 'Australia',\n",
       " 6: 'Ghana',\n",
       " 7: 'Senegal',\n",
       " 8: 'Tunisia',\n",
       " 9: 'Cameroon',\n",
       " 10: 'Morocco',\n",
       " 11: 'Canada',\n",
       " 12: 'Mexico',\n",
       " 13: 'United States',\n",
       " 14: 'Costa Rica',\n",
       " 15: 'Brazil',\n",
       " 16: 'Argentina',\n",
       " 17: 'Ecuador',\n",
       " 18: 'Uruguay',\n",
       " 19: 'Germany',\n",
       " 20: 'Denmark',\n",
       " 21: 'Belgium',\n",
       " 22: 'France',\n",
       " 23: 'Croatia',\n",
       " 24: 'Spain',\n",
       " 25: 'Serbia',\n",
       " 26: 'England',\n",
       " 27: 'Switzerland',\n",
       " 28: 'Netherlands',\n",
       " 29: 'Portugal',\n",
       " 30: 'Poland',\n",
       " 31: 'Wales'}"
      ]
     },
     "execution_count": 12,
     "metadata": {},
     "output_type": "execute_result"
    }
   ],
   "source": [
    "squad_list"
   ]
  },
  {
   "cell_type": "code",
   "execution_count": 8,
   "id": "a2634a20",
   "metadata": {},
   "outputs": [],
   "source": [
    "# Get_key function to be used in main function\n",
    "\n",
    "def get_key(val):\n",
    "    for key, value in squad_list.items():\n",
    "        if val == value:\n",
    "            return key"
   ]
  },
  {
   "cell_type": "code",
   "execution_count": 9,
   "id": "d8b5ff35",
   "metadata": {},
   "outputs": [],
   "source": [
    "#Simulation Setup\n",
    "\n",
    "np.random.seed(22)\n",
    "num_sims = 1000"
   ]
  },
  {
   "cell_type": "code",
   "execution_count": 10,
   "id": "e57bed0b",
   "metadata": {},
   "outputs": [],
   "source": [
    "def matchup_simulator(team1, team2):\n",
    "    \n",
    "    # Get team numbers for dictionary reference\n",
    "    team1_number = get_key(team1)\n",
    "    team2_number = get_key(team2)\n",
    "    \n",
    "    # Get Squad Percentages\n",
    "    S1_percent = squad_strength_dict[team1_number]['% of Points Taken']\n",
    "    S2_percent = squad_strength_dict[team2_number]['% of Points Taken']\n",
    "    \n",
    "    # Calculating Probability that S1 wins given the two squad percentages S2_prob = 1 - S1_prob\n",
    "    \n",
    "    S1_prob = ((S1_percent - (S1_percent*S2_percent)) / (S1_percent + S2_percent - (2 * S1_percent * S2_percent)))\n",
    "    \n",
    "    # Simulating match num_sims times, returns an array of 0 and 1, 1 = squad one wins\n",
    "    \n",
    "    match_results = np.random.binomial(n=1, p = S1_prob, size = num_sims)\n",
    "    \n",
    "    # Wins per num_sims\n",
    "    \n",
    "    S1_win_percent = np.mean(match_results)\n",
    "    \n",
    "    results = (f\"{team1} Wins{S1_win_percent: .2%} of the time against {team2} across {num_sims} simulations.\")\n",
    "    \n",
    "    print(results)"
   ]
  },
  {
   "cell_type": "code",
   "execution_count": 11,
   "id": "932e74e0",
   "metadata": {},
   "outputs": [
    {
     "name": "stdout",
     "output_type": "stream",
     "text": [
      "England Wins 53.40% of the time against Brazil across 1000 simulations.\n"
     ]
    }
   ],
   "source": [
    "# Run on click?\n",
    "\n",
    "matchup_simulator('England','Brazil')"
   ]
  },
  {
   "cell_type": "code",
   "execution_count": null,
   "id": "5f77f60d",
   "metadata": {},
   "outputs": [],
   "source": [
    "squad_strength_dict[team1_number]['xGS']"
   ]
  },
  {
   "cell_type": "code",
   "execution_count": 14,
   "id": "1eca0733",
   "metadata": {},
   "outputs": [],
   "source": [
    "squad_predictions['Squad'].to_csv('squad_list.csv')"
   ]
  },
  {
   "cell_type": "code",
   "execution_count": null,
   "id": "87b9ee27",
   "metadata": {},
   "outputs": [],
   "source": []
  }
 ],
 "metadata": {
  "kernelspec": {
   "display_name": "mlenv",
   "language": "python",
   "name": "mlenv"
  },
  "language_info": {
   "codemirror_mode": {
    "name": "ipython",
    "version": 3
   },
   "file_extension": ".py",
   "mimetype": "text/x-python",
   "name": "python",
   "nbconvert_exporter": "python",
   "pygments_lexer": "ipython3",
   "version": "3.7.13"
  }
 },
 "nbformat": 4,
 "nbformat_minor": 5
}
