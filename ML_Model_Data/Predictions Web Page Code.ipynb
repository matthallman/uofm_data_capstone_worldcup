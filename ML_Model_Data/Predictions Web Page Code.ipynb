{
 "cells": [
  {
   "cell_type": "code",
   "execution_count": 2,
   "id": "bb17875d",
   "metadata": {},
   "outputs": [],
   "source": [
    "#Imports\n",
    "\n",
    "import pickle\n",
    "import numpy as np\n",
    "import pandas as pd\n",
    "    \n",
    "squad_predictions = pd.read_csv(r'CSVs\\Predictions\\Squad_Strength_Final.csv', encoding='latin-1')\n",
    "group_tables = \n",
    "\n",
    "# Dataframe adjustments and Dictionary Creation\n",
    "squad_predictions.drop(['Group'], axis=1, inplace=True)\n",
    "squad_strength_dict = squad_predictions.T.to_dict('dict')\n",
    "squad_list = squad_predictions['Squad'].to_dict()"
   ]
  },
  {
   "cell_type": "code",
   "execution_count": 6,
   "id": "24421d18",
   "metadata": {},
   "outputs": [],
   "source": [
    "#This needs to be a dynamic variable that the user can pick from, list of team names can be found in squad_list dictionary\n",
    "\n",
    "team1 = 'Qatar'\n",
    "team2 = 'Iran' "
   ]
  },
  {
   "cell_type": "code",
   "execution_count": 5,
   "id": "a2634a20",
   "metadata": {},
   "outputs": [],
   "source": [
    "# Get_key function to be used in main function\n",
    "\n",
    "def get_key(val):\n",
    "    for key, value in squad_list.items():\n",
    "        if val == value:\n",
    "            return key"
   ]
  },
  {
   "cell_type": "code",
   "execution_count": 7,
   "id": "d8b5ff35",
   "metadata": {},
   "outputs": [],
   "source": [
    "#Simulation Setup\n",
    "\n",
    "np.random.seed(22)\n",
    "num_sims = 1000"
   ]
  },
  {
   "cell_type": "code",
   "execution_count": 18,
   "id": "e57bed0b",
   "metadata": {},
   "outputs": [],
   "source": [
    "def matchup_simulator(team1, team2):\n",
    "    \n",
    "    # Get team numbers for dictionary reference\n",
    "    team1_number = get_key(team1)\n",
    "    team2_number = get_key(team2)\n",
    "    \n",
    "    # Get Squad Percentages\n",
    "    S1_percent = squad_strength_dict[team1_number]['% of Points Taken']\n",
    "    S2_percent = squad_strength_dict[team2_number]['% of Points Taken']\n",
    "    \n",
    "    # Calculating Probability that S1 wins given the two squad percentages S2_prob = 1 - S1_prob\n",
    "    \n",
    "    S1_prob = ((S1_percent - (S1_percent*S2_percent)) / (S1_percent + S2_percent - (2 * S1_percent * S2_percent)))\n",
    "    \n",
    "    # Simulating match num_sims times, returns an array of 0 and 1, 1 = squad one wins\n",
    "    \n",
    "    match_results = np.random.binomial(n=1, p = S1_prob, size = num_sims)\n",
    "    \n",
    "    # Wins per num_sims\n",
    "    \n",
    "    S1_win_percent = np.mean(match_results)\n",
    "    \n",
    "    print(f\"{team1} Wins{S1_win_percent: .2%} of the time against {team2} across {num_sims} simulations.\")\n"
   ]
  },
  {
   "cell_type": "code",
   "execution_count": 19,
   "id": "932e74e0",
   "metadata": {},
   "outputs": [
    {
     "name": "stdout",
     "output_type": "stream",
     "text": [
      "England Wins 52.30% of the time against Brazil across 1000 simulations.\n"
     ]
    }
   ],
   "source": [
    "# Run on click?\n",
    "\n",
    "matchup_simulator('England','Brazil')"
   ]
  },
  {
   "cell_type": "code",
   "execution_count": 13,
   "id": "5f77f60d",
   "metadata": {},
   "outputs": [
    {
     "ename": "NameError",
     "evalue": "name 'team1_number' is not defined",
     "output_type": "error",
     "traceback": [
      "\u001b[1;31m---------------------------------------------------------------------------\u001b[0m",
      "\u001b[1;31mNameError\u001b[0m                                 Traceback (most recent call last)",
      "\u001b[1;32m~\\AppData\\Local\\Temp\\ipykernel_12452\\1247439019.py\u001b[0m in \u001b[0;36m<module>\u001b[1;34m\u001b[0m\n\u001b[1;32m----> 1\u001b[1;33m \u001b[0msquad_strength_dict\u001b[0m\u001b[1;33m[\u001b[0m\u001b[0mteam1_number\u001b[0m\u001b[1;33m]\u001b[0m\u001b[1;33m[\u001b[0m\u001b[1;34m'xGS'\u001b[0m\u001b[1;33m]\u001b[0m\u001b[1;33m\u001b[0m\u001b[1;33m\u001b[0m\u001b[0m\n\u001b[0m",
      "\u001b[1;31mNameError\u001b[0m: name 'team1_number' is not defined"
     ]
    }
   ],
   "source": [
    "squad_strength_dict[team1_number]['xGS']"
   ]
  },
  {
   "cell_type": "code",
   "execution_count": null,
   "id": "1eca0733",
   "metadata": {},
   "outputs": [],
   "source": []
  }
 ],
 "metadata": {
  "kernelspec": {
   "display_name": "mlenv",
   "language": "python",
   "name": "mlenv"
  },
  "language_info": {
   "codemirror_mode": {
    "name": "ipython",
    "version": 3
   },
   "file_extension": ".py",
   "mimetype": "text/x-python",
   "name": "python",
   "nbconvert_exporter": "python",
   "pygments_lexer": "ipython3",
   "version": "3.7.13"
  }
 },
 "nbformat": 4,
 "nbformat_minor": 5
}
