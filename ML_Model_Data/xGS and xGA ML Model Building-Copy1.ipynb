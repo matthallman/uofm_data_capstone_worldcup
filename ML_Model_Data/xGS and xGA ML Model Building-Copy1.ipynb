{
 "cells": [
  {
   "cell_type": "code",
   "execution_count": 2,
   "id": "06783381",
   "metadata": {},
   "outputs": [],
   "source": [
    "import numpy as np\n",
    "import pandas as pd\n",
    "from sklearn.preprocessing import StandardScaler\n",
    "from sklearn.model_selection import train_test_split\n",
    "import matplotlib.pyplot as plt\n",
    "\n",
    "#Initial CSV Read\n",
    "\n",
    "xGS_Total = pd.read_csv(r'CSVs\\International\\Int_xGS_Total.csv' ,encoding='latin-1')\n",
    "xGA_Total = pd.read_csv(r'CSVs\\International\\Int_xGA_Total.csv' ,encoding='latin-1')\n",
    "# loading linear algorithms\n",
    "from sklearn.linear_model import LinearRegression, ElasticNet, Lasso, Ridge\n",
    "\n",
    "# tree based algorithms\n",
    "from sklearn.tree import DecisionTreeRegressor\n",
    "from sklearn.ensemble import RandomForestRegressor, AdaBoostRegressor, ExtraTreesRegressor, GradientBoostingRegressor\n",
    "from lightgbm import LGBMRegressor\n",
    "from xgboost import XGBRegressor\n",
    "\n",
    "# machine learning processing and metrics\n",
    "from sklearn.model_selection import train_test_split\n",
    "from sklearn.preprocessing import MinMaxScaler, LabelEncoder\n",
    "from sklearn.metrics import mean_squared_error, r2_score, mean_absolute_error"
   ]
  },
  {
   "cell_type": "code",
   "execution_count": null,
   "id": "010fa69a",
   "metadata": {},
   "outputs": [],
   "source": []
  },
  {
   "cell_type": "code",
   "execution_count": 3,
   "id": "0f69522e",
   "metadata": {},
   "outputs": [],
   "source": [
    "# Get corrs between Gls and features\n",
    "xGS_corrs = abs(xGS_Total.corr())['Gls'].sort_values(ascending=False)\n",
    "xGA_corrs = abs(xGA_Total.corr())['O. Gls'].sort_values(ascending=False)"
   ]
  },
  {
   "cell_type": "code",
   "execution_count": 5,
   "id": "e2de851f",
   "metadata": {},
   "outputs": [
    {
     "data": {
      "text/plain": [
       "Gls        1.000000\n",
       "G/Sh       0.812597\n",
       "SoT        0.779099\n",
       "G/SoT      0.687219\n",
       "Sh         0.599977\n",
       "Poss       0.576907\n",
       "SoT%       0.506920\n",
       "PKatt      0.310739\n",
       "MP         0.285975\n",
       "O. CrdY    0.267001\n",
       "CrdY       0.264677\n",
       "Int        0.217464\n",
       "Year       0.166428\n",
       "CrdR       0.133139\n",
       "Fld        0.121539\n",
       "TklW       0.062697\n",
       "O. TklW    0.062034\n",
       "Age        0.048508\n",
       "Name: Gls, dtype: float64"
      ]
     },
     "execution_count": 5,
     "metadata": {},
     "output_type": "execute_result"
    }
   ],
   "source": [
    "# It looks like G/Sh is the highest correlated feature with Gls.\n",
    "xGS_corrs"
   ]
  },
  {
   "cell_type": "code",
   "execution_count": 4,
   "id": "8a4be8ed",
   "metadata": {
    "collapsed": true
   },
   "outputs": [
    {
     "data": {
      "text/plain": [
       "O. Gls      1.000000\n",
       "O. SoT      0.819783\n",
       "O. G/Sh     0.775568\n",
       "O. Sh       0.679150\n",
       "O. G/SoT    0.575009\n",
       "O. SoT%     0.542885\n",
       "O. Poss     0.538468\n",
       "CrdY        0.406690\n",
       "O. PKatt    0.330771\n",
       "O. CrdY     0.278928\n",
       "O. Int      0.178376\n",
       "O. CrdR     0.132090\n",
       "Year        0.099312\n",
       "TklW        0.084096\n",
       "O. Fld      0.073035\n",
       "O. MP       0.052627\n",
       "O. Age      0.045203\n",
       "O. TklW     0.016299\n",
       "Name: O. Gls, dtype: float64"
      ]
     },
     "execution_count": 4,
     "metadata": {},
     "output_type": "execute_result"
    }
   ],
   "source": [
    "xGA_corrs"
   ]
  },
  {
   "cell_type": "code",
   "execution_count": null,
   "id": "ebc493c3",
   "metadata": {},
   "outputs": [],
   "source": [
    "xGS_Total.columns"
   ]
  },
  {
   "cell_type": "code",
   "execution_count": 7,
   "id": "3b21816f",
   "metadata": {},
   "outputs": [],
   "source": [
    "# first ML model for XGS & xGA, dropping irrelevant features AND FEATURES THAT ARE VERY SIMILAR \n",
    "xGS_Column_Drop_List = ['Key','Year','Competition','Squad','Age','Sh','MP','G/SoT','CrdR','Fld','TklW','O. TklW','G/Sh']\n",
    "xGA_Column_Drop_List = ['Key','Year','Competition','Squad','O. Age','O. MP','O. G/SoT','O. CrdR','O. Fld', 'O. TklW', 'TklW','O. G/Sh']\n",
    "\n",
    "xGS_Model_1 = xGS_Total.drop(xGS_Column_Drop_List, axis=1)\n",
    "xGA_Model_1 = xGA_Total.drop(xGA_Column_Drop_List, axis=1)"
   ]
  },
  {
   "cell_type": "code",
   "execution_count": null,
   "id": "ab8ea69f",
   "metadata": {},
   "outputs": [],
   "source": [
    "# Scaling Remaining Features - removing Gls and Confederation when scaling, and adding back in\n",
    "\n",
    "xGS_Model_1_features = xGS_Model_1.drop(['Confederation','Gls'], axis=1)\n",
    "xGA_Model_1_features = xGA_Model_1.drop(['Confederation','O. Gls'], axis=1)\n",
    "\n",
    "#xGS_scaler = StandardScaler().fit(xGS_Model_1_features)\n",
    "#xGA_scaler = StandardScaler().fit(xGA_Model_1_features)\n",
    "\n",
    "\n",
    "#xGS_scaler_df = pd.DataFrame(xGS_scaler.transform(xGS_Model_1_features), columns = xGS_Model_1_features.columns)\n",
    "#xGA_scaler_df = pd.DataFrame(xGA_scaler.transform(xGA_Model_1_features), columns = xGA_Model_1_features.columns)\n",
    "\n",
    "xGS_scaler_df['Gls'] = xGS_Model_1['Gls']\n",
    "xGA_scaler_df['O. Gls'] = xGA_Model_1['O. Gls']\n",
    "xGS_scaler_df['Confederation'] = xGS_Model_1['Confederation']\n",
    "xGA_scaler_df['Confederation'] = xGA_Model_1['Confederation']"
   ]
  },
  {
   "cell_type": "code",
   "execution_count": 8,
   "id": "54a30b8a",
   "metadata": {},
   "outputs": [],
   "source": [
    "# Create final model variable and one-hot encode Confederation\n",
    "\n",
    "xGS_Model_1_Final = pd.get_dummies(xGS_Model_1, columns=['Confederation'])\n",
    "xGA_Model_1_Final = pd.get_dummies(xGA_Model_1, columns=['Confederation'])"
   ]
  },
  {
   "cell_type": "code",
   "execution_count": null,
   "id": "8f642b22",
   "metadata": {},
   "outputs": [],
   "source": [
    "xGS_Model_1_Final"
   ]
  },
  {
   "cell_type": "code",
   "execution_count": 9,
   "id": "a5a4833a",
   "metadata": {},
   "outputs": [],
   "source": [
    "# Get features and target for both models\n",
    "\n",
    "xGS_X = xGS_Model_1_Final.drop('Gls', axis=1).values\n",
    "xGS_y = xGS_Model_1_Final['Gls'].values\n",
    "\n",
    "xGA_X = xGA_Model_1_Final.drop('O. Gls', axis=1).values\n",
    "xGA_y = xGA_Model_1_Final['O. Gls']"
   ]
  },
  {
   "cell_type": "code",
   "execution_count": null,
   "id": "5830adad",
   "metadata": {},
   "outputs": [],
   "source": []
  },
  {
   "cell_type": "code",
   "execution_count": 10,
   "id": "363d0d09",
   "metadata": {},
   "outputs": [],
   "source": [
    "# Use the Sklearn `train_test_split()` function to split the data into training and testing data\n",
    "xGS_X_train, xGS_X_test, xGS_y_train, xGS_y_test = train_test_split(xGS_X, xGS_y, random_state=42, test_size=.25)\n",
    "\n",
    "# Use the Sklearn `train_test_split()` function to split the data into training and testing data\n",
    "xGA_X_train, xGA_X_test, xGA_y_train, xGA_y_test = train_test_split(xGA_X, xGA_y, random_state=42, test_size=.25)"
   ]
  },
  {
   "cell_type": "code",
   "execution_count": 11,
   "id": "09b9207a",
   "metadata": {},
   "outputs": [],
   "source": [
    "# Evaluate Model function\n",
    "\n",
    "def evaluateModel(model, X_train, y_train, X_test, y_test):\n",
    "    # FIT THE MODEL\n",
    "    model.fit(X_train, y_train)\n",
    "\n",
    "    # EVALUATE the MODEL\n",
    "    train_preds = model.predict(X_train)\n",
    "    test_preds = model.predict(X_test)\n",
    "\n",
    "    # PRINT the METRICS\n",
    "    print(\"TRAINING SET\")\n",
    "\n",
    "    # Score the prediction with MSE and R2\n",
    "    mse_train = np.sqrt(mean_squared_error(y_train, train_preds))\n",
    "    r2_train = r2_score(y_train, train_preds)\n",
    "    mae_train = mean_absolute_error(y_train, train_preds)\n",
    "\n",
    "    print(f\"root mean squared error (RMSE): {mse_train}\")\n",
    "    print(f\"R-squared (R2 ): {r2_train}\")\n",
    "    print(f\"MAE {mae_train}\")\n",
    "\n",
    "    print()\n",
    "\n",
    "    # PRINT the METRICS\n",
    "    print(\"Testing SET\")\n",
    "\n",
    "    # Score the prediction with MSE and R2\n",
    "    mse_test = np.sqrt(mean_squared_error(y_test, test_preds))\n",
    "    r2_test = r2_score(y_test, test_preds)\n",
    "    mae_test = mean_absolute_error(y_test, test_preds)\n",
    "\n",
    "    print(f\"root mean squared error (RMSE): {mse_test}\")\n",
    "    print(f\"R-squared (R2 ): {r2_test}\")\n",
    "    print(f\"MAE {mae_test}\")\n",
    "    \n",
    "    plt.figure(figsize=(10,6))\n",
    "    plt.scatter(y_test, test_preds)\n",
    "    plt.title(\"Actual vs Predicted Plot\")\n",
    "    plt.xlabel(\"Actual\")\n",
    "    plt.ylabel(\"Predicted\")\n",
    "    plt.plot(y_test, y_test)\n",
    "    plt.show()\n",
    "    \n",
    "    # Plot Residuals\n",
    "    plt.figure(figsize=(10,6))\n",
    "    plt.scatter(test_preds, test_preds - y_test)\n",
    "    plt.hlines(y=0, xmin=test_preds.min(), xmax=test_preds.max(), color=\"r\")\n",
    "    plt.title(\"Residuals\")\n",
    "    plt.xlabel(\"Prediction\")\n",
    "    plt.ylabel(\"Error\")\n",
    "    plt.show()\n",
    "\n",
    "    return(model)"
   ]
  },
  {
   "cell_type": "code",
   "execution_count": null,
   "id": "414d5b6d",
   "metadata": {},
   "outputs": [],
   "source": [
    "# xGS Model EXPLORATION:"
   ]
  },
  {
   "cell_type": "code",
   "execution_count": 12,
   "id": "4e081591",
   "metadata": {
    "scrolled": true
   },
   "outputs": [
    {
     "name": "stdout",
     "output_type": "stream",
     "text": [
      "TRAINING SET\n",
      "root mean squared error (RMSE): 0.39145543711434994\n",
      "R-squared (R2 ): 0.6742001336548774\n",
      "MAE 0.30511229088731723\n",
      "\n",
      "Testing SET\n",
      "root mean squared error (RMSE): 0.41169773426174544\n",
      "R-squared (R2 ): 0.6187569578635318\n",
      "MAE 0.30596102115711266\n"
     ]
    },
    {
     "data": {
      "image/png": "[encoded data removed]",
      "text/plain": [
       "<Figure size 720x432 with 1 Axes>"
      ]
     },
     "metadata": {
      "needs_background": "light"
     },
     "output_type": "display_data"
    },
    {
     "data": {
      "image/png": "[encoded data removed]",
      "text/plain": [
       "<Figure size 720x432 with 1 Axes>"
      ]
     },
     "metadata": {
      "needs_background": "light"
     },
     "output_type": "display_data"
    }
   ],
   "source": [
    "lr = LinearRegression()\n",
    "lr = evaluateModel(lr, xGS_X_train, xGS_y_train, xGS_X_test, xGS_y_test)"
   ]
  },
  {
   "cell_type": "code",
   "execution_count": null,
   "id": "855a3a66",
   "metadata": {},
   "outputs": [],
   "source": [
    "ridge = Ridge()\n",
    "ridge = evaluateModel(ridge, xGS_X_train, xGS_y_train, xGS_X_test, xGS_y_test)"
   ]
  },
  {
   "cell_type": "code",
   "execution_count": null,
   "id": "86886580",
   "metadata": {
    "scrolled": true
   },
   "outputs": [],
   "source": [
    "# Elastic net, DecisionTreeRegressor, "
   ]
  },
  {
   "cell_type": "code",
   "execution_count": null,
   "id": "59c05e42",
   "metadata": {},
   "outputs": [],
   "source": [
    "rf = RandomForestRegressor()\n",
    "rf = evaluateModel(rf, xGS_X_train, xGS_y_train, xGS_X_test, xGS_y_test)"
   ]
  },
  {
   "cell_type": "code",
   "execution_count": null,
   "id": "37c2948f",
   "metadata": {},
   "outputs": [],
   "source": [
    "ada = AdaBoostRegressor(random_state=42)\n",
    "ada = evaluateModel(ada, xGS_X_train, xGS_y_train, xGS_X_test, xGS_y_test)"
   ]
  },
  {
   "cell_type": "code",
   "execution_count": 14,
   "id": "3343fcda",
   "metadata": {},
   "outputs": [
    {
     "name": "stdout",
     "output_type": "stream",
     "text": [
      "TRAINING SET\n",
      "root mean squared error (RMSE): 0.06983147686529075\n",
      "R-squared (R2 ): 0.9896321502043044\n",
      "MAE 0.052496035592396885\n",
      "\n",
      "Testing SET\n",
      "root mean squared error (RMSE): 0.43068597811726206\n",
      "R-squared (R2 ): 0.5827787328070536\n",
      "MAE 0.3284721441013972\n"
     ]
    },
    {
     "data": {
      "image/png": "[encoded data removed]",
      "text/plain": [
       "<Figure size 720x432 with 1 Axes>"
      ]
     },
     "metadata": {
      "needs_background": "light"
     },
     "output_type": "display_data"
    },
    {
     "data": {
      "image/png": "[encoded data removed]",
      "text/plain": [
       "<Figure size 720x432 with 1 Axes>"
      ]
     },
     "metadata": {
      "needs_background": "light"
     },
     "output_type": "display_data"
    }
   ],
   "source": [
    "gb = GradientBoostingRegressor(random_state=42, n_estimators=600, learning_rate=.05)\n",
    "gb = evaluateModel(gb, xGS_X_train, xGS_y_train, xGS_X_test, xGS_y_test)"
   ]
  },
  {
   "cell_type": "code",
   "execution_count": null,
   "id": "714abb08",
   "metadata": {},
   "outputs": [],
   "source": [
    "xgb = XGBRegressor(random_state=42)\n",
    "xgb = evaluateModel(xgb, xGS_X_train, xGS_y_train, xGS_X_test, xGS_y_test)"
   ]
  },
  {
   "cell_type": "code",
   "execution_count": 15,
   "id": "4f78a1fa",
   "metadata": {},
   "outputs": [
    {
     "name": "stdout",
     "output_type": "stream",
     "text": [
      "TRAINING SET\n",
      "root mean squared error (RMSE): 0.14596195088406572\n",
      "R-squared (R2 ): 0.9547034045161703\n",
      "MAE 0.1094153633217995\n",
      "\n",
      "Testing SET\n",
      "root mean squared error (RMSE): 0.4499220748108076\n",
      "R-squared (R2 ): 0.5446770132043621\n",
      "MAE 0.3447492783505154\n"
     ]
    },
    {
     "data": {
      "image/png": "[encoded data removed]",
      "text/plain": [
       "<Figure size 720x432 with 1 Axes>"
      ]
     },
     "metadata": {
      "needs_background": "light"
     },
     "output_type": "display_data"
    },
    {
     "data": {
      "image/png": "[encoded data removed]",
      "text/plain": [
       "<Figure size 720x432 with 1 Axes>"
      ]
     },
     "metadata": {
      "needs_background": "light"
     },
     "output_type": "display_data"
    }
   ],
   "source": [
    "rf = RandomForestRegressor(n_estimators = 250)\n",
    "rf = evaluateModel(rf, xGS_X_train, xGS_y_train, xGS_X_test, xGS_y_test)"
   ]
  },
  {
   "cell_type": "code",
   "execution_count": null,
   "id": "e4038e8c",
   "metadata": {},
   "outputs": [],
   "source": [
    "lgbm = LGBMRegressor(random_state=42)\n",
    "lgbm = evaluateModel(lgbm, xGS_X_train, xGS_y_train, xGS_X_test, xGS_y_test)"
   ]
  },
  {
   "cell_type": "code",
   "execution_count": 16,
   "id": "c968854c",
   "metadata": {},
   "outputs": [
    {
     "name": "stdout",
     "output_type": "stream",
     "text": [
      "TRAINING SET\n",
      "root mean squared error (RMSE): 0.2128623847753553\n",
      "R-squared (R2 ): 0.9339266832446738\n",
      "MAE 0.16489484973861987\n",
      "\n",
      "Testing SET\n",
      "root mean squared error (RMSE): 0.5248589356086777\n",
      "R-squared (R2 ): 0.6574563402267326\n",
      "MAE 0.39072438352733485\n"
     ]
    },
    {
     "data": {
      "image/png": "[encoded data removed]",
      "text/plain": [
       "<Figure size 720x432 with 1 Axes>"
      ]
     },
     "metadata": {
      "needs_background": "light"
     },
     "output_type": "display_data"
    },
    {
     "data": {
      "image/png": "[encoded data removed]",
      "text/plain": [
       "<Figure size 720x432 with 1 Axes>"
      ]
     },
     "metadata": {
      "needs_background": "light"
     },
     "output_type": "display_data"
    }
   ],
   "source": [
    "gb = GradientBoostingRegressor(random_state=42)\n",
    "gb = evaluateModel(gb, xGA_X_train, xGA_y_train, xGA_X_test, xGA_y_test)"
   ]
  },
  {
   "cell_type": "code",
   "execution_count": null,
   "id": "4abc38ae",
   "metadata": {},
   "outputs": [],
   "source": [
    "lr = LinearRegression()\n",
    "lr = evaluateModel(lr, xGA_X_train, xGA_y_train, xGA_X_test, xGA_y_test)"
   ]
  },
  {
   "cell_type": "code",
   "execution_count": null,
   "id": "a6d1a659",
   "metadata": {},
   "outputs": [],
   "source": [
    "xGS_Total.columns"
   ]
  },
  {
   "cell_type": "code",
   "execution_count": null,
   "id": "efe01054",
   "metadata": {},
   "outputs": [],
   "source": [
    "xGA_Total.columns"
   ]
  },
  {
   "cell_type": "code",
   "execution_count": null,
   "id": "5686c4df",
   "metadata": {},
   "outputs": [],
   "source": [
    "# Second Model Attempt - Keeping similar metrics in to see if predictive abilities increase\n",
    "\n",
    " \n",
    "xGS_Column_Drop_List2 = ['Key','Year','Competition','Squad','Age','MP','G/SoT','TklW','O. TklW','G/Sh']\n",
    "xGA_Column_Drop_List2 = ['Key','Year','Competition','Squad','O. Age','O. MP','O. G/SoT','O. Fld', 'O. TklW', 'TklW','O. G/Sh']\n",
    "\n",
    "xGS_Model_2 = xGS_Total.drop(xGS_Column_Drop_List2, axis=1)\n",
    "xGA_Model_2 = xGA_Total.drop(xGA_Column_Drop_List2, axis=1)"
   ]
  },
  {
   "cell_type": "code",
   "execution_count": null,
   "id": "b09f0312",
   "metadata": {},
   "outputs": [],
   "source": [
    "xGS_Model_2"
   ]
  },
  {
   "cell_type": "code",
   "execution_count": null,
   "id": "bef7faba",
   "metadata": {},
   "outputs": [],
   "source": [
    "xGA_corrs"
   ]
  },
  {
   "cell_type": "code",
   "execution_count": null,
   "id": "43e92887",
   "metadata": {},
   "outputs": [],
   "source": [
    "xGA_Model_2"
   ]
  },
  {
   "cell_type": "code",
   "execution_count": null,
   "id": "52fe33fd",
   "metadata": {},
   "outputs": [],
   "source": [
    "# Scaling Remaining Features - removing Gls and Confederation when scaling, and adding back in\n",
    "\n",
    "xGS_Model_2_features = xGS_Model_2.drop(['Confederation','Gls'], axis=1)\n",
    "xGA_Model_2_features = xGA_Model_2.drop(['Confederation','O. Gls'], axis=1)\n",
    "\n",
    "#xGS_scaler2 = StandardScaler().fit(xGS_Model_2_features)\n",
    "#xGA_scaler2 = StandardScaler().fit(xGA_Model_2_features)\n",
    "\n",
    "\n",
    "#xGS_scaler_df2 = pd.DataFrame(xGS_scaler2.transform(xGS_Model_2_features), columns = xGS_Model_2_features.columns)\n",
    "#xGA_scaler_df2 = pd.DataFrame(xGA_scaler2.transform(xGA_Model_2_features), columns = xGA_Model_2_features.columns)\n",
    "\n",
    "xGS_scaler_df2['Gls'] = xGS_Model_2['Gls']\n",
    "xGA_scaler_df2['O. Gls'] = xGA_Model_2['O. Gls']\n",
    "xGS_scaler_df2['Confederation'] = xGS_Model_2['Confederation']\n",
    "xGA_scaler_df2['Confederation'] = xGA_Model_2['Confederation']"
   ]
  },
  {
   "cell_type": "code",
   "execution_count": null,
   "id": "c9f13e31",
   "metadata": {},
   "outputs": [],
   "source": [
    "# Create final model variable and one-hot encode Confederation\n",
    "\n",
    "xGS_Model_2_Final = pd.get_dummies(xGS_Model_2, columns=['Confederation'])\n",
    "xGA_Model_2_Final = pd.get_dummies(xGA_Model_2, columns=['Confederation'])"
   ]
  },
  {
   "cell_type": "code",
   "execution_count": null,
   "id": "905df5c5",
   "metadata": {},
   "outputs": [],
   "source": [
    "# Get features and target for both models\n",
    "\n",
    "xGS_X2 = xGS_Model_2_Final.drop('Gls', axis=1).values\n",
    "xGS_y2 = xGS_Model_2_Final['Gls'].values\n",
    "\n",
    "xGA_X2 = xGA_Model_2_Final.drop('O. Gls', axis=1).values\n",
    "xGA_y2 = xGA_Model_2_Final['O. Gls']"
   ]
  },
  {
   "cell_type": "code",
   "execution_count": null,
   "id": "df1e5c86",
   "metadata": {},
   "outputs": [],
   "source": [
    "# Use the Sklearn `train_test_split()` function to split the data into training and testing data\n",
    "xGS_X_train2, xGS_X_test2, xGS_y_train2, xGS_y_test2 = train_test_split(xGS_X2, xGS_y2, random_state=42, test_size=.1)\n",
    "\n",
    "# Use the Sklearn `train_test_split()` function to split the data into training and testing data\n",
    "xGA_X_train2, xGA_X_test2, xGA_y_train2, xGA_y_test2 = train_test_split(xGA_X2, xGA_y2, random_state=42, test_size=.1)"
   ]
  },
  {
   "cell_type": "code",
   "execution_count": null,
   "id": "e54e2f23",
   "metadata": {},
   "outputs": [],
   "source": [
    "lr = LinearRegression()\n",
    "lr = evaluateModel(lr, xGS_X_train2, xGS_y_train2, xGS_X_test2, xGS_y_test2)"
   ]
  },
  {
   "cell_type": "code",
   "execution_count": null,
   "id": "cc3200b5",
   "metadata": {},
   "outputs": [],
   "source": [
    "en = ElasticNet()\n",
    "en = evaluateModel(en,xGS_X_train2, xGS_y_train2, xGS_X_test2, xGS_y_test2)"
   ]
  },
  {
   "cell_type": "code",
   "execution_count": null,
   "id": "54de8d66",
   "metadata": {},
   "outputs": [],
   "source": [
    "gb = GradientBoostingRegressor(random_state=42, n_estimators=600, learning_rate=.05)\n",
    "gb = evaluateModel(gb, xGS_X_train2, xGS_y_train2, xGS_X_test2, xGS_y_test2)"
   ]
  },
  {
   "cell_type": "code",
   "execution_count": null,
   "id": "efcd7408",
   "metadata": {},
   "outputs": [],
   "source": [
    "lgbm = LGBMRegressor(random_state=42)\n",
    "lgbm = evaluateModel(lgbm, xGS_X_train2, xGS_y_train2, xGS_X_test2, xGS_y_test2)"
   ]
  },
  {
   "cell_type": "code",
   "execution_count": null,
   "id": "5b8e8318",
   "metadata": {},
   "outputs": [],
   "source": [
    "xgb = XGBRegressor(random_state=42)\n",
    "xgb = evaluateModel(xgb, xGS_X_train2, xGS_y_train2, xGS_X_test2, xGS_y_test2)"
   ]
  },
  {
   "cell_type": "code",
   "execution_count": null,
   "id": "3caaed66",
   "metadata": {},
   "outputs": [],
   "source": [
    "ridge = Ridge()\n",
    "ridge = evaluateModel(ridge, xGS_X_train2, xGS_y_train2, xGS_X_test2, xGS_y_test2)"
   ]
  },
  {
   "cell_type": "code",
   "execution_count": null,
   "id": "02a4fdff",
   "metadata": {},
   "outputs": [],
   "source": []
  },
  {
   "cell_type": "code",
   "execution_count": null,
   "id": "54042c40",
   "metadata": {},
   "outputs": [],
   "source": [
    "ada = AdaBoostRegressor(random_state=42)\n",
    "ada = evaluateModel(ada, xGS_X_train2, xGS_y_train2, xGS_X_test2, xGS_y_test2)"
   ]
  },
  {
   "cell_type": "code",
   "execution_count": null,
   "id": "091cd66b",
   "metadata": {},
   "outputs": [],
   "source": [
    "rf = RandomForestRegressor()\n",
    "rf = evaluateModel(rf, xGS_X_train2, xGS_y_train2, xGS_X_test2, xGS_y_test2)"
   ]
  },
  {
   "cell_type": "code",
   "execution_count": null,
   "id": "82e3b478",
   "metadata": {},
   "outputs": [],
   "source": [
    "rf = RandomForestRegressor(n_estimators = 250)\n",
    "rf = evaluateModel(rf, xGS_X_train2, xGS_y_train2, xGS_X_test2, xGS_y_test2)"
   ]
  },
  {
   "cell_type": "code",
   "execution_count": null,
   "id": "056f2083",
   "metadata": {},
   "outputs": [],
   "source": [
    "from pprint import pprint\n",
    "# Look at parameters used by our current forest\n",
    "print('Parameters currently in use:\\n')\n",
    "pprint(rf.get_params())"
   ]
  },
  {
   "cell_type": "code",
   "execution_count": null,
   "id": "3addc2de",
   "metadata": {},
   "outputs": [],
   "source": []
  },
  {
   "cell_type": "code",
   "execution_count": null,
   "id": "c03a1128",
   "metadata": {},
   "outputs": [],
   "source": [
    "# xGA Model 2 Exploration\n",
    "lr = LinearRegression()\n",
    "lr = evaluateModel(lr, xGA_X_train2, xGA_y_train2, xGA_X_test2, xGA_y_test2)"
   ]
  },
  {
   "cell_type": "code",
   "execution_count": null,
   "id": "b1ba5f1f",
   "metadata": {},
   "outputs": [],
   "source": [
    "lgbm = LGBMRegressor(random_state=42)\n",
    "lgbm = evaluateModel(lgbm, xGA_X_train2, xGA_y_train2, xGA_X_test2, xGA_y_test2)"
   ]
  },
  {
   "cell_type": "code",
   "execution_count": null,
   "id": "b7551d89",
   "metadata": {},
   "outputs": [],
   "source": [
    "ridge = Ridge()\n",
    "ridge = evaluateModel(ridge, xGA_X_train2, xGA_y_train2, xGA_X_test2, xGA_y_test2)"
   ]
  },
  {
   "cell_type": "code",
   "execution_count": null,
   "id": "b24e0646",
   "metadata": {},
   "outputs": [],
   "source": [
    "# Final Ridge Models\n",
    "lasso_xGS =  ridge.fit(xGS_X2,xGS_y2)\n",
    "lasso_xGA = ridge.fit(xGA_X2, xGA_y2)"
   ]
  },
  {
   "cell_type": "code",
   "execution_count": null,
   "id": "ce224620",
   "metadata": {},
   "outputs": [],
   "source": [
    "# xGS and xGA Preds using ridge regeression on second model\n",
    "\n",
    "xGS_Preds = lasso_xGS.predict()\n",
    "xGA_Preds = lasso_xGA.predict(xGA_y2)"
   ]
  },
  {
   "cell_type": "code",
   "execution_count": null,
   "id": "81854195",
   "metadata": {},
   "outputs": [],
   "source": [
    "gb = GradientBoostingRegressor(random_state=42, n_estimators=400)\n",
    "gb = evaluateModel(gb, xGA_X_train2, xGA_y_train2, xGA_X_test2, xGA_y_test2)"
   ]
  },
  {
   "cell_type": "code",
   "execution_count": null,
   "id": "b301804d",
   "metadata": {},
   "outputs": [],
   "source": [
    "rf = RandomForestRegressor(n_estimators = 400)\n",
    "rf = evaluateModel(rf, xGA_X_train2, xGA_y_train2, xGA_X_test2, xGA_y_test2)"
   ]
  },
  {
   "cell_type": "code",
   "execution_count": null,
   "id": "1ee162e6",
   "metadata": {},
   "outputs": [],
   "source": [
    "gb = GradientBoostingRegressor(random_state=42, n_estimators=600, learning_rate=.05)\n",
    "gb = evaluateModel(gb, xGA_X_train2, xGA_y_train2, xGA_X_test2, xGA_y_test2)"
   ]
  },
  {
   "cell_type": "code",
   "execution_count": null,
   "id": "0e177e66",
   "metadata": {},
   "outputs": [],
   "source": [
    "ridge = Ridge()\n",
    "ridge = evaluateModel(ridge, xGA_X_train2, xGA_y_train2, xGA_X_test2, xGA_y_test2)"
   ]
  },
  {
   "cell_type": "code",
   "execution_count": null,
   "id": "bfb64fbb",
   "metadata": {},
   "outputs": [],
   "source": []
  }
 ],
 "metadata": {
  "kernelspec": {
   "display_name": "mlenv",
   "language": "python",
   "name": "mlenv"
  },
  "language_info": {
   "codemirror_mode": {
    "name": "ipython",
    "version": 3
   },
   "file_extension": ".py",
   "mimetype": "text/x-python",
   "name": "python",
   "nbconvert_exporter": "python",
   "pygments_lexer": "ipython3",
   "version": "3.7.13"
  }
 },
 "nbformat": 4,
 "nbformat_minor": 5
}
